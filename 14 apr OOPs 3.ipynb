{
 "cells": [
  {
   "cell_type": "code",
   "execution_count": 1,
   "id": "7f576814-2f61-49bf-8a8c-61b692917948",
   "metadata": {},
   "outputs": [],
   "source": [
    "# OOPS --> \n",
    "\n",
    "# Encapsulation --> is refers to bundling the data.and methods that work of the data into a single unit usually a class.\n",
    "\n",
    "# How encapsulation works!\n",
    "\n",
    "#  1) public attributes --> directly accesssible.(self.name)\n",
    "#  2) private attributes --> do not access directly and indentification is __(double underscore)\n",
    "\n",
    "# Why is encapsulation important ? \n",
    "\n",
    "# it is imp coz ,it improves data security. by restricting an autorized access. it promotes modularity by heading \n",
    "# implementation details. it unable control over the data by providing controlled access thorough method, it inhances\n",
    "# code maintainability and reuseablity by protecting data from unintended modifications."
   ]
  },
  {
   "cell_type": "code",
   "execution_count": 7,
   "id": "91bc2991-4a14-4ada-b098-4031b9ab0dba",
   "metadata": {},
   "outputs": [
    {
     "name": "stdout",
     "output_type": "stream",
     "text": [
      " Name of employee is: hardik and salary is : 200000\n",
      "hardik\n"
     ]
    },
    {
     "ename": "AttributeError",
     "evalue": "'employee' object has no attribute '__salary'",
     "output_type": "error",
     "traceback": [
      "\u001b[1;31m---------------------------------------------------------------------------\u001b[0m",
      "\u001b[1;31mAttributeError\u001b[0m                            Traceback (most recent call last)",
      "Cell \u001b[1;32mIn[7], line 13\u001b[0m\n\u001b[0;32m     10\u001b[0m a\u001b[38;5;241m.\u001b[39mgetinfo()\n\u001b[0;32m     11\u001b[0m \u001b[38;5;28mprint\u001b[39m(a\u001b[38;5;241m.\u001b[39mname)\n\u001b[1;32m---> 13\u001b[0m \u001b[38;5;28mprint\u001b[39m(a\u001b[38;5;241m.\u001b[39m__salary)\n",
      "\u001b[1;31mAttributeError\u001b[0m: 'employee' object has no attribute '__salary'"
     ]
    }
   ],
   "source": [
    "class employee:\n",
    "    def __init__(self,name,salary):\n",
    "        self.name = name             # public attribute\n",
    "        self.__salary = salary       # private attribute\n",
    "\n",
    "    def getinfo(self):\n",
    "        print( f\" Name of employee is: {self.name} and salary is : {self.__salary}\")\n",
    "\n",
    "a = employee('hardik',200000)\n",
    "a.getinfo()\n",
    "print(a.name)\n",
    "\n",
    "print(a.__salary) -->   # can't access the private attribute directly u have to store in another func and \n",
    "                    #  then fetch out(getter,setter)"
   ]
  },
  {
   "cell_type": "markdown",
   "id": "b49010eb-3b4b-424f-906a-62cdd6ef921a",
   "metadata": {},
   "source": [
    "# Example 1: Bank Account"
   ]
  },
  {
   "cell_type": "code",
   "execution_count": 20,
   "id": "278cdbf6-2e7f-4f62-ac63-34390e838b58",
   "metadata": {},
   "outputs": [
    {
     "name": "stdout",
     "output_type": "stream",
     "text": [
      "hardik\n",
      "5000\n",
      " deposit successful! New balance: 6000\n",
      "withdrawal successful! new balance:4000\n"
     ]
    }
   ],
   "source": [
    "class bankaccount:\n",
    "    def __init__(self,account_holder,balance):\n",
    "        self.__account_holder = account_holder\n",
    "        self.__balance = balance\n",
    "\n",
    "    def get_account_holder(self):\n",
    "        return self.__account_holder\n",
    "\n",
    "    def get_balance(self):\n",
    "        return self.__balance\n",
    "\n",
    "    def deposit(self,amount):\n",
    "        if amount > 0:\n",
    "            self.__balance += amount\n",
    "            return f\" deposit successful! New balance: {self.__balance}\"\n",
    "        else:\n",
    "            return \"Invalid deposit amount!\"\n",
    "\n",
    "    def withdraw(self,amount):\n",
    "        if amount <= self.__balance:\n",
    "            self.__balance -= amount\n",
    "            return f\"withdrawal successful! new balance:{self.__balance}\"\n",
    "\n",
    "        else:\n",
    "            return \"insufficient funds!\"\n",
    "        \n",
    "\n",
    "account = bankaccount('hardik',5000)\n",
    "print(account.get_account_holder())\n",
    "print(account.get_balance())\n",
    "print(account.deposit(1000))\n",
    "print(account.withdraw(2000))\n",
    "\n"
   ]
  },
  {
   "cell_type": "markdown",
   "id": "1a984076-91ff-48d1-98b3-9a05e2ff1f45",
   "metadata": {},
   "source": [
    "# Example 2: Student Data"
   ]
  },
  {
   "cell_type": "code",
   "execution_count": 29,
   "id": "88825439-af54-42c9-b73c-d972ed84a012",
   "metadata": {},
   "outputs": [
    {
     "name": "stdout",
     "output_type": "stream",
     "text": [
      "rohit\n",
      "85\n",
      " grade updated successfully\n",
      "75\n",
      " invalid grade! must be between 0 and 100\n"
     ]
    }
   ],
   "source": [
    "class student:\n",
    "    def __init__(self,name,grade):\n",
    "        self.name = name \n",
    "        self.__grade = grade\n",
    "\n",
    "    # getter for grade ,coz it was private atrribute\n",
    "    def get_grade(self):\n",
    "        return self.__grade\n",
    "\n",
    "    #setter for grade (with validation)\n",
    "    def set_grade(self,new_grade):\n",
    "        if 0 <= new_grade <= 100:\n",
    "            self.__grade = new_grade\n",
    "            return \" grade updated successfully\"\n",
    "        else:\n",
    "            return \" invalid grade! must be between 0 and 100\"\n",
    "\n",
    "# using the class\n",
    "student = student(\"rohit\",85)\n",
    "print(student.name)\n",
    "print(student.get_grade())\n",
    "print(student.set_grade(75))\n",
    "print(student.get_grade())\n",
    "\n",
    "# attempt to set an invalid grade\n",
    "\n",
    "print(student.set_grade(150))  #o/p : invalid\n",
    "        \n"
   ]
  },
  {
   "cell_type": "markdown",
   "id": "4c1b65c1-5329-4de6-8ed8-dd09143150c8",
   "metadata": {},
   "source": [
    "# Case Study 1: Healthcare System (Patient record Management)\n"
   ]
  },
  {
   "cell_type": "markdown",
   "id": "4a2591d8-1cc4-477d-813c-0904b41cd7ea",
   "metadata": {},
   "source": [
    "Problem : develop a system for managing patient record in a hospital where"
   ]
  },
  {
   "cell_type": "markdown",
   "id": "ca55bd95-a160-4e3e-b41e-dad4a6f90b81",
   "metadata": {},
   "source": [
    "patient details (name,age and medical history) should be private"
   ]
  },
  {
   "cell_type": "markdown",
   "id": "e4b67926-beea-46bc-adf2-aa8c4912d2c5",
   "metadata": {},
   "source": [
    "only authorized methods can retrieve or update medical history"
   ]
  },
  {
   "cell_type": "markdown",
   "id": "2f8db20c-1409-4b9f-b3a2-ddb3adfc5d97",
   "metadata": {},
   "source": [
    "provide a method to add new medical records while keeping prevoius data secure"
   ]
  },
  {
   "cell_type": "code",
   "execution_count": 48,
   "id": "5f62371f-3ba1-493f-847c-94492dcbe123",
   "metadata": {},
   "outputs": [
    {
     "name": "stdout",
     "output_type": "stream",
     "text": [
      "medical record added for rohit\n",
      "medical record added for rohit\n",
      "medical record added for rohit\n",
      "medical history for rohit: ['2024: flu diagnosis', '2024: blood test result normal', '2024: covid']\n"
     ]
    }
   ],
   "source": [
    "class patient:\n",
    "    def __init__(self,name,age):\n",
    "        self.__name = name\n",
    "        self.__age = age\n",
    "        self.__medical_history = []\n",
    "\n",
    "    def add_medical_record(self,record):\n",
    "        self.__medical_history.append(record)\n",
    "        return f\"medical record added for {self.__name}\"\n",
    "\n",
    "    def get_medical_history(self):\n",
    "        return f\"medical history for {self.__name}: {self.__medical_history}\"\n",
    "\n",
    "Patient = patient(\"rohit\",30)\n",
    "print(Patient.add_medical_record(\"2024: flu diagnosis\"))\n",
    "print(Patient.add_medical_record(\"2024: blood test result normal\"))\n",
    "print(Patient.add_medical_record(\"2024: covid\"))\n",
    "print(Patient.get_medical_history())"
   ]
  },
  {
   "cell_type": "code",
   "execution_count": null,
   "id": "364a9a07-b341-430a-9806-a01687d463e9",
   "metadata": {},
   "outputs": [],
   "source": []
  }
 ],
 "metadata": {
  "kernelspec": {
   "display_name": "Python 3 (ipykernel)",
   "language": "python",
   "name": "python3"
  },
  "language_info": {
   "codemirror_mode": {
    "name": "ipython",
    "version": 3
   },
   "file_extension": ".py",
   "mimetype": "text/x-python",
   "name": "python",
   "nbconvert_exporter": "python",
   "pygments_lexer": "ipython3",
   "version": "3.12.4"
  }
 },
 "nbformat": 4,
 "nbformat_minor": 5
}
