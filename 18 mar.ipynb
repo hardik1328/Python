{
 "cells": [
  {
   "cell_type": "code",
   "execution_count": 29,
   "id": "6881006d-32db-4180-b710-b91e8d0f99a7",
   "metadata": {},
   "outputs": [
    {
     "name": "stdout",
     "output_type": "stream",
     "text": [
      "0 0\n",
      "0 1\n",
      "0 2\n",
      "0 4\n",
      "0 7\n",
      "0 14\n",
      "0 28\n",
      "----\n",
      "1 1\n",
      "1 2\n",
      "1 4\n",
      "1 7\n",
      "1 14\n",
      "1 28\n",
      "----\n",
      "2 2\n",
      "2 4\n",
      "2 7\n",
      "2 14\n",
      "2 28\n",
      "----\n",
      "3 4\n",
      "3 7\n",
      "3 14\n",
      "3 28\n",
      "----\n",
      "4 7\n",
      "4 14\n",
      "4 28\n",
      "----\n",
      "5 14\n",
      "5 28\n",
      "----\n",
      "6 28\n",
      "----\n"
     ]
    }
   ],
   "source": [
    "mylist = [0,1,2,4,7,14,28]\n",
    "for index in range(0,len(mylist)):\n",
    "    print(index,mylist[index])\n",
    "\n",
    "    for j in range(index+1,len(mylist)):\n",
    "        print(index,mylist[j])\n",
    "    print(\"----\")\n",
    "        "
   ]
  },
  {
   "cell_type": "code",
   "execution_count": 25,
   "id": "4c327dd4-34d0-4020-af65-ed29b02e692d",
   "metadata": {},
   "outputs": [
    {
     "name": "stdout",
     "output_type": "stream",
     "text": [
      "----\n",
      "----\n",
      "2 7\n",
      "----\n",
      "----\n",
      "----\n",
      "----\n",
      "----\n"
     ]
    }
   ],
   "source": [
    "mylist = [0,1,2,4,7,14,28]\n",
    "target=9\n",
    "for index in range(0,len(mylist)):\n",
    "   \n",
    "\n",
    "    for j in range(index+1,len(mylist)):\n",
    "        if(mylist[index] + mylist[j] == target):\n",
    "            print(mylist[index] , mylist[j])          # this take to much time and this is called time complexity so we \n",
    "                                                      #  go for the one loop\n",
    "    print(\"----\")\n",
    "            \n",
    "    \n",
    "        "
   ]
  },
  {
   "cell_type": "code",
   "execution_count": 39,
   "id": "b7cc9346-607b-4024-a49b-07db27b4ba80",
   "metadata": {},
   "outputs": [
    {
     "name": "stdout",
     "output_type": "stream",
     "text": [
      "2 7\n"
     ]
    }
   ],
   "source": [
    "mylist = [0,1,2,4,7,14,28]\n",
    "start = 0\n",
    "end = len(mylist)-1\n",
    "target = 9\n",
    "while(start < end):\n",
    "    if(mylist[start] + mylist[end] ==target):\n",
    "        print(mylist[start] , mylist[end])\n",
    "        break\n",
    "    elif(mylist[start] + mylist[end] >target):\n",
    "        end -=1\n",
    "    else:\n",
    "        start += 1"
   ]
  },
  {
   "cell_type": "code",
   "execution_count": 49,
   "id": "3b4f093c-a7fb-47f2-aadc-ef45b333d07a",
   "metadata": {},
   "outputs": [
    {
     "ename": "TypeError",
     "evalue": "'<' not supported between instances of 'str' and 'int'",
     "output_type": "error",
     "traceback": [
      "\u001b[1;31m---------------------------------------------------------------------------\u001b[0m",
      "\u001b[1;31mTypeError\u001b[0m                                 Traceback (most recent call last)",
      "Cell \u001b[1;32mIn[49], line 4\u001b[0m\n\u001b[0;32m      2\u001b[0m s \u001b[38;5;241m=\u001b[39m var[\u001b[38;5;241m0\u001b[39m]\n\u001b[0;32m      3\u001b[0m st \u001b[38;5;241m=\u001b[39m \u001b[38;5;28mlen\u001b[39m(var) \u001b[38;5;241m-\u001b[39m\u001b[38;5;241m1\u001b[39m\n\u001b[1;32m----> 4\u001b[0m \u001b[38;5;28;01mwhile\u001b[39;00m (s\u001b[38;5;241m<\u001b[39mst ):\n\u001b[0;32m      5\u001b[0m     \u001b[38;5;28;01mif\u001b[39;00m(var[s] \u001b[38;5;241m==\u001b[39m var[st]):\n\u001b[0;32m      6\u001b[0m         \u001b[38;5;28mprint\u001b[39m(var[s],var[st])\n",
      "\u001b[1;31mTypeError\u001b[0m: '<' not supported between instances of 'str' and 'int'"
     ]
    }
   ],
   "source": [
    "var = 'ab'\n",
    "s = var[0]\n",
    "st = len(var) -1\n",
    "while (s<st ):\n",
    "    if(var[s] == var[st]):          #h.w\n",
    "        print(var[s],var[st])\n",
    "        break\n",
    "    elif(var[s]==var[st]):\n",
    "        print(\"not repeat\")\n",
    "        st-=1\n",
    "    else:\n",
    "        st+=1"
   ]
  },
  {
   "cell_type": "markdown",
   "id": "68c715ab-12a1-4c69-a128-c04bf4b89b7a",
   "metadata": {},
   "source": [
    "# valid paranthesis imp for interview purpose"
   ]
  },
  {
   "cell_type": "code",
   "execution_count": 114,
   "id": "190a0f06-716a-46be-abf9-09a0156fe852",
   "metadata": {},
   "outputs": [
    {
     "name": "stdout",
     "output_type": "stream",
     "text": [
      "valid\n"
     ]
    }
   ],
   "source": [
    "openb = 0\n",
    "x=0\n",
    "data = \"()\"\n",
    "for char in data:\n",
    "    if char==\"(\":\n",
    "        openb = \"(\"\n",
    "       \n",
    "    elif(openb):\n",
    "        if(char==\")\" and openb==\"(\"):\n",
    "            x=1\n",
    "            \n",
    "    else:\n",
    "        x=0\n",
    "if(x==0 )   :\n",
    "    print(\"invalid\")\n",
    "else:\n",
    "    print(\"valid\")\n"
   ]
  },
  {
   "cell_type": "code",
   "execution_count": 116,
   "id": "006845b9-4423-46e9-898f-c2b01f53ab9d",
   "metadata": {},
   "outputs": [
    {
     "name": "stdout",
     "output_type": "stream",
     "text": [
      "valid\n"
     ]
    }
   ],
   "source": [
    "openb = []\n",
    "x=0\n",
    "data = \"()\"\n",
    "for char in data:\n",
    "    if char==\"(\":\n",
    "        openb.append(char)\n",
    "       \n",
    "    elif(openb):\n",
    "        if(char==\")\" and \"(\"==openb.pop()):\n",
    "            x=1\n",
    "            \n",
    "    else:\n",
    "        x=0\n",
    "if(x==0 or len(openb) > 0 )   :\n",
    "    print(\"invalid\")\n",
    "else:\n",
    "    print(\"valid\")\n"
   ]
  },
  {
   "cell_type": "code",
   "execution_count": 118,
   "id": "72931f77-3c81-4dd6-a182-25a462709c83",
   "metadata": {},
   "outputs": [
    {
     "name": "stdout",
     "output_type": "stream",
     "text": [
      "invalid\n"
     ]
    }
   ],
   "source": [
    "openb = []\n",
    "x=0\n",
    "data = \"(()\"\n",
    "for char in data:\n",
    "    if char==\"(\":\n",
    "        openb.append(char)\n",
    "       \n",
    "    elif(openb):\n",
    "        if(char==\")\" and \"(\"==openb.pop()):\n",
    "            x=1\n",
    "            \n",
    "    else:\n",
    "        x=0\n",
    "if(x==0 or len(openb) > 0 )   :\n",
    "    print(\"invalid\")\n",
    "else:\n",
    "    print(\"valid\")\n"
   ]
  },
  {
   "cell_type": "markdown",
   "id": "3f4af79d-7057-4b49-a1fa-1a94d4f4ec32",
   "metadata": {},
   "source": [
    "# Test questions"
   ]
  },
  {
   "cell_type": "code",
   "execution_count": 121,
   "id": "e4f08541-1ac9-47a5-9d0e-4ae1c741d42a",
   "metadata": {},
   "outputs": [
    {
     "name": "stdout",
     "output_type": "stream",
     "text": [
      "5\n",
      "4\n",
      "3\n",
      "2\n",
      "1\n"
     ]
    }
   ],
   "source": [
    "for i in range(5, 0, -1):\n",
    "    print(i)"
   ]
  },
  {
   "cell_type": "code",
   "execution_count": 123,
   "id": "366b7278-064c-4805-a5ce-b81bde6dcdd2",
   "metadata": {},
   "outputs": [
    {
     "name": "stdout",
     "output_type": "stream",
     "text": [
      "3 1\n",
      "3 2\n",
      "3 3\n",
      "2 1\n",
      "2 2\n",
      "2 3\n",
      "1 1\n",
      "1 2\n",
      "1 3\n"
     ]
    }
   ],
   "source": [
    "for i in range(3, 0, -1):\n",
    "    for j in range(1, 4):\n",
    "        print(i, j)"
   ]
  },
  {
   "cell_type": "code",
   "execution_count": 125,
   "id": "6660a3a1-4db9-4924-881a-ccd4a9df3ca9",
   "metadata": {},
   "outputs": [
    {
     "name": "stdout",
     "output_type": "stream",
     "text": [
      "12\n"
     ]
    }
   ],
   "source": [
    "result = 1\n",
    "for i in range(1, 4):\n",
    "    result *= i\n",
    "    if result > 3:\n",
    "        continue\n",
    "    result += i\n",
    "print(result)"
   ]
  },
  {
   "cell_type": "code",
   "execution_count": 127,
   "id": "b148639d-d2cc-4e20-8472-75305bf7e39f",
   "metadata": {},
   "outputs": [
    {
     "name": "stdout",
     "output_type": "stream",
     "text": [
      "10\n"
     ]
    }
   ],
   "source": [
    "lst = [5, 3, 2, 8]\n",
    "sum = 0\n",
    "for i in lst:\n",
    "    if i % 2 == 0:\n",
    "        sum += i\n",
    "print(sum)"
   ]
  },
  {
   "cell_type": "code",
   "execution_count": 129,
   "id": "e338aae4-0cd9-4518-8159-6df6ac285dc7",
   "metadata": {},
   "outputs": [
    {
     "name": "stdout",
     "output_type": "stream",
     "text": [
      "1\n",
      "2\n",
      "3\n"
     ]
    }
   ],
   "source": [
    "for i in range(1, 4):\n",
    "    print(i)"
   ]
  },
  {
   "cell_type": "code",
   "execution_count": 131,
   "id": "0a10624d-393c-4e94-95d6-1670defab279",
   "metadata": {},
   "outputs": [
    {
     "name": "stdout",
     "output_type": "stream",
     "text": [
      "1\n",
      "2\n",
      "6\n"
     ]
    }
   ],
   "source": [
    "result = 1\n",
    "for i in range(1, 4):\n",
    "    result *= i\n",
    "    print(result)"
   ]
  },
  {
   "cell_type": "code",
   "execution_count": 133,
   "id": "7660c220-e90b-4d9e-8a66-5402accd5638",
   "metadata": {},
   "outputs": [
    {
     "name": "stdout",
     "output_type": "stream",
     "text": [
      "85\n"
     ]
    }
   ],
   "source": [
    "lst = [5, 12, 18, 25, 30, 42, 55]\n",
    "sum = 0\n",
    "for i in range(0, len(lst), 3):\n",
    "    sum += lst[i]\n",
    "print(sum)"
   ]
  },
  {
   "cell_type": "code",
   "execution_count": 135,
   "id": "a3da0d0e-b3f7-446b-adfb-ce3b11cbec40",
   "metadata": {},
   "outputs": [
    {
     "name": "stdout",
     "output_type": "stream",
     "text": [
      "20\n"
     ]
    }
   ],
   "source": [
    "result = 0\n",
    "for i in range(1, 6):\n",
    "    for j in range(i):\n",
    "        result += j\n",
    "print(result)"
   ]
  },
  {
   "cell_type": "code",
   "execution_count": 137,
   "id": "c5e44a73-72aa-4b32-825c-013f828b51d2",
   "metadata": {},
   "outputs": [
    {
     "name": "stdout",
     "output_type": "stream",
     "text": [
      "30\n"
     ]
    }
   ],
   "source": [
    "s = 0\n",
    "for i in range(10, 0, -2):\n",
    "    s += i\n",
    "print(s)"
   ]
  },
  {
   "cell_type": "code",
   "execution_count": 139,
   "id": "49a3d49a-0fff-44bb-95dd-56eda9f52839",
   "metadata": {},
   "outputs": [
    {
     "name": "stdout",
     "output_type": "stream",
     "text": [
      "55\n"
     ]
    }
   ],
   "source": [
    "lst = [1, 2, 3, 4, 5]\n",
    "squared_sum = 0\n",
    "for i in lst:\n",
    "    squared_sum += i ** 2\n",
    "print(squared_sum)\n"
   ]
  },
  {
   "cell_type": "code",
   "execution_count": 141,
   "id": "d7ff33e0-7e67-4cec-a077-a36d4115da1e",
   "metadata": {},
   "outputs": [
    {
     "name": "stdout",
     "output_type": "stream",
     "text": [
      "20\n"
     ]
    }
   ],
   "source": [
    "lst = [2, 4, 6, 8]\n",
    "x = 0\n",
    "for i in lst:\n",
    "    for j in range(i):\n",
    "        x += 1\n",
    "print(x)"
   ]
  },
  {
   "cell_type": "code",
   "execution_count": 143,
   "id": "861e9fa8-2beb-477a-a5a1-0434cf967fe7",
   "metadata": {},
   "outputs": [
    {
     "name": "stdout",
     "output_type": "stream",
     "text": [
      "55\n"
     ]
    }
   ],
   "source": [
    "x = 0\n",
    "for i in range(1, 6):\n",
    "    for j in range(i):\n",
    "        x += i\n",
    "print(x)"
   ]
  },
  {
   "cell_type": "code",
   "execution_count": 145,
   "id": "beffe30f-5ef7-441d-99d0-270cd23d8592",
   "metadata": {},
   "outputs": [
    {
     "name": "stdout",
     "output_type": "stream",
     "text": [
      "1 2 4 3 6 9 "
     ]
    }
   ],
   "source": [
    "for i in range(1, 4):\n",
    "    for j in range(1, i + 1):\n",
    "        print(i * j, end=\" \")"
   ]
  },
  {
   "cell_type": "code",
   "execution_count": 147,
   "id": "9d552dd6-eec4-47f9-a96a-507c22dc1926",
   "metadata": {},
   "outputs": [
    {
     "name": "stdout",
     "output_type": "stream",
     "text": [
      "25.0\n"
     ]
    }
   ],
   "source": [
    "lst = [5, 10, 15, 20]\n",
    "total = 0\n",
    "for i in lst:\n",
    "    total += i / 2\n",
    "print(total)"
   ]
  },
  {
   "cell_type": "code",
   "execution_count": 149,
   "id": "aa3f0f4a-1a14-4c81-9f95-05db51d1c749",
   "metadata": {},
   "outputs": [
    {
     "name": "stdout",
     "output_type": "stream",
     "text": [
      "60\n"
     ]
    }
   ],
   "source": [
    "lst = [10, 20, 30, 40, 50]\n",
    "sum = 0\n",
    "for i in range(1, len(lst), 2):\n",
    "    sum += lst[i]\n",
    "print(sum)\n"
   ]
  },
  {
   "cell_type": "code",
   "execution_count": 151,
   "id": "c728402a-1af1-452b-b92d-1d9fbf9b307f",
   "metadata": {},
   "outputs": [
    {
     "name": "stdout",
     "output_type": "stream",
     "text": [
      "12\n"
     ]
    }
   ],
   "source": [
    "x = 0\n",
    "for i in range(3, 0, -1):\n",
    "    for j in range(1, 4):\n",
    "        if i == 2:\n",
    "            break\n",
    "        x += i\n",
    "print(x)"
   ]
  },
  {
   "cell_type": "code",
   "execution_count": 153,
   "id": "7c959bb1-c9b7-4e76-a379-f9ab6b5d5630",
   "metadata": {},
   "outputs": [
    {
     "name": "stdout",
     "output_type": "stream",
     "text": [
      "24\n"
     ]
    }
   ],
   "source": [
    "\n",
    " \n",
    "x = 1\n",
    "for i in range(1, 6):\n",
    "    x *= i\n",
    "    if x > 10:\n",
    "        break\n",
    "print(x)\n"
   ]
  },
  {
   "cell_type": "code",
   "execution_count": 155,
   "id": "5220edc0-7d49-4da2-8714-a422f036ae05",
   "metadata": {},
   "outputs": [
    {
     "name": "stdout",
     "output_type": "stream",
     "text": [
      "55\n"
     ]
    }
   ],
   "source": [
    "\n",
    " \n",
    "x = 0\n",
    "for i in range(1, 6):\n",
    "    for j in range(i):\n",
    "        x += i\n",
    "print(x)"
   ]
  },
  {
   "cell_type": "code",
   "execution_count": 157,
   "id": "22d25101-bfa6-421b-8b37-0a383a4f2141",
   "metadata": {},
   "outputs": [
    {
     "name": "stdout",
     "output_type": "stream",
     "text": [
      "25.0\n"
     ]
    }
   ],
   "source": [
    "\n",
    " \n",
    "lst = [5, 10, 15, 20]\n",
    "total = 0\n",
    "for i in lst:\n",
    "    total += i / 2\n",
    "print(total)"
   ]
  },
  {
   "cell_type": "code",
   "execution_count": 159,
   "id": "27594472-e6ae-4602-8757-9e219d49b8d4",
   "metadata": {},
   "outputs": [
    {
     "name": "stdout",
     "output_type": "stream",
     "text": [
      "30\n"
     ]
    }
   ],
   "source": [
    "\n",
    "  \n",
    "s = 0\n",
    "for i in range(10, 0, -2):\n",
    "    s += i\n",
    "print(s)"
   ]
  },
  {
   "cell_type": "code",
   "execution_count": 161,
   "id": "9143d6d0-e7ea-46c0-9705-4836f8244a96",
   "metadata": {},
   "outputs": [
    {
     "name": "stdout",
     "output_type": "stream",
     "text": [
      "20\n"
     ]
    }
   ],
   "source": [
    "\n",
    " \n",
    "result = 0\n",
    "for i in range(1, 6):\n",
    "    for j in range(i):\n",
    "        result += j\n",
    "print(result)"
   ]
  },
  {
   "cell_type": "code",
   "execution_count": null,
   "id": "272de3a4-ebf6-4415-9429-67533e9ea563",
   "metadata": {},
   "outputs": [],
   "source": []
  }
 ],
 "metadata": {
  "kernelspec": {
   "display_name": "Python 3 (ipykernel)",
   "language": "python",
   "name": "python3"
  },
  "language_info": {
   "codemirror_mode": {
    "name": "ipython",
    "version": 3
   },
   "file_extension": ".py",
   "mimetype": "text/x-python",
   "name": "python",
   "nbconvert_exporter": "python",
   "pygments_lexer": "ipython3",
   "version": "3.12.4"
  }
 },
 "nbformat": 4,
 "nbformat_minor": 5
}
