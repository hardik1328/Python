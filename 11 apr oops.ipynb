{
 "cells": [
  {
   "cell_type": "markdown",
   "id": "b551d1ef-36f6-49c7-b348-0a0d93aaf7f2",
   "metadata": {},
   "source": [
    "# OOPS\n"
   ]
  },
  {
   "cell_type": "code",
   "execution_count": 2,
   "id": "16140a77-a535-4481-8be4-152bcf52c735",
   "metadata": {},
   "outputs": [],
   "source": [
    "# Object oriented progrmming\n",
    "# oops is a programming paradigm based on the concepts of object.\n",
    "# these object can contain data in an attributes and funcality and its methods.\n",
    "# python is a object oriented programming which means it supports oops principle like \n",
    "#  encapsulation,inheritance,ploymorphism and abstraction.\n",
    "\n",
    "# why we use oops?\n",
    "\n",
    "# 1) Reusablity  --> code can be reused through inheritance and classes reducing redandancy.\n",
    "\n",
    "# 2) MODULARITY --> programs are divided into objects making them easier to understand and maintainable.\n",
    "\n",
    "# 3) Data protection --> encapsulation helps restrict excess to access certain part of object.\n",
    "\n",
    "# 4) Polymorphism / flexibility --> it allows the same interface to intereact with different types of object.\n",
    "\n",
    "# KEY CONCEPTS OF OOPS -->\n",
    "\n",
    "# 1) Class --> a class is a blueprint for creating objects it defines a structure to hold \n",
    "#               data(attributes) and fucntions(methods) related to that object.\n",
    "\n",
    "\n",
    "# 2) Objects --> an objects is instance of a class it represent a sepcific entity created using the class blueprint.\n",
    "\n",
    "# 3) Self Keyword --> self is reference to the current instance of class it allows as to access the object attributes \n",
    "#    and methods it must the first parameter in instance methods when calling a method self is passed automatically.\n",
    "\n",
    "#  WHAT HAPPEN WHEN WE DONTUSE ?\n",
    "\n",
    "# the method will not have a will to refer to the object calling will. python will raise a error when trying to aceess\n",
    "# instance attributes or methods inside the class as they are not explicity connected to the instance.\n"
   ]
  },
  {
   "cell_type": "code",
   "execution_count": 4,
   "id": "9b571fc0-2e6f-4ad6-a9dc-ec1e86586074",
   "metadata": {},
   "outputs": [
    {
     "name": "stdout",
     "output_type": "stream",
     "text": [
      " name:hardik and branch:cs and 8\n"
     ]
    }
   ],
   "source": [
    "class student:\n",
    "    def __init__(self , name,branch,semester):\n",
    "        self.name = name\n",
    "        self.branch = branch\n",
    "        self.semester = semester\n",
    "\n",
    "    def getinfo(self):\n",
    "        print(f\" name:{self.name} and branch:{self.branch} and {self.semester}\")\n",
    "\n",
    "a = student('hardik' , 'cs' , '8')\n",
    "a.getinfo()"
   ]
  },
  {
   "cell_type": "code",
   "execution_count": 14,
   "id": "d23a3322-2cbb-4687-8ad0-9ab797e7e254",
   "metadata": {},
   "outputs": [
    {
     "ename": "TypeError",
     "evalue": "student.__init__() takes 3 positional arguments but 4 were given",
     "output_type": "error",
     "traceback": [
      "\u001b[1;31m---------------------------------------------------------------------------\u001b[0m",
      "\u001b[1;31mTypeError\u001b[0m                                 Traceback (most recent call last)",
      "Cell \u001b[1;32mIn[14], line 10\u001b[0m\n\u001b[0;32m      7\u001b[0m     \u001b[38;5;28;01mdef\u001b[39;00m \u001b[38;5;21mgetinfo\u001b[39m():\n\u001b[0;32m      8\u001b[0m         \u001b[38;5;28mprint\u001b[39m(\u001b[38;5;124mf\u001b[39m\u001b[38;5;124m\"\u001b[39m\u001b[38;5;124m name:\u001b[39m\u001b[38;5;132;01m{\u001b[39;00mname\u001b[38;5;132;01m}\u001b[39;00m\u001b[38;5;124m and branch:\u001b[39m\u001b[38;5;132;01m{\u001b[39;00mbranch\u001b[38;5;132;01m}\u001b[39;00m\u001b[38;5;124m and \u001b[39m\u001b[38;5;132;01m{\u001b[39;00msemester\u001b[38;5;132;01m}\u001b[39;00m\u001b[38;5;124m\"\u001b[39m)\n\u001b[1;32m---> 10\u001b[0m a \u001b[38;5;241m=\u001b[39m student(\u001b[38;5;124m'\u001b[39m\u001b[38;5;124mhardik\u001b[39m\u001b[38;5;124m'\u001b[39m , \u001b[38;5;124m'\u001b[39m\u001b[38;5;124mcs\u001b[39m\u001b[38;5;124m'\u001b[39m , \u001b[38;5;124m'\u001b[39m\u001b[38;5;124m8\u001b[39m\u001b[38;5;124m'\u001b[39m)\n\u001b[0;32m     11\u001b[0m a\u001b[38;5;241m.\u001b[39mgetinfo()\n",
      "\u001b[1;31mTypeError\u001b[0m: student.__init__() takes 3 positional arguments but 4 were given"
     ]
    }
   ],
   "source": [
    "class student:\n",
    "    def __init__( name,branch,semester):\n",
    "        name = name\n",
    "        branch = branch\n",
    "        semester = semester\n",
    "\n",
    "    def getinfo():\n",
    "        print(f\" name:{name} and branch:{branch} and {semester}\")\n",
    "\n",
    "a = student('hardik' , 'cs' , '8')\n",
    "a.getinfo()"
   ]
  },
  {
   "cell_type": "code",
   "execution_count": 16,
   "id": "0d26966f-b65b-4577-91da-c15e56563733",
   "metadata": {},
   "outputs": [
    {
     "name": "stdout",
     "output_type": "stream",
     "text": [
      " name:hardik and branch:cs and 8\n"
     ]
    }
   ],
   "source": [
    "class student:\n",
    "    def __init__(self , name, branch, semester):\n",
    "        self.name = name\n",
    "        self.branch = branch\n",
    "        self.semester = semester\n",
    "\n",
    "    def getinfo(self):\n",
    "        return f\" name:{self.name} and branch:{self.branch} and {self.semester}\"\n",
    "\n",
    "a = student('hardik' , 'cs' , '8')\n",
    "print(a.getinfo())  \n"
   ]
  },
  {
   "cell_type": "code",
   "execution_count": null,
   "id": "17ed46ff-4359-4667-a66a-f6feeb39123a",
   "metadata": {},
   "outputs": [],
   "source": []
  }
 ],
 "metadata": {
  "kernelspec": {
   "display_name": "Python 3 (ipykernel)",
   "language": "python",
   "name": "python3"
  },
  "language_info": {
   "codemirror_mode": {
    "name": "ipython",
    "version": 3
   },
   "file_extension": ".py",
   "mimetype": "text/x-python",
   "name": "python",
   "nbconvert_exporter": "python",
   "pygments_lexer": "ipython3",
   "version": "3.12.4"
  }
 },
 "nbformat": 4,
 "nbformat_minor": 5
}
