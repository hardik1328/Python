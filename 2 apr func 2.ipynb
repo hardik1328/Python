{
 "cells": [
  {
   "cell_type": "markdown",
   "id": "b37e43b6-139a-4e2d-8d51-62ab031f687a",
   "metadata": {},
   "source": [
    "# first class function and high order function"
   ]
  },
  {
   "cell_type": "code",
   "execution_count": 12,
   "id": "8e67555d-00e3-4e44-983b-abb83c8bd17f",
   "metadata": {},
   "outputs": [],
   "source": [
    "# FIRST CLASS FUNCTION"
   ]
  },
  {
   "cell_type": "code",
   "execution_count": 14,
   "id": "1e4e1206-40eb-420d-9069-a07bc33c01cf",
   "metadata": {},
   "outputs": [],
   "source": [
    "def outer_func():\n",
    "    print(\"hey this is fucntion outer\")\n",
    "\n",
    "x=outer_func\n",
    "#outer_func()"
   ]
  },
  {
   "cell_type": "code",
   "execution_count": 16,
   "id": "3f14a014-af54-4f03-a111-2b49e2d505dc",
   "metadata": {},
   "outputs": [
    {
     "name": "stdout",
     "output_type": "stream",
     "text": [
      "hey this is fucntion outer\n"
     ]
    }
   ],
   "source": [
    "def outer_func():\n",
    "    print(\"hey this is fucntion outer\")\n",
    "\n",
    "x=outer_func          # if we store a function in  a variable then it will be called first class fucntion\n",
    "outer_func()"
   ]
  },
  {
   "cell_type": "code",
   "execution_count": 20,
   "id": "f2416167-2b57-4885-a0c2-406fdfe21e65",
   "metadata": {},
   "outputs": [
    {
     "name": "stdout",
     "output_type": "stream",
     "text": [
      "hey this is fucntion outer\n",
      "this is test function x=> None\n"
     ]
    }
   ],
   "source": [
    "def outer_func():\n",
    "    print(\"hey this is fucntion outer\")\n",
    "\n",
    "def test(x):\n",
    "    print(\"this is test function x=>\",x)\n",
    "\n",
    "test(outer_func())"
   ]
  },
  {
   "cell_type": "code",
   "execution_count": 22,
   "id": "6b838df4-d818-4fe4-ab40-2051f74b3728",
   "metadata": {},
   "outputs": [
    {
     "name": "stdout",
     "output_type": "stream",
     "text": [
      "this is test function x=> hey this is fucntion outer\n"
     ]
    }
   ],
   "source": [
    "def outer_func():\n",
    "    return (\"hey this is fucntion outer\")\n",
    "\n",
    "def test(x):\n",
    "    print(\"this is test function x=>\",x)\n",
    "\n",
    "test(outer_func())        # ---> if i apply the brackets it means i am running the fucntion \n",
    "                          #      otherwise we are talking about memory address"
   ]
  },
  {
   "cell_type": "code",
   "execution_count": 28,
   "id": "817ca404-6069-4535-8d25-ff1260fa37a0",
   "metadata": {},
   "outputs": [
    {
     "name": "stdout",
     "output_type": "stream",
     "text": [
      "this is test function x=> <function outer_func at 0x0000015F5E700400>\n",
      "calling x => hey this is fucntion outer\n"
     ]
    }
   ],
   "source": [
    "def outer_func():\n",
    "    return (\"hey this is fucntion outer\")\n",
    "\n",
    "def test(x):\n",
    "    print(\"this is test function x=>\",x)\n",
    "    print(\"calling x =>\",x())           # --> x() bracket is important\n",
    "\n",
    "test(outer_func)        "
   ]
  },
  {
   "cell_type": "code",
   "execution_count": 32,
   "id": "3eb8cc2f-ad8d-4aeb-94ba-91af36b756dc",
   "metadata": {},
   "outputs": [
    {
     "name": "stdout",
     "output_type": "stream",
     "text": [
      "this is test function x=> <function outer_func at 0x0000015F5E76C0E0>\n",
      "calling x => <function outer_func at 0x0000015F5E76C0E0>\n"
     ]
    }
   ],
   "source": [
    "def outer_func():\n",
    "    return (\"hey this is fucntion outer\")\n",
    "\n",
    "def test(x):\n",
    "    print(\"this is test function x=>\",x)\n",
    "    print(\"calling x =>\",x)             # without bracket\n",
    "\n",
    "test(outer_func)        "
   ]
  },
  {
   "cell_type": "code",
   "execution_count": 34,
   "id": "8ac619c7-6eea-404f-9774-01d8a3fee5d4",
   "metadata": {},
   "outputs": [],
   "source": [
    "# example"
   ]
  },
  {
   "cell_type": "code",
   "execution_count": 44,
   "id": "bb810bea-51d2-4699-9a56-fa837a2523af",
   "metadata": {},
   "outputs": [
    {
     "data": {
      "text/plain": [
       "'even'"
      ]
     },
     "execution_count": 44,
     "metadata": {},
     "output_type": "execute_result"
    }
   ],
   "source": [
    "def func(num):\n",
    "    if num%2==0:\n",
    "        return \"even\"\n",
    "    else:\n",
    "        return \"odd\"\n",
    "\n",
    "func(10)"
   ]
  },
  {
   "cell_type": "code",
   "execution_count": 46,
   "id": "69acad75-5314-43a0-86a5-870b45587cdc",
   "metadata": {},
   "outputs": [],
   "source": [
    "# lcm"
   ]
  },
  {
   "cell_type": "code",
   "execution_count": 48,
   "id": "fe3598c5-b406-40cc-bea5-1ec528aa106b",
   "metadata": {},
   "outputs": [
    {
     "name": "stdout",
     "output_type": "stream",
     "text": [
      "lcm is 12\n"
     ]
    }
   ],
   "source": [
    "x =2\n",
    "y = 12\n",
    "if x>y:\n",
    "    num = x\n",
    "else:\n",
    "    num=y\n",
    "\n",
    "while True:\n",
    "    if num%x==0 and num%y==0:\n",
    "        print(\"lcm is\",num)\n",
    "        break\n",
    "    else:\n",
    "        num+=1"
   ]
  },
  {
   "cell_type": "code",
   "execution_count": 50,
   "id": "c731b4b3-1311-4861-bdca-7510ad269927",
   "metadata": {},
   "outputs": [
    {
     "name": "stdout",
     "output_type": "stream",
     "text": [
      "lcm is 12\n"
     ]
    }
   ],
   "source": [
    "def lcm_check(x,y):\n",
    "  \n",
    "    if x>y:\n",
    "        num = x\n",
    "    else:\n",
    "        num=y\n",
    "    \n",
    "    while True:\n",
    "        if num%x==0 and num%y==0:\n",
    "            print(\"lcm is\",num)\n",
    "            break\n",
    "        else:\n",
    "            num+=1\n",
    "\n",
    "lcm_check(2,12)"
   ]
  },
  {
   "cell_type": "code",
   "execution_count": 54,
   "id": "d03f9b37-fd26-41d5-bac7-47bc177b02e5",
   "metadata": {},
   "outputs": [
    {
     "data": {
      "text/plain": [
       "6"
      ]
     },
     "execution_count": 54,
     "metadata": {},
     "output_type": "execute_result"
    }
   ],
   "source": [
    "def lcm_check(x,y):\n",
    "  \n",
    "    if x>y:\n",
    "        num = x\n",
    "    else:\n",
    "        num=y\n",
    "    \n",
    "    while True:\n",
    "        if num%x==0 and num%y==0:\n",
    "           return num\n",
    "        else:\n",
    "            num+=1\n",
    "\n",
    "lcm_check(2,3)"
   ]
  },
  {
   "cell_type": "code",
   "execution_count": 56,
   "id": "40be7bdc-08eb-4bcb-a1d1-9f0f58bbdb86",
   "metadata": {},
   "outputs": [
    {
     "data": {
      "text/plain": [
       "12"
      ]
     },
     "execution_count": 56,
     "metadata": {},
     "output_type": "execute_result"
    }
   ],
   "source": [
    "def lcm_check(x,y):\n",
    "  \n",
    "    if x>y:\n",
    "        num = x\n",
    "    else:\n",
    "        num=y\n",
    "    \n",
    "    while True:\n",
    "        if num%x==0 and num%y==0:\n",
    "           return num\n",
    "        else:\n",
    "            num+=1\n",
    "\n",
    "lcm_check(lcm_check(2,3),4)"
   ]
  },
  {
   "cell_type": "code",
   "execution_count": 116,
   "id": "c89aa967-360b-4691-b947-7835fde1ab4d",
   "metadata": {},
   "outputs": [
    {
     "name": "stdout",
     "output_type": "stream",
     "text": [
      "amb\n",
      "<function func at 0x0000015F61BBA3E0>\n",
      "<function func at 0x0000015F61BBA3E0>\n",
      "<function func at 0x0000015F61BBA3E0>\n"
     ]
    }
   ],
   "source": [
    "def func():\n",
    "    print(\"amb\")\n",
    "    d={45:func,46:func,47:func}\n",
    "    for i in d.values():\n",
    "       print(i)\n",
    "func()"
   ]
  },
  {
   "cell_type": "code",
   "execution_count": 164,
   "id": "77807d30-c516-4aee-aa1b-73def2752669",
   "metadata": {},
   "outputs": [
    {
     "data": {
      "text/plain": [
       "False"
      ]
     },
     "execution_count": 164,
     "metadata": {},
     "output_type": "execute_result"
    }
   ],
   "source": [
    "def func(n):\n",
    "    d={1:\"aman\",2:\"harsh\",3:\"alfez\"}\n",
    "    \n",
    "    for i in d.items():\n",
    "        if d in i :\n",
    "            return True\n",
    "        else:\n",
    "            return False\n",
    "func(2)"
   ]
  },
  {
   "cell_type": "code",
   "execution_count": 162,
   "id": "d840227f-e24f-4563-a2df-146af2719561",
   "metadata": {},
   "outputs": [
    {
     "name": "stdin",
     "output_type": "stream",
     "text": [
      "enter the value of n: 2\n"
     ]
    },
    {
     "data": {
      "text/plain": [
       "True"
      ]
     },
     "execution_count": 162,
     "metadata": {},
     "output_type": "execute_result"
    }
   ],
   "source": [
    "def func(n):\n",
    "    d={1:\"aman\",2:\"harsh\",3:\"alfez\"}\n",
    "    n=int(input(\"enter the value of n:\"))\n",
    "    for i in d.items():\n",
    "        if (n in d ):\n",
    "            return True\n",
    "        else:\n",
    "            return False\n",
    "func(5)"
   ]
  },
  {
   "cell_type": "code",
   "execution_count": 174,
   "id": "d6f84e84-717c-4ae1-937f-00dada5b3081",
   "metadata": {},
   "outputs": [
    {
     "ename": "SyntaxError",
     "evalue": "invalid non-printable character U+00A0 (3181763708.py, line 8)",
     "output_type": "error",
     "traceback": [
      "\u001b[1;36m  Cell \u001b[1;32mIn[174], line 8\u001b[1;36m\u001b[0m\n\u001b[1;33m    func(5)\u001b[0m\n\u001b[1;37m              ^\u001b[0m\n\u001b[1;31mSyntaxError\u001b[0m\u001b[1;31m:\u001b[0m invalid non-printable character U+00A0\n"
     ]
    }
   ],
   "source": [
    "def func(search):\n",
    "    d={1:\"aman\",2:\"harsh\",3:\"alfez\"}\n",
    "    for i in d.items():\n",
    "        if (search==i ):\n",
    "            return True\n",
    "        else:\n",
    "            return False\n",
    "func(5)     "
   ]
  },
  {
   "cell_type": "code",
   "execution_count": null,
   "id": "f8f3c1c7-19b2-496b-9cd5-2776e3b52fc9",
   "metadata": {},
   "outputs": [],
   "source": []
  }
 ],
 "metadata": {
  "kernelspec": {
   "display_name": "Python 3 (ipykernel)",
   "language": "python",
   "name": "python3"
  },
  "language_info": {
   "codemirror_mode": {
    "name": "ipython",
    "version": 3
   },
   "file_extension": ".py",
   "mimetype": "text/x-python",
   "name": "python",
   "nbconvert_exporter": "python",
   "pygments_lexer": "ipython3",
   "version": "3.12.4"
  }
 },
 "nbformat": 4,
 "nbformat_minor": 5
}
