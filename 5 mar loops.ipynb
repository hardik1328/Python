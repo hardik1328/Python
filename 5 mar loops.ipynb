{
 "cells": [
  {
   "cell_type": "code",
   "execution_count": 9,
   "id": "08674bc0-1a00-4d4f-8b11-6b7d68bebbf2",
   "metadata": {},
   "outputs": [
    {
     "name": "stdout",
     "output_type": "stream",
     "text": [
      "number is divisible by 8: 1\n",
      "number is divisible by 8: 2\n",
      "number is divisible by 8: 4\n"
     ]
    }
   ],
   "source": [
    "for i in range(1,8):\n",
    "    if(8%i==0):\n",
    "        print(\"number is divisible by 8:\",i)\n",
    "\n"
   ]
  },
  {
   "cell_type": "code",
   "execution_count": 1,
   "id": "1eb83692-3576-4758-bc20-6a9f82d7e430",
   "metadata": {},
   "outputs": [
    {
     "name": "stdout",
     "output_type": "stream",
     "text": [
      "number is divisible by 8: 1\n",
      "number is divisible by 8: 2\n",
      "number is divisible by 8: 4\n"
     ]
    }
   ],
   "source": [
    "i = 1\n",
    "while(i<=7):\n",
    "    if(8%i==0):\n",
    "        print(\"number is divisible by 8:\",i)\n",
    "    i += 1\n",
    "\n"
   ]
  },
  {
   "cell_type": "code",
   "execution_count": 3,
   "id": "fb27df0e-57ba-4201-b1d6-4ab9adcfd16c",
   "metadata": {},
   "outputs": [],
   "source": [
    "# factors of number"
   ]
  },
  {
   "cell_type": "code",
   "execution_count": 9,
   "id": "eae782bb-8419-4c73-9bfb-61aea03f8e83",
   "metadata": {},
   "outputs": [
    {
     "name": "stdout",
     "output_type": "stream",
     "text": [
      "factors of 10: 1\n",
      "factors of 10: 2\n",
      "factors of 10: 5\n",
      "factors of 10: 10\n"
     ]
    }
   ],
   "source": [
    "i = 1\n",
    "while(i<=10):\n",
    "    if(10%i==0):\n",
    "        print(\"factors of 10:\",i)\n",
    "    i += 1\n",
    "\n"
   ]
  },
  {
   "cell_type": "code",
   "execution_count": 7,
   "id": "0063a2fe-0c43-4dfe-b12e-acc4d4ac0fca",
   "metadata": {},
   "outputs": [
    {
     "name": "stdout",
     "output_type": "stream",
     "text": [
      "factors of 10: 1\n",
      "factors of 10: 2\n",
      "factors of 10: 5\n"
     ]
    }
   ],
   "source": [
    "for i in range(1,10):\n",
    "    if(10%i==0):\n",
    "        print(\"factors of 10:\",i)\n",
    "\n"
   ]
  },
  {
   "cell_type": "code",
   "execution_count": 11,
   "id": "d35140c8-9722-451a-a3c4-4fa59886b109",
   "metadata": {},
   "outputs": [],
   "source": [
    "# prime number"
   ]
  },
  {
   "cell_type": "code",
   "execution_count": 9,
   "id": "7d79b73c-51c1-4b0b-a4c7-d6341f11c918",
   "metadata": {},
   "outputs": [
    {
     "name": "stdout",
     "output_type": "stream",
     "text": [
      "this is a prime number 2\n",
      "not a prime number 3\n"
     ]
    }
   ],
   "source": [
    "num = 9        #not a correct from\n",
    "for i in range(2,num):\n",
    "    if (num%i==0 ):\n",
    "        print(\"not a prime number\",i)\n",
    "        break\n",
    "\n",
    "    else:\n",
    "        print(\"this is a prime number\",i)\n",
    "    \n",
    "    "
   ]
  },
  {
   "cell_type": "code",
   "execution_count": 39,
   "id": "f2b1d352-bbcb-425d-bd3e-00f77fd1f191",
   "metadata": {},
   "outputs": [
    {
     "name": "stdout",
     "output_type": "stream",
     "text": [
      "prime number 7\n",
      "prime number 7\n",
      "prime number 7\n",
      "prime number 7\n",
      "prime number 7\n"
     ]
    }
   ],
   "source": [
    "num =7\n",
    "indi = 0\n",
    "for i in range(2,num):\n",
    "    if (num%i==0 ):\n",
    "        print(\"not a prime number\",num)\n",
    "        indi = 1\n",
    "        break\n",
    "        \n",
    "        \n",
    "        \n",
    "    if(indi==0):\n",
    "        print(\"prime number\",num)"
   ]
  },
  {
   "cell_type": "code",
   "execution_count": 65,
   "id": "22c8d2d0-86b4-4c24-9ddc-bd5d2f9cd129",
   "metadata": {},
   "outputs": [
    {
     "name": "stdout",
     "output_type": "stream",
     "text": [
      "hello 1\n",
      "hello 2\n",
      "outside statement  1\n"
     ]
    }
   ],
   "source": [
    "indicator = 0\n",
    "for x in range (1,5):\n",
    "    if(x==3):\n",
    "        indicator = 1\n",
    "        break\n",
    "\n",
    "    print(\"hello\",x)\n",
    "\n",
    "print(\"outside statement \",indicator)"
   ]
  },
  {
   "cell_type": "code",
   "execution_count": 41,
   "id": "e3c9367f-c7b1-401e-9c36-43cc0423c329",
   "metadata": {},
   "outputs": [],
   "source": [
    "## for with else only support in python (dont use)"
   ]
  },
  {
   "cell_type": "code",
   "execution_count": 43,
   "id": "b84843b7-e4ef-477d-9300-920a55646307",
   "metadata": {},
   "outputs": [],
   "source": [
    "# question\n",
    "\n",
    "## run a for loop from 2 to 10\n",
    "## check the smallest number which is dividing 27"
   ]
  },
  {
   "cell_type": "code",
   "execution_count": 57,
   "id": "6a154759-446c-45c7-8444-59f362071fe0",
   "metadata": {},
   "outputs": [
    {
     "name": "stdout",
     "output_type": "stream",
     "text": [
      "3\n"
     ]
    }
   ],
   "source": [
    "\n",
    "for i in range(2,10):\n",
    "    if(27%i==0):\n",
    "        print(i)\n",
    "        break\n",
    "        "
   ]
  },
  {
   "cell_type": "code",
   "execution_count": 67,
   "id": "3b561e3c-6a6d-4c03-9d39-ec7bd5847c1b",
   "metadata": {},
   "outputs": [],
   "source": [
    "# take a number 40\n",
    "# factor ka sum\n",
    "# 2,4,5,8,10,20"
   ]
  },
  {
   "cell_type": "code",
   "execution_count": 79,
   "id": "77d7b9b0-d0c9-4667-b6c0-d584ac08f61b",
   "metadata": {},
   "outputs": [
    {
     "name": "stdout",
     "output_type": "stream",
     "text": [
      "factors of 10: 1\n",
      "factors of 10: 2\n",
      "factors of 10: 4\n",
      "factors of 10: 5\n",
      "factors of 10: 8\n",
      "factors of 10: 10\n",
      "factors of 10: 20\n",
      "factors of 10: 40\n",
      "factor the sum 90\n"
     ]
    }
   ],
   "source": [
    "sum=0\n",
    "for i in range(1,41):\n",
    "    if(40%i==0):\n",
    "        print(\"factors of 10:\",i)\n",
    "        sum = sum+i\n",
    "print(\"factor the sum\",sum)\n",
    "\n"
   ]
  },
  {
   "cell_type": "code",
   "execution_count": 83,
   "id": "9e6d69cb-501e-4726-9c82-ac57f0724cdc",
   "metadata": {},
   "outputs": [
    {
     "name": "stdout",
     "output_type": "stream",
     "text": [
      "factors of 10: 1\n",
      "factors of 10: 2\n",
      "factors of 10: 4\n",
      "factors of 10: 5\n",
      "factors of 10: 8\n",
      "factors of 10: 10\n",
      "factors of 10: 20\n",
      "factors of 10: 40\n",
      "90\n"
     ]
    }
   ],
   "source": [
    "i = 1\n",
    "sum=0\n",
    "while(i<=41):\n",
    "    if(40%i==0):\n",
    "        print(\"factors of 10:\",i)\n",
    "        sum = sum + i\n",
    "    i += 1\n",
    "print(sum)\n"
   ]
  },
  {
   "cell_type": "code",
   "execution_count": null,
   "id": "125ebe5f-f1a5-4cb4-907e-86a74a3dc7f5",
   "metadata": {},
   "outputs": [],
   "source": []
  }
 ],
 "metadata": {
  "kernelspec": {
   "display_name": "Python 3 (ipykernel)",
   "language": "python",
   "name": "python3"
  },
  "language_info": {
   "codemirror_mode": {
    "name": "ipython",
    "version": 3
   },
   "file_extension": ".py",
   "mimetype": "text/x-python",
   "name": "python",
   "nbconvert_exporter": "python",
   "pygments_lexer": "ipython3",
   "version": "3.12.4"
  }
 },
 "nbformat": 4,
 "nbformat_minor": 5
}
