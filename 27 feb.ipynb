{
 "cells": [
  {
   "cell_type": "markdown",
   "id": "a0771691-7b80-446c-a5a2-b44bbc3fa8ca",
   "metadata": {},
   "source": [
    "# OPERATERS"
   ]
  },
  {
   "cell_type": "code",
   "execution_count": null,
   "id": "e240a2fc-d5de-447e-b357-1f5f4e5c4482",
   "metadata": {},
   "outputs": [],
   "source": [
    "# ARITMATIC OPERATORS\n",
    "# COMPARSION OPERATOR\n",
    "# ASSIGNMENT OPERATOR\n",
    "# LOGICAL OPERATORS\n",
    "# MEMBERSHIP OPERATORS\n",
    "# IDENTITY OPERATOR"
   ]
  },
  {
   "cell_type": "code",
   "execution_count": 4,
   "id": "2de101e2-aeaa-4548-afea-dc8c3880ffcd",
   "metadata": {},
   "outputs": [
    {
     "data": {
      "text/plain": [
       "1.0"
      ]
     },
     "execution_count": 4,
     "metadata": {},
     "output_type": "execute_result"
    }
   ],
   "source": [
    "10+3-2*5/1-2\n"
   ]
  },
  {
   "cell_type": "code",
   "execution_count": 8,
   "id": "76dc72e8-23c2-4b39-87c4-5e80b76220eb",
   "metadata": {},
   "outputs": [
    {
     "name": "stdout",
     "output_type": "stream",
     "text": [
      "19\n"
     ]
    }
   ],
   "source": [
    "AGE = 19\n",
    "AGE+5\n",
    "print(AGE)"
   ]
  },
  {
   "cell_type": "code",
   "execution_count": 10,
   "id": "c18b4939-7bba-43e2-99dd-ca32288bf69b",
   "metadata": {},
   "outputs": [
    {
     "name": "stdout",
     "output_type": "stream",
     "text": [
      "24\n"
     ]
    }
   ],
   "source": [
    "age = 19\n",
    "age += 5\n",
    "print(age)"
   ]
  },
  {
   "cell_type": "code",
   "execution_count": 12,
   "id": "bd015f18-3748-4f07-a72d-ee46e9db0a68",
   "metadata": {},
   "outputs": [
    {
     "data": {
      "text/plain": [
       "True"
      ]
     },
     "execution_count": 12,
     "metadata": {},
     "output_type": "execute_result"
    }
   ],
   "source": [
    "x = 10\n",
    "\n",
    "(x>5 and x>12) or x==10"
   ]
  },
  {
   "cell_type": "code",
   "execution_count": 18,
   "id": "f01b33a0-840d-4c0e-821d-32fba3f73b54",
   "metadata": {},
   "outputs": [
    {
     "data": {
      "text/plain": [
       "False"
      ]
     },
     "execution_count": 18,
     "metadata": {},
     "output_type": "execute_result"
    }
   ],
   "source": [
    "x = True\n",
    "not x"
   ]
  },
  {
   "cell_type": "markdown",
   "id": "d77a568b-af72-4757-884e-ea9d0c61f28e",
   "metadata": {},
   "source": [
    " # membership oerator"
   ]
  },
  {
   "cell_type": "code",
   "execution_count": 21,
   "id": "67651122-fb1d-40da-be1d-dc594532225d",
   "metadata": {},
   "outputs": [
    {
     "data": {
      "text/plain": [
       "True"
      ]
     },
     "execution_count": 21,
     "metadata": {},
     "output_type": "execute_result"
    }
   ],
   "source": [
    "\"y\" in \"yash\""
   ]
  },
  {
   "cell_type": "code",
   "execution_count": 23,
   "id": "e6dfa24d-d697-47d2-94a2-bf90324c5aef",
   "metadata": {},
   "outputs": [
    {
     "data": {
      "text/plain": [
       "False"
      ]
     },
     "execution_count": 23,
     "metadata": {},
     "output_type": "execute_result"
    }
   ],
   "source": [
    "\"Y\" in \"yash\""
   ]
  },
  {
   "cell_type": "code",
   "execution_count": 25,
   "id": "d09c3207-545a-452e-b704-6d10eb9ee44d",
   "metadata": {},
   "outputs": [
    {
     "data": {
      "text/plain": [
       "True"
      ]
     },
     "execution_count": 25,
     "metadata": {},
     "output_type": "execute_result"
    }
   ],
   "source": [
    "\"Y\" not in \"yash\""
   ]
  },
  {
   "cell_type": "code",
   "execution_count": 27,
   "id": "1d38f120-cff9-41d1-8219-b21be12d34cd",
   "metadata": {},
   "outputs": [
    {
     "data": {
      "text/plain": [
       "True"
      ]
     },
     "execution_count": 27,
     "metadata": {},
     "output_type": "execute_result"
    }
   ],
   "source": [
    "10 in [10,20,20]"
   ]
  },
  {
   "cell_type": "code",
   "execution_count": 29,
   "id": "483793c7-8a25-4fd3-9cc9-08157670b43d",
   "metadata": {},
   "outputs": [
    {
     "name": "stdout",
     "output_type": "stream",
     "text": [
      "x 140728407639576\n",
      "y 140728407639576\n"
     ]
    }
   ],
   "source": [
    "x= 100\n",
    "y=x\n",
    "print(\"x\",id(x))\n",
    "print(\"y\",id(y))"
   ]
  },
  {
   "cell_type": "code",
   "execution_count": 33,
   "id": "f953c3e9-6e0b-445a-bd83-f02660207db2",
   "metadata": {},
   "outputs": [
    {
     "name": "stdout",
     "output_type": "stream",
     "text": [
      "hey\n"
     ]
    }
   ],
   "source": [
    "if(True):\n",
    "    print(\"hey\")"
   ]
  },
  {
   "cell_type": "code",
   "execution_count": 35,
   "id": "27fa1336-53b6-4c8f-8628-aa38b0041e19",
   "metadata": {},
   "outputs": [
    {
     "name": "stdout",
     "output_type": "stream",
     "text": [
      "hey\n"
     ]
    }
   ],
   "source": [
    "age = 18\n",
    "if(age ==18):\n",
    "    print(\"hey\")"
   ]
  },
  {
   "cell_type": "code",
   "execution_count": 37,
   "id": "ceaef0f0-b856-4216-b884-a3bcb0827866",
   "metadata": {},
   "outputs": [
    {
     "name": "stdout",
     "output_type": "stream",
     "text": [
      "age is greater than 18\n"
     ]
    }
   ],
   "source": [
    "age = 19\n",
    "if(age ==18):\n",
    "    print(\"hey\")\n",
    "else:\n",
    "    print(\"age is greater than 18\")"
   ]
  },
  {
   "cell_type": "code",
   "execution_count": 41,
   "id": "9eac28ac-5889-407c-a113-a6c14941d145",
   "metadata": {},
   "outputs": [
    {
     "name": "stdout",
     "output_type": "stream",
     "text": [
      "odd\n"
     ]
    }
   ],
   "source": [
    "a =99\n",
    "if(a%2==0):\n",
    "    print(\"even\")\n",
    "else:\n",
    "    print(\"odd\")"
   ]
  },
  {
   "cell_type": "code",
   "execution_count": 43,
   "id": "96896227-6f83-4bda-a24b-88e1aa1938e2",
   "metadata": {},
   "outputs": [
    {
     "name": "stdout",
     "output_type": "stream",
     "text": [
      "even\n"
     ]
    }
   ],
   "source": [
    "a =1212\n",
    "if(a%2==0):\n",
    "    print(\"even\")\n",
    "else:\n",
    "    print(\"odd\")"
   ]
  },
  {
   "cell_type": "code",
   "execution_count": 49,
   "id": "b78e7bb1-f24b-4560-8458-6aeb5cabeb45",
   "metadata": {},
   "outputs": [
    {
     "name": "stdout",
     "output_type": "stream",
     "text": [
      "divisilbe\n"
     ]
    }
   ],
   "source": [
    "a =10\n",
    "if(a%2==0 or a%5==0):\n",
    "    print(\"divisilbe\")\n",
    "else:\n",
    "    print(\"not divisible\")"
   ]
  },
  {
   "cell_type": "code",
   "execution_count": 87,
   "id": "c7529d12-37c3-4fd7-be71-b39391a3712f",
   "metadata": {},
   "outputs": [
    {
     "name": "stdout",
     "output_type": "stream",
     "text": [
      "num is not divisible by 5 and 2\n"
     ]
    }
   ],
   "source": [
    "a =17\n",
    "if(a%2==0 ):\n",
    "    print(\"num is divisible by 2\")\n",
    "elif(a%5==0):\n",
    "    print(\"num is divivsible by 5\")\n",
    "else:\n",
    "    print(\"num is not divisible by 5 and 2\")"
   ]
  },
  {
   "cell_type": "markdown",
   "id": "7822d4b8-16cc-4920-9ee4-3c741c0ad36f",
   "metadata": {},
   "source": [
    "# Q:1 Take 3 variable and find the minimum value between."
   ]
  },
  {
   "cell_type": "code",
   "execution_count": 89,
   "id": "adc373fc-2899-465d-bd0c-8763dffc2721",
   "metadata": {},
   "outputs": [
    {
     "name": "stdout",
     "output_type": "stream",
     "text": [
      "b is mini\n"
     ]
    }
   ],
   "source": [
    "a = 1\n",
    "b = -1\n",
    "c = 5\n",
    "if(a<b and a<c):\n",
    "    print(\"a is mini\")\n",
    "elif(b<a and b<c):\n",
    "    print(\"b is mini\")\n",
    "else:\n",
    "    print(\"c is mini\")\n"
   ]
  },
  {
   "cell_type": "code",
   "execution_count": null,
   "id": "fde3d05f-0a5e-4e2e-b18d-512cd0784381",
   "metadata": {},
   "outputs": [],
   "source": []
  }
 ],
 "metadata": {
  "kernelspec": {
   "display_name": "Python 3 (ipykernel)",
   "language": "python",
   "name": "python3"
  },
  "language_info": {
   "codemirror_mode": {
    "name": "ipython",
    "version": 3
   },
   "file_extension": ".py",
   "mimetype": "text/x-python",
   "name": "python",
   "nbconvert_exporter": "python",
   "pygments_lexer": "ipython3",
   "version": "3.12.4"
  }
 },
 "nbformat": 4,
 "nbformat_minor": 5
}
