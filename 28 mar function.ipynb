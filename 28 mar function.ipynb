{
 "cells": [
  {
   "cell_type": "code",
   "execution_count": 1,
   "id": "a67ddf0a-e7ba-4c57-b7e6-b2ed31d43747",
   "metadata": {},
   "outputs": [],
   "source": [
    "# fucntion --> block of code\n",
    "# template\n",
    "# collection of statement\n",
    "# block of statement\n",
    "# code readable\n",
    "# code reusability\n",
    "# fucntions are two types --> 1. user define\n",
    "#                             2. pre define\n",
    "\n",
    "#  there are two types of scopes -->  1. local scope --> inside the fucntion we can't use the outside the fucntion.\n",
    "#                                     2. global scope  --> we can acess anywhere anytime outside or inside\n",
    "\n",
    "# There are 5 types of argument :-->\n",
    "#                                    1. Positional argument\n",
    "#                                    2. keyword argument\n",
    "#                                    3. default argument\n",
    "#                                    4. arbitary positinal argument (*args)\n",
    "#                                    5. Arbitary keyword argument (**kwargs)"
   ]
  },
  {
   "cell_type": "code",
   "execution_count": 9,
   "id": "77b9aefe-3f79-4a6f-ba24-3d7e5f1d9842",
   "metadata": {},
   "outputs": [
    {
     "name": "stdout",
     "output_type": "stream",
     "text": [
      "hey user\n",
      "hello\n"
     ]
    }
   ],
   "source": [
    "def msg():          # --> fuction declare\n",
    "    print(\"hey user\")\n",
    "    print(\"hello\")\n",
    "msg()                # calling the function"
   ]
  },
  {
   "cell_type": "code",
   "execution_count": 15,
   "id": "f7825ef4-134c-4d03-ae8c-2cb4fd705de3",
   "metadata": {},
   "outputs": [
    {
     "name": "stdout",
     "output_type": "stream",
     "text": [
      "hey user 19\n"
     ]
    }
   ],
   "source": [
    "def msg ():\n",
    "    c=19   # life scope   (local scope)\n",
    "    print(\"hey user\",c)\n",
    "msg()"
   ]
  },
  {
   "cell_type": "code",
   "execution_count": 17,
   "id": "9173e699-47f3-42f4-84df-7510b5524993",
   "metadata": {},
   "outputs": [
    {
     "name": "stdout",
     "output_type": "stream",
     "text": [
      "hey user 17 19\n"
     ]
    }
   ],
   "source": [
    "y=17           # global scope \n",
    "def msg():\n",
    "    c=19       # we make a c variable this is called parameter\n",
    "    print(\"hey user\",y,c)\n",
    "msg()"
   ]
  },
  {
   "cell_type": "code",
   "execution_count": 21,
   "id": "87a54630-fb7d-44e0-8ac6-37bc22eb8f14",
   "metadata": {},
   "outputs": [
    {
     "name": "stdout",
     "output_type": "stream",
     "text": [
      "hey user 100\n"
     ]
    }
   ],
   "source": [
    "def msg(c):\n",
    "    print(\"hey user\",c)\n",
    "msg(100)           # here 100 is argument"
   ]
  },
  {
   "cell_type": "code",
   "execution_count": 25,
   "id": "859f8314-05a9-4d9c-8a12-a31b9ed475db",
   "metadata": {},
   "outputs": [
    {
     "name": "stdout",
     "output_type": "stream",
     "text": [
      "hey user: 100 101\n"
     ]
    }
   ],
   "source": [
    "def msg(c,d):\n",
    "    print(\"hey user:\",c,d)\n",
    "msg(100,101)           # here sequence matters a alot"
   ]
  },
  {
   "cell_type": "code",
   "execution_count": 27,
   "id": "05ed91bc-1734-4b80-98a5-c5ac7d553407",
   "metadata": {},
   "outputs": [
    {
     "name": "stdout",
     "output_type": "stream",
     "text": [
      "odd\n",
      "even\n"
     ]
    }
   ],
   "source": [
    "def fuct(a):\n",
    "    if(a%2==0):\n",
    "        print(\"even\")\n",
    "    else:\n",
    "        print(\"odd\")\n",
    "fuct(11)\n",
    "fuct(66)"
   ]
  },
  {
   "cell_type": "code",
   "execution_count": 78,
   "id": "efbdbfa5-09f9-46ff-839b-c79ed0174174",
   "metadata": {},
   "outputs": [
    {
     "name": "stdout",
     "output_type": "stream",
     "text": [
      "12345\n",
      "2345\n",
      "345\n",
      "45\n",
      "5\n",
      "\n"
     ]
    }
   ],
   "source": [
    "def pattern(num):\n",
    "    for i in range(1,num+1):  \n",
    "        for j in range(i,num):   \n",
    "            print(j, end=\"\")\n",
    "            \n",
    "        print()  \n",
    "pattern(6)\n"
   ]
  },
  {
   "cell_type": "code",
   "execution_count": 80,
   "id": "b96a45dc-192a-4b1f-a730-c3cfe92201a9",
   "metadata": {},
   "outputs": [
    {
     "name": "stdout",
     "output_type": "stream",
     "text": [
      "all the factors 1\n",
      "all the factors 2\n",
      "all the factors 4\n",
      "all the factors 8\n"
     ]
    }
   ],
   "source": [
    "\n",
    "for i in range(1,9):\n",
    "    if(8%i==0):\n",
    "        print(\"all the factors\",i)"
   ]
  },
  {
   "cell_type": "code",
   "execution_count": 92,
   "id": "5d9f8424-a3a1-4791-93b6-98cf8287de9a",
   "metadata": {},
   "outputs": [
    {
     "name": "stdout",
     "output_type": "stream",
     "text": [
      "all the factors 1\n",
      "all the factors 3\n",
      "all the factors 9\n"
     ]
    }
   ],
   "source": [
    "def factor(num):\n",
    "    for i in range(1,num+1):\n",
    "        if(num%i==0):\n",
    "            print(\"all the factors\",i)\n",
    "factor(9)  "
   ]
  },
  {
   "cell_type": "code",
   "execution_count": 35,
   "id": "5ee66325-7ed7-4b2b-99d5-7d040d34cf9b",
   "metadata": {},
   "outputs": [
    {
     "name": "stdout",
     "output_type": "stream",
     "text": [
      "greater than 10\n"
     ]
    }
   ],
   "source": [
    "def string(num):\n",
    "    c=0\n",
    "    for i in num:\n",
    "        c+=1\n",
    "        \n",
    "    if c>10:\n",
    "        print(\"greater than 10\")\n",
    "\n",
    "    else:\n",
    "        print(\"smaller than 10\")\n",
    "string('hardiksomani')\n",
    "\n"
   ]
  },
  {
   "cell_type": "code",
   "execution_count": null,
   "id": "a56ecb34-d658-4453-9112-03ec769feee2",
   "metadata": {},
   "outputs": [],
   "source": []
  }
 ],
 "metadata": {
  "kernelspec": {
   "display_name": "Python 3 (ipykernel)",
   "language": "python",
   "name": "python3"
  },
  "language_info": {
   "codemirror_mode": {
    "name": "ipython",
    "version": 3
   },
   "file_extension": ".py",
   "mimetype": "text/x-python",
   "name": "python",
   "nbconvert_exporter": "python",
   "pygments_lexer": "ipython3",
   "version": "3.12.4"
  }
 },
 "nbformat": 4,
 "nbformat_minor": 5
}
