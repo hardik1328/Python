{
 "cells": [
  {
   "cell_type": "code",
   "execution_count": 3,
   "id": "58801177-34b6-4d96-ba83-dd8738aeef55",
   "metadata": {},
   "outputs": [
    {
     "name": "stdout",
     "output_type": "stream",
     "text": [
      "[10, 20, 30, 'h', 'e', 'y', 'hello', 80]\n"
     ]
    }
   ],
   "source": [
    "mylist = [10 , 20 ,30]\n",
    "mylist.extend(\"hey\")\n",
    "mylist.extend([\"hello\",80])\n",
    "print(mylist)"
   ]
  },
  {
   "cell_type": "code",
   "execution_count": 7,
   "id": "d78167bd-3e73-4e6e-a3bd-f935e93fb074",
   "metadata": {},
   "outputs": [
    {
     "name": "stdout",
     "output_type": "stream",
     "text": [
      "[10, 20, 30, 'h', 'e', 'y', 'hello']\n"
     ]
    }
   ],
   "source": [
    "mylist\n",
    "mylist.pop()\n",
    "print(mylist)"
   ]
  },
  {
   "cell_type": "code",
   "execution_count": 11,
   "id": "95b4bd8b-e6a8-42ad-9dd7-a044411b6ae2",
   "metadata": {},
   "outputs": [
    {
     "name": "stdout",
     "output_type": "stream",
     "text": [
      "[20, 30, 'h', 'e', 'y'] 10\n"
     ]
    }
   ],
   "source": [
    "mylist\n",
    "x = mylist.pop(0)\n",
    "print(mylist,x)"
   ]
  },
  {
   "cell_type": "code",
   "execution_count": 13,
   "id": "ed3acf23-7adb-4cea-8aab-a671317b77a0",
   "metadata": {},
   "outputs": [
    {
     "data": {
      "text/plain": [
       "[2, 4, 10, 20, 30, 60]"
      ]
     },
     "execution_count": 13,
     "metadata": {},
     "output_type": "execute_result"
    }
   ],
   "source": [
    "list = [10,20,30,4,60,2]\n",
    "list.sort()\n",
    "list"
   ]
  },
  {
   "cell_type": "code",
   "execution_count": 15,
   "id": "c8824a24-9e94-4fc4-9262-1383dda9488b",
   "metadata": {},
   "outputs": [
    {
     "name": "stdout",
     "output_type": "stream",
     "text": [
      "10\n",
      "20\n",
      "30\n",
      "4\n",
      "60\n",
      "2\n"
     ]
    }
   ],
   "source": [
    "list = [10,20,30,4,60,2]\n",
    "for i in list:                      # then list is will be iterable\n",
    "    print(i)"
   ]
  },
  {
   "cell_type": "code",
   "execution_count": 31,
   "id": "2b818fae-3d29-494a-a05c-f69520da27c4",
   "metadata": {},
   "outputs": [
    {
     "name": "stdout",
     "output_type": "stream",
     "text": [
      "0 10\n",
      "1 20\n",
      "2 30\n",
      "3 4\n",
      "4 60\n",
      "5 27\n",
      "6 5\n",
      "7 90\n"
     ]
    }
   ],
   "source": [
    "list = [10,20,30,4,60,27,5,90]\n",
    "for i in range(0,len(list)):\n",
    "    print(i,list[i])"
   ]
  },
  {
   "cell_type": "code",
   "execution_count": 55,
   "id": "f1acd38b-e5c3-4444-807f-9e8930f7e06a",
   "metadata": {},
   "outputs": [
    {
     "name": "stdout",
     "output_type": "stream",
     "text": [
      "[1, 2, 3, 4, 5, 6, 7, 8, 9, 10, 11, 12, 13, 14, 15, 16, 17, 18, 19, 20, 21, 22, 23, 24, 25, 26, 27, 28, 29, 30, 31, 32, 33, 34, 35, 36, 37, 38, 39, 40, 41, 42, 43, 44, 45, 46, 47, 48, 49, 50, 51, 52, 53, 54, 55, 56, 57, 58, 59, 60, 61, 62, 63, 64, 65, 66, 67, 68, 69, 70, 71, 72, 73, 74, 75, 76, 77, 78, 79, 80, 81, 82, 83, 84, 85, 86, 87, 88, 89, 90, 91, 92, 93, 94, 95, 96, 97, 98, 99, 100]\n"
     ]
    }
   ],
   "source": [
    "list = []\n",
    "for i in range(1,101):\n",
    "    \n",
    "    list.append(i)\n",
    "    \n",
    "print(list)\n",
    "    "
   ]
  },
  {
   "cell_type": "code",
   "execution_count": 75,
   "id": "22402ba8-85cd-445c-9d3e-c4955ce49780",
   "metadata": {},
   "outputs": [
    {
     "name": "stdout",
     "output_type": "stream",
     "text": [
      "not\n",
      "not\n",
      "value is matched\n",
      "not\n"
     ]
    }
   ],
   "source": [
    "x = 30\n",
    "list = [10,20,30,40]\n",
    "for i in list:\n",
    "    \n",
    "\n",
    "    if (x==i):\n",
    "        print(\"value is matched\")\n",
    "    else:\n",
    "        print(\"not\")"
   ]
  },
  {
   "cell_type": "code",
   "execution_count": 88,
   "id": "0e098557-a9dc-41b5-ac51-85bb4e936c9c",
   "metadata": {},
   "outputs": [
    {
     "name": "stdout",
     "output_type": "stream",
     "text": [
      "value matched\n"
     ]
    }
   ],
   "source": [
    "x = 40\n",
    "list = [10,20,30,40]\n",
    "a=0\n",
    "for i in list:\n",
    "    if (x==i):\n",
    "        a=1\n",
    "        break\n",
    "if(a==1):\n",
    "    print(\"value matched\")\n",
    "else:\n",
    "    print(\"not\")\n"
   ]
  },
  {
   "cell_type": "code",
   "execution_count": 90,
   "id": "0a7d464b-1371-4b36-85fc-97cfa9c64ad4",
   "metadata": {},
   "outputs": [
    {
     "data": {
      "text/plain": [
       "4"
      ]
     },
     "execution_count": 90,
     "metadata": {},
     "output_type": "execute_result"
    }
   ],
   "source": [
    "a = [10,20,10,30,10,401,10]\n",
    "a.count(10)"
   ]
  },
  {
   "cell_type": "code",
   "execution_count": 110,
   "id": "1f3611e1-2288-4778-9375-485bda314126",
   "metadata": {},
   "outputs": [
    {
     "name": "stdout",
     "output_type": "stream",
     "text": [
      "5\n"
     ]
    }
   ],
   "source": [
    "list = [10,20,30,10,40,30,30,60,10,10,10]\n",
    "x = 10\n",
    "count = 0\n",
    "for i in range(0,len(list)):\n",
    "    if(x==list[i]):\n",
    "        count +=1\n",
    "print(count)"
   ]
  },
  {
   "cell_type": "code",
   "execution_count": 7,
   "id": "9492408a-5225-4794-b655-d0b301916c02",
   "metadata": {},
   "outputs": [
    {
     "name": "stdout",
     "output_type": "stream",
     "text": [
      "3\n"
     ]
    }
   ],
   "source": [
    "list = [10,20,30,10,40,10,20]\n",
    "x = list[0]\n",
    "count = 1\n",
    "for i in range(1,len(list)):\n",
    "    if (x==list[i]):\n",
    "        count += 1\n",
    "print(count)"
   ]
  },
  {
   "cell_type": "code",
   "execution_count": 15,
   "id": "160103fb-5f47-49f9-bf0a-6430e0c67cd1",
   "metadata": {},
   "outputs": [
    {
     "name": "stdout",
     "output_type": "stream",
     "text": [
      "10 20\n",
      "10 30\n",
      "10 10\n",
      "10 40\n",
      "10 10\n",
      "10 20\n"
     ]
    }
   ],
   "source": [
    "list = [10,20,30,10,40,10,20]\n",
    "for i in range(0,1):\n",
    "    for j in range(i+1 , len(list)):\n",
    "        print(list[i] , list [j])"
   ]
  },
  {
   "cell_type": "code",
   "execution_count": 17,
   "id": "d16513df-d627-485b-b54d-eca5637a0fd8",
   "metadata": {},
   "outputs": [
    {
     "name": "stdout",
     "output_type": "stream",
     "text": [
      "\n",
      "10 20\n",
      "10 30\n",
      "10 10\n",
      "10 40\n",
      "10 10\n",
      "10 20\n",
      "\n",
      "20 30\n",
      "20 10\n",
      "20 40\n",
      "20 10\n",
      "20 20\n"
     ]
    }
   ],
   "source": [
    "list = [10,20,30,10,40,10,20]\n",
    "for i in range(0,2):\n",
    "    print()\n",
    "    for j in range(i+1 , len(list)):\n",
    "        print(list[i] , list [j])"
   ]
  },
  {
   "cell_type": "code",
   "execution_count": 23,
   "id": "15e1c7b4-f70b-470d-bdfd-ef81db168f44",
   "metadata": {},
   "outputs": [
    {
     "name": "stdout",
     "output_type": "stream",
     "text": [
      "3\n"
     ]
    }
   ],
   "source": [
    "list = [10,20,30,10,40,10,20]\n",
    "count = 1\n",
    "for i in range(0,1):\n",
    "    for j in range(i+1 , len(list)):\n",
    "        if(list[i] == list [j]):\n",
    "            count += 1\n",
    "print(count)"
   ]
  },
  {
   "cell_type": "code",
   "execution_count": 31,
   "id": "c1d730da-d24d-4778-8bc2-843b23ce41f8",
   "metadata": {},
   "outputs": [
    {
     "name": "stdout",
     "output_type": "stream",
     "text": [
      "4\n"
     ]
    }
   ],
   "source": [
    "list = [10,20,30,10,40,10,20]\n",
    "count = 0\n",
    "for i in range(0,len(list)-2):\n",
    "    for j in range(i+1 , len(list)):\n",
    "        if(list[i] == list [j]):\n",
    "            count += 1\n",
    "print(count)"
   ]
  },
  {
   "cell_type": "code",
   "execution_count": null,
   "id": "0cea3e0e-d4d3-4df2-91f4-52ee4aff0dfc",
   "metadata": {},
   "outputs": [],
   "source": []
  }
 ],
 "metadata": {
  "kernelspec": {
   "display_name": "Python 3 (ipykernel)",
   "language": "python",
   "name": "python3"
  },
  "language_info": {
   "codemirror_mode": {
    "name": "ipython",
    "version": 3
   },
   "file_extension": ".py",
   "mimetype": "text/x-python",
   "name": "python",
   "nbconvert_exporter": "python",
   "pygments_lexer": "ipython3",
   "version": "3.12.4"
  }
 },
 "nbformat": 4,
 "nbformat_minor": 5
}
