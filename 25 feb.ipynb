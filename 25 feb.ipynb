{
 "cells": [
  {
   "cell_type": "code",
   "execution_count": 1,
   "id": "fa2126e6-22a5-4989-a4aa-51d4359d910e",
   "metadata": {},
   "outputs": [
    {
     "name": "stdout",
     "output_type": "stream",
     "text": [
      "hello world\n"
     ]
    }
   ],
   "source": [
    "print(\"hello world\")"
   ]
  },
  {
   "cell_type": "code",
   "execution_count": 3,
   "id": "d153ba1c-9f46-406e-bc86-1bf61690c6fa",
   "metadata": {},
   "outputs": [
    {
     "name": "stdout",
     "output_type": "stream",
     "text": [
      "10\n"
     ]
    }
   ],
   "source": [
    "x=10\n",
    "print(x)"
   ]
  },
  {
   "cell_type": "code",
   "execution_count": 5,
   "id": "a100110f-8347-4bf9-b3e6-a9af9b6ed020",
   "metadata": {},
   "outputs": [
    {
     "name": "stdout",
     "output_type": "stream",
     "text": [
      "<class 'int'>\n"
     ]
    }
   ],
   "source": [
    "print(type(x))"
   ]
  },
  {
   "cell_type": "code",
   "execution_count": 7,
   "id": "cd0a21e9-ceee-469a-971f-bb6582fbd39f",
   "metadata": {},
   "outputs": [
    {
     "name": "stdout",
     "output_type": "stream",
     "text": [
      "my age is 40\n"
     ]
    }
   ],
   "source": [
    "age = 40\n",
    "print(\"my age is\",age)"
   ]
  },
  {
   "cell_type": "code",
   "execution_count": 9,
   "id": "326d3c4c-770f-437b-a167-4586a91a9cd0",
   "metadata": {},
   "outputs": [
    {
     "name": "stdout",
     "output_type": "stream",
     "text": [
      "hii*hello\n",
      "user\n"
     ]
    }
   ],
   "source": [
    " print(\"hii\",end = '*')\n",
    "print(\"hello\")\n",
    "print(\"user\")"
   ]
  },
  {
   "cell_type": "markdown",
   "id": "ffa7d0c4-dfed-4e36-98f8-fe0b1e5577d9",
   "metadata": {},
   "source": [
    "in python --> \"\",'' if we write in this anything the python give the string the meaning of string is (the combination of many characters)."
   ]
  },
  {
   "cell_type": "markdown",
   "id": "06e8e5a1-f0b8-4859-8ed6-86b9ebd43cff",
   "metadata": {},
   "source": [
    "(#) use this for documentation (kt) knowledge transfer.\n",
    "documentation => comment ('''   ''' (multi line comment))\n",
    "\n"
   ]
  },
  {
   "cell_type": "code",
   "execution_count": 15,
   "id": "67feac50-fe03-4335-97ca-096e4c71c557",
   "metadata": {},
   "outputs": [
    {
     "name": "stdout",
     "output_type": "stream",
     "text": [
      " basant bihar\n",
      "gopalpura\n"
     ]
    }
   ],
   "source": [
    "add = \"\"\" basant bihar\n",
    "gopalpura\"\"\"\n",
    "print(add)"
   ]
  },
  {
   "cell_type": "markdown",
   "id": "4a59cd68-4000-4281-949b-85e91d4355dd",
   "metadata": {},
   "source": [
    "# string formating"
   ]
  },
  {
   "cell_type": "code",
   "execution_count": 24,
   "id": "25567fd7-1905-4794-83bf-083fb81fa8bf",
   "metadata": {},
   "outputs": [
    {
     "name": "stdout",
     "output_type": "stream",
     "text": [
      "year is  2024 company is  regex\n"
     ]
    }
   ],
   "source": [
    "year = 2024\n",
    "company = \"regex\"\n",
    "print(\"year is \",year,\"company is \",company)"
   ]
  },
  {
   "cell_type": "code",
   "execution_count": 26,
   "id": "eafe39f5-ff81-450a-9ece-f0bb34b3b6f6",
   "metadata": {},
   "outputs": [
    {
     "name": "stdout",
     "output_type": "stream",
     "text": [
      "year is 2024 company is regex\n"
     ]
    }
   ],
   "source": [
    "print(f\"year is {year} company is {company}\")              "
   ]
  },
  {
   "cell_type": "code",
   "execution_count": 28,
   "id": "10ede747-ac22-4081-890b-079bdaa2ae7d",
   "metadata": {},
   "outputs": [
    {
     "ename": "NameError",
     "evalue": "name 'y' is not defined",
     "output_type": "error",
     "traceback": [
      "\u001b[1;31m---------------------------------------------------------------------------\u001b[0m",
      "\u001b[1;31mNameError\u001b[0m                                 Traceback (most recent call last)",
      "Cell \u001b[1;32mIn[28], line 1\u001b[0m\n\u001b[1;32m----> 1\u001b[0m \u001b[38;5;28mprint\u001b[39m(y)\n\u001b[0;32m      2\u001b[0m y\u001b[38;5;241m=\u001b[39m\u001b[38;5;241m10\u001b[39m\n",
      "\u001b[1;31mNameError\u001b[0m: name 'y' is not defined"
     ]
    }
   ],
   "source": [
    "print(y)\n",
    "y=10"
   ]
  },
  {
   "cell_type": "code",
   "execution_count": 30,
   "id": "dbf4159c-7a6a-4892-aea1-578794bddbb3",
   "metadata": {},
   "outputs": [],
   "source": [
    "user=\"hardik\""
   ]
  },
  {
   "cell_type": "code",
   "execution_count": 32,
   "id": "b6917b90-703a-450e-b8c1-4e131bb79f82",
   "metadata": {},
   "outputs": [
    {
     "name": "stdout",
     "output_type": "stream",
     "text": [
      "hey user hardik\n",
      "hey user hardik\n"
     ]
    }
   ],
   "source": [
    "msg=f\"hey user {user}\"\n",
    "print(msg)\n",
    "user=\"karan\"\n",
    "print(msg)"
   ]
  },
  {
   "cell_type": "markdown",
   "id": "5bc58b99-a967-4b65-a241-3c4721974678",
   "metadata": {},
   "source": [
    "# .format method old method"
   ]
  },
  {
   "cell_type": "code",
   "execution_count": 35,
   "id": "a5efbd22-09c1-401b-8d5d-caf03344bf2a",
   "metadata": {},
   "outputs": [
    {
     "data": {
      "text/plain": [
       "'year is 2024'"
      ]
     },
     "execution_count": 35,
     "metadata": {},
     "output_type": "execute_result"
    }
   ],
   "source": [
    "\"year is {}\".format(2024)"
   ]
  },
  {
   "cell_type": "code",
   "execution_count": 39,
   "id": "d636461f-6b67-49f8-a30c-cf51da13a806",
   "metadata": {},
   "outputs": [
    {
     "data": {
      "text/plain": [
       "'year is 2024 comapny name is regex'"
      ]
     },
     "execution_count": 39,
     "metadata": {},
     "output_type": "execute_result"
    }
   ],
   "source": [
    "\"year is {} comapny name is {}\".format(2024,\"regex\")"
   ]
  },
  {
   "cell_type": "code",
   "execution_count": null,
   "id": "ba1472bd-535e-4c8a-b5fa-43715e23aaf8",
   "metadata": {},
   "outputs": [],
   "source": [
    "\n",
    "    "
   ]
  }
 ],
 "metadata": {
  "kernelspec": {
   "display_name": "Python 3 (ipykernel)",
   "language": "python",
   "name": "python3"
  },
  "language_info": {
   "codemirror_mode": {
    "name": "ipython",
    "version": 3
   },
   "file_extension": ".py",
   "mimetype": "text/x-python",
   "name": "python",
   "nbconvert_exporter": "python",
   "pygments_lexer": "ipython3",
   "version": "3.12.4"
  }
 },
 "nbformat": 4,
 "nbformat_minor": 5
}
