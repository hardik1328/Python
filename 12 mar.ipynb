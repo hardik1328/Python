{
 "cells": [
  {
   "cell_type": "markdown",
   "id": "296662d3-4c4f-499d-816d-a8093b1e5285",
   "metadata": {},
   "source": [
    "# palindrome for string"
   ]
  },
  {
   "cell_type": "markdown",
   "id": "001cc3f0-8940-4a13-b530-cd27f627fda9",
   "metadata": {},
   "source": [
    " naman\n",
    "       1. loop\n",
    "       2. two pointer approach\n",
    "    "
   ]
  },
  {
   "cell_type": "code",
   "execution_count": 43,
   "id": "66db3f0b-ab5a-4b94-a596-7e85a1f5088f",
   "metadata": {},
   "outputs": [
    {
     "name": "stdout",
     "output_type": "stream",
     "text": [
      "0 N 4 N\n"
     ]
    }
   ],
   "source": [
    "data = \"NAMAN\"\n",
    "start = 0\n",
    "end = len(data)-1\n",
    "print(start, data[start], end, data[end])\n"
   ]
  },
  {
   "cell_type": "code",
   "execution_count": 41,
   "id": "043492c0-983f-47b4-9599-916f7fb58be0",
   "metadata": {},
   "outputs": [
    {
     "name": "stdout",
     "output_type": "stream",
     "text": [
      "0 N 4 N\n",
      "1 A 4 N\n"
     ]
    }
   ],
   "source": [
    "data = \"NAMAN\"\n",
    "start = 0\n",
    "end = len(data)-1\n",
    "print(start, data[start], end, data[end])\n",
    "start +=1\n",
    "print(start , data[start], end , data[end])"
   ]
  },
  {
   "cell_type": "code",
   "execution_count": 49,
   "id": "9d1f8272-deaa-445d-bd61-89916c694680",
   "metadata": {},
   "outputs": [
    {
     "name": "stdout",
     "output_type": "stream",
     "text": [
      "0 N 4 N\n",
      "1 A 3 A\n",
      "2 M 2 M\n"
     ]
    }
   ],
   "source": [
    "data = \"NAMAN\"\n",
    "start = 0\n",
    "end = len(data)-1\n",
    "print(start, data[start], end, data[end])\n",
    "start +=1\n",
    "end -= 1\n",
    "print(start , data[start], end , data[end])\n",
    "\n",
    "start +=1\n",
    "end -= 1\n",
    "print(start , data[start], end , data[end])"
   ]
  },
  {
   "cell_type": "code",
   "execution_count": 51,
   "id": "37e0a924-8ade-4f16-b5d2-e7e96a5e0cb1",
   "metadata": {},
   "outputs": [
    {
     "name": "stdout",
     "output_type": "stream",
     "text": [
      "0 N 4 N\n",
      "1 A 3 A\n",
      "2 M 2 M\n",
      "3 A 1 A\n"
     ]
    }
   ],
   "source": [
    "data = \"NAMAN\"\n",
    "start = 0\n",
    "end = len(data)-1\n",
    "print(start, data[start], end, data[end])\n",
    "start +=1\n",
    "end -= 1\n",
    "print(start , data[start], end , data[end])\n",
    "\n",
    "start +=1\n",
    "end -= 1\n",
    "print(start , data[start], end , data[end])\n",
    "\n",
    "start +=1\n",
    "end -= 1\n",
    "print(start , data[start], end , data[end])"
   ]
  },
  {
   "cell_type": "code",
   "execution_count": 56,
   "id": "f7d83435-9761-427b-b9f4-aefa673660ab",
   "metadata": {},
   "outputs": [
    {
     "name": "stdout",
     "output_type": "stream",
     "text": [
      "0 N 4 N\n",
      "1 A 3 A\n",
      "2 M 2 M\n",
      "3 A 1 A\n",
      "4 N 0 N\n"
     ]
    }
   ],
   "source": [
    "data = \"NAMAN\"\n",
    "start = 0\n",
    "end = len(data)-1\n",
    "print(start, data[start], end, data[end])\n",
    "start +=1\n",
    "end -= 1\n",
    "print(start , data[start], end , data[end])\n",
    "\n",
    "start +=1\n",
    "end -= 1\n",
    "print(start , data[start], end , data[end])\n",
    "\n",
    "start +=1\n",
    "end -= 1\n",
    "print(start , data[start], end , data[end])\n",
    "\n",
    "start +=1\n",
    "end -= 1\n",
    "print(start , data[start], end , data[end])"
   ]
  },
  {
   "cell_type": "code",
   "execution_count": 60,
   "id": "83768fc0-c13b-4ab9-9a83-a087a5be72a2",
   "metadata": {},
   "outputs": [
    {
     "name": "stdout",
     "output_type": "stream",
     "text": [
      "0 N 4 N\n",
      "1 A 3 A\n",
      "2 M 2 M\n",
      "3 A 1 A\n",
      "4 N 0 N\n"
     ]
    }
   ],
   "source": [
    "data = \"NAMAN\"\n",
    "start = 0\n",
    "end = len(data)-1\n",
    "\n",
    "while (start < len(data) ):\n",
    "    print(start , data[start], end , data[end])\n",
    "    start += 1\n",
    "    end -= 1"
   ]
  },
  {
   "cell_type": "code",
   "execution_count": 68,
   "id": "d0dae0e1-1df3-45b5-8d76-dfdd65a00d31",
   "metadata": {},
   "outputs": [
    {
     "name": "stdout",
     "output_type": "stream",
     "text": [
      "0 N 4 N\n"
     ]
    }
   ],
   "source": [
    "data = \"NAMdN\"\n",
    "start = 0\n",
    "end = len(data)-1\n",
    "\n",
    "while (start < len(data) ):\n",
    "    if(data[start] != data[end]):\n",
    "        break\n",
    "    print(start , data[start], end , data[end])\n",
    "    start += 1\n",
    "    end -= 1"
   ]
  },
  {
   "cell_type": "code",
   "execution_count": null,
   "id": "629220cf-9c3c-434d-9d64-b41f3646c6d0",
   "metadata": {},
   "outputs": [],
   "source": []
  },
  {
   "cell_type": "code",
   "execution_count": 76,
   "id": "606771e9-a766-475d-9b05-51e72a8db836",
   "metadata": {},
   "outputs": [
    {
     "name": "stdout",
     "output_type": "stream",
     "text": [
      "0 N 4 N\n",
      "1 A 3 A\n",
      "2 M 2 M\n",
      "3 A 1 A\n",
      "4 N 0 N\n",
      "\n",
      "palindrome\n"
     ]
    }
   ],
   "source": [
    "data = \"NAMAN\"\n",
    "start = 0\n",
    "end = len(data)-1\n",
    "x = 0\n",
    "\n",
    "while (start < len(data) ):\n",
    "    if(data[start] != data[end]):\n",
    "        x=1\n",
    "        break\n",
    "    print(start , data[start], end , data[end])\n",
    "    start += 1\n",
    "    end -= 1\n",
    "print()\n",
    "\n",
    "if(x==1):\n",
    "    print(\"string is not palindrome\")\n",
    "else:\n",
    "    print(\"palindrome\")"
   ]
  },
  {
   "cell_type": "code",
   "execution_count": 74,
   "id": "947e5d9b-0d9e-4cc5-ac1b-8f10cdd2b0f7",
   "metadata": {},
   "outputs": [
    {
     "name": "stdout",
     "output_type": "stream",
     "text": [
      "0 N 4 N\n",
      "string is not palindrome\n"
     ]
    }
   ],
   "source": [
    "data = \"NAMWN\"\n",
    "start = 0\n",
    "end = len(data)-1\n",
    "x = 0\n",
    "\n",
    "while (start < len(data) ):\n",
    "    if(data[start] != data[end]):\n",
    "        x=1\n",
    "        break\n",
    "    print(start , data[start], end , data[end])\n",
    "    start += 1\n",
    "    end -= 1\n",
    "\n",
    "if(x==1):\n",
    "    print(\"string is not palindrome\")\n",
    "else:\n",
    "    print(\"palindrome\")"
   ]
  },
  {
   "cell_type": "markdown",
   "id": "5123950c-9f28-4720-ae62-a5470c6b087d",
   "metadata": {},
   "source": [
    "# Q: rajrt in this how many times r is occured"
   ]
  },
  {
   "cell_type": "code",
   "execution_count": 83,
   "id": "889b6c6c-f3bf-40c9-8ca2-8d15fb0e689e",
   "metadata": {},
   "outputs": [
    {
     "name": "stdout",
     "output_type": "stream",
     "text": [
      "2\n"
     ]
    }
   ],
   "source": [
    "data = \"rajrt\"\n",
    "sat = 0\n",
    "end = len(data)-1\n",
    "count = 1\n",
    "while(end > 0):\n",
    "    if(data[sat] == data[end]):\n",
    "        count += 1\n",
    "    end -= 1\n",
    "print(count)\n",
    "    "
   ]
  },
  {
   "cell_type": "code",
   "execution_count": 19,
   "id": "d0bd8a75-f79d-4636-b467-1938585475eb",
   "metadata": {},
   "outputs": [
    {
     "name": "stdout",
     "output_type": "stream",
     "text": [
      "3\n"
     ]
    }
   ],
   "source": [
    "data = \"rajrtr\"\n",
    "sat = 0\n",
    "end = len(data)-1\n",
    "count = 1\n",
    "while(end > 0):\n",
    "    if(data[sat] == data[end]):\n",
    "        count += 1\n",
    "    end -= 1\n",
    "print(count)\n",
    "    "
   ]
  },
  {
   "cell_type": "code",
   "execution_count": 22,
   "id": "057905dc-5c3c-45b1-949b-f842f0ccc23d",
   "metadata": {},
   "outputs": [],
   "source": [
    "# list\n",
    "# datatype\n",
    "# collect/store\n",
    "# mutiple datatype values can be store\n",
    "# mututalbe  - changeable\n",
    "# ordered collection of element\n"
   ]
  },
  {
   "cell_type": "code",
   "execution_count": 24,
   "id": "2cb7e163-b315-4232-a0ed-13bb2cff5330",
   "metadata": {},
   "outputs": [],
   "source": [
    "person = [10 , \"heena\",1890]"
   ]
  },
  {
   "cell_type": "code",
   "execution_count": 26,
   "id": "c4a3af7a-e5be-4ef7-8b51-7a50b6d99fe4",
   "metadata": {},
   "outputs": [
    {
     "data": {
      "text/plain": [
       "'heena'"
      ]
     },
     "execution_count": 26,
     "metadata": {},
     "output_type": "execute_result"
    }
   ],
   "source": [
    "person[1]"
   ]
  },
  {
   "cell_type": "code",
   "execution_count": 36,
   "id": "03a445a2-9454-4290-90ed-d97f77c9fcbf",
   "metadata": {},
   "outputs": [
    {
     "ename": "IndexError",
     "evalue": "list index out of range",
     "output_type": "error",
     "traceback": [
      "\u001b[1;31m---------------------------------------------------------------------------\u001b[0m",
      "\u001b[1;31mIndexError\u001b[0m                                Traceback (most recent call last)",
      "Cell \u001b[1;32mIn[36], line 1\u001b[0m\n\u001b[1;32m----> 1\u001b[0m person[\u001b[38;5;241m4\u001b[39m]\n",
      "\u001b[1;31mIndexError\u001b[0m: list index out of range"
     ]
    }
   ],
   "source": [
    "person[4]"
   ]
  },
  {
   "cell_type": "code",
   "execution_count": 43,
   "id": "479acbf4-6654-4ca1-b8ce-9d071599afd0",
   "metadata": {},
   "outputs": [
    {
     "data": {
      "text/plain": [
       "'heena'"
      ]
     },
     "execution_count": 43,
     "metadata": {},
     "output_type": "execute_result"
    }
   ],
   "source": [
    "person[-2]"
   ]
  },
  {
   "cell_type": "code",
   "execution_count": 49,
   "id": "454dc836-83b7-4aad-a556-57b1cb3d81e3",
   "metadata": {},
   "outputs": [
    {
     "name": "stdout",
     "output_type": "stream",
     "text": [
      "[70, 12, 13, 14, 15]\n"
     ]
    }
   ],
   "source": [
    "mylist = [100,12,13,14,15]\n",
    "mylist[0] = 70\n",
    "print(mylist)    # list is mutuable ()changeable"
   ]
  },
  {
   "cell_type": "code",
   "execution_count": 51,
   "id": "96e99a09-e469-453e-925b-bfeede9454c4",
   "metadata": {},
   "outputs": [
    {
     "ename": "IndexError",
     "evalue": "list assignment index out of range",
     "output_type": "error",
     "traceback": [
      "\u001b[1;31m---------------------------------------------------------------------------\u001b[0m",
      "\u001b[1;31mIndexError\u001b[0m                                Traceback (most recent call last)",
      "Cell \u001b[1;32mIn[51], line 2\u001b[0m\n\u001b[0;32m      1\u001b[0m mylist \u001b[38;5;241m=\u001b[39m [\u001b[38;5;241m100\u001b[39m,\u001b[38;5;241m12\u001b[39m,\u001b[38;5;241m13\u001b[39m,\u001b[38;5;241m14\u001b[39m,\u001b[38;5;241m15\u001b[39m]\n\u001b[1;32m----> 2\u001b[0m mylist[\u001b[38;5;241m5\u001b[39m] \u001b[38;5;241m=\u001b[39m \u001b[38;5;241m70\u001b[39m\n\u001b[0;32m      3\u001b[0m \u001b[38;5;28mprint\u001b[39m(mylist)\n",
      "\u001b[1;31mIndexError\u001b[0m: list assignment index out of range"
     ]
    }
   ],
   "source": [
    "mylist = [100,12,13,14,15]\n",
    "mylist[5] = 70\n",
    "print(mylist)"
   ]
  },
  {
   "cell_type": "code",
   "execution_count": 53,
   "id": "2690c091-de2d-4654-abe2-da9692ce481e",
   "metadata": {},
   "outputs": [
    {
     "name": "stdout",
     "output_type": "stream",
     "text": [
      "[100, 12, 13, 14, 15, 70]\n"
     ]
    }
   ],
   "source": [
    "mylist = [100,12,13,14,15]\n",
    "# insert = append\n",
    "mylist.append(70)\n",
    "print(mylist)"
   ]
  },
  {
   "cell_type": "code",
   "execution_count": 57,
   "id": "6b3df7fc-5730-45f8-af86-9dcd27cd8067",
   "metadata": {},
   "outputs": [
    {
     "name": "stdout",
     "output_type": "stream",
     "text": [
      "[50, 12, 13, 14, 15, 70]\n"
     ]
    }
   ],
   "source": [
    "mylist = [100,12,13,14,15]\n",
    "mylist[0] = 50\n",
    "mylist.append(70)\n",
    "print(mylist)"
   ]
  },
  {
   "cell_type": "code",
   "execution_count": 67,
   "id": "65dde0f8-db1d-43e6-b661-96fb801ba061",
   "metadata": {},
   "outputs": [
    {
     "name": "stdout",
     "output_type": "stream",
     "text": [
      "[50, 12, 13, 14, 15]\n"
     ]
    }
   ],
   "source": [
    "mylist = [100,12,13,14,15]\n",
    "mylist[0] = 50\n",
    "mylist.append(70)\n",
    "mylist.pop()\n",
    "print(mylist)"
   ]
  },
  {
   "cell_type": "code",
   "execution_count": 71,
   "id": "6203b322-a4ca-4139-9982-8fb0b06e1186",
   "metadata": {},
   "outputs": [
    {
     "name": "stdout",
     "output_type": "stream",
     "text": [
      "[100, 12, 14, 15]\n"
     ]
    }
   ],
   "source": [
    "mylist = [100,12,13,14,15]\n",
    "mylist.remove(13)\n",
    "print(mylist)"
   ]
  },
  {
   "cell_type": "code",
   "execution_count": 77,
   "id": "eaf1b5a6-95ec-4da4-9512-ada037745982",
   "metadata": {},
   "outputs": [
    {
     "ename": "NameError",
     "evalue": "name 'x' is not defined",
     "output_type": "error",
     "traceback": [
      "\u001b[1;31m---------------------------------------------------------------------------\u001b[0m",
      "\u001b[1;31mNameError\u001b[0m                                 Traceback (most recent call last)",
      "Cell \u001b[1;32mIn[77], line 3\u001b[0m\n\u001b[0;32m      1\u001b[0m x\u001b[38;5;241m=\u001b[39m \u001b[38;5;241m10\u001b[39m\n\u001b[0;32m      2\u001b[0m \u001b[38;5;28;01mdel\u001b[39;00m  x\n\u001b[1;32m----> 3\u001b[0m x\n",
      "\u001b[1;31mNameError\u001b[0m: name 'x' is not defined"
     ]
    }
   ],
   "source": [
    "x= 10\n",
    "del  x        # it delete the whole value of x\n",
    "x"
   ]
  },
  {
   "cell_type": "code",
   "execution_count": 75,
   "id": "e517a8e9-5e79-4b4f-aae6-4d1be2dd34a2",
   "metadata": {},
   "outputs": [
    {
     "name": "stdout",
     "output_type": "stream",
     "text": [
      "[13, 14, 15]\n"
     ]
    }
   ],
   "source": [
    "mylist = [100,12,13,14,15]\n",
    "del mylist[0:2]             # 100 and 12 is delete\n",
    "print(mylist)"
   ]
  },
  {
   "cell_type": "code",
   "execution_count": 83,
   "id": "d4b3766b-0dd4-4a3b-8078-78ddc97b8655",
   "metadata": {},
   "outputs": [
    {
     "data": {
      "text/plain": [
       "[13, 14, 15]"
      ]
     },
     "execution_count": 83,
     "metadata": {},
     "output_type": "execute_result"
    }
   ],
   "source": [
    "mylist"
   ]
  },
  {
   "cell_type": "code",
   "execution_count": 85,
   "id": "6fee1391-b2a6-45ab-a17b-aeef34708213",
   "metadata": {},
   "outputs": [],
   "source": [
    "mylist.insert(0,80)"
   ]
  },
  {
   "cell_type": "code",
   "execution_count": 89,
   "id": "9cd813d3-4f8f-4762-bc56-75e31ac7f0b3",
   "metadata": {},
   "outputs": [
    {
     "data": {
      "text/plain": [
       "[80, 13, 14, 15]"
      ]
     },
     "execution_count": 89,
     "metadata": {},
     "output_type": "execute_result"
    }
   ],
   "source": [
    "mylist"
   ]
  },
  {
   "cell_type": "code",
   "execution_count": 91,
   "id": "7c638337-030c-4cb6-bdd7-e419c14dfd51",
   "metadata": {},
   "outputs": [
    {
     "data": {
      "text/plain": [
       "[80, 13, 14, 80, 15]"
      ]
     },
     "execution_count": 91,
     "metadata": {},
     "output_type": "execute_result"
    }
   ],
   "source": [
    "mylist.insert(3,80)\n",
    "mylist"
   ]
  },
  {
   "cell_type": "code",
   "execution_count": null,
   "id": "6c152e41-5806-4b1d-89cf-7d3231da1a04",
   "metadata": {},
   "outputs": [],
   "source": []
  }
 ],
 "metadata": {
  "kernelspec": {
   "display_name": "Python 3 (ipykernel)",
   "language": "python",
   "name": "python3"
  },
  "language_info": {
   "codemirror_mode": {
    "name": "ipython",
    "version": 3
   },
   "file_extension": ".py",
   "mimetype": "text/x-python",
   "name": "python",
   "nbconvert_exporter": "python",
   "pygments_lexer": "ipython3",
   "version": "3.12.4"
  }
 },
 "nbformat": 4,
 "nbformat_minor": 5
}
