{
 "cells": [
  {
   "cell_type": "code",
   "execution_count": 1,
   "id": "1a2ce80d-5e2c-48e0-ba13-1452c594a9f5",
   "metadata": {},
   "outputs": [],
   "source": [
    "# *args --> arbitary positinal argument"
   ]
  },
  {
   "cell_type": "code",
   "execution_count": 15,
   "id": "76f589bb-d127-400f-b51b-fa715944d569",
   "metadata": {},
   "outputs": [
    {
     "name": "stdout",
     "output_type": "stream",
     "text": [
      "()\n",
      "(12, 34)\n",
      "(2, 3, 4)\n"
     ]
    }
   ],
   "source": [
    "def func(*x):          \n",
    "    print(x)\n",
    "\n",
    "func()\n",
    "func( 12, 34)\n",
    "func( 2,  3,  4)"
   ]
  },
  {
   "cell_type": "code",
   "execution_count": 5,
   "id": "a2a94bca-d0c9-4cd6-bce6-305fec52ec97",
   "metadata": {},
   "outputs": [],
   "source": [
    "# positinol argument\n",
    "# keyword argument\n",
    "# "
   ]
  },
  {
   "cell_type": "code",
   "execution_count": 13,
   "id": "418a8d5b-f7ac-439a-a9e2-02d272f8dd00",
   "metadata": {},
   "outputs": [
    {
     "name": "stdout",
     "output_type": "stream",
     "text": [
      "{}\n",
      "{'x': 12, 'y': 34}\n",
      "{'x': 2, 'y': 3, 'z': 4}\n"
     ]
    }
   ],
   "source": [
    "def func(**x):           #keyword variable lenght argument\n",
    "    print(x)\n",
    "\n",
    "func()\n",
    "func(x= 12,y = 34)\n",
    "func(x = 2, y= 3, z= 4)    # output will be the dictinoary form"
   ]
  },
  {
   "cell_type": "code",
   "execution_count": 19,
   "id": "a5c2c265-6904-4e62-901f-2b252ae2812b",
   "metadata": {},
   "outputs": [
    {
     "name": "stdout",
     "output_type": "stream",
     "text": [
      "<function func at 0x00000197E3FD3240> <function func at 0x00000197E3FD3240>\n",
      "hello world\n"
     ]
    }
   ],
   "source": [
    "def func():\n",
    "    print(\"hello world\")\n",
    "\n",
    "out = func\n",
    "print(func,out)\n",
    "out()"
   ]
  },
  {
   "cell_type": "code",
   "execution_count": 37,
   "id": "1c44347c-359c-4733-9cc9-e70ec126f85b",
   "metadata": {},
   "outputs": [
    {
     "name": "stdout",
     "output_type": "stream",
     "text": [
      "a => 140733192354840\n",
      "hello user 20 140733192354840\n",
      "inside func 50 140733192355800\n",
      "20 140733192354840\n"
     ]
    }
   ],
   "source": [
    "# call by oject reference\n",
    "\n",
    "def func(x):\n",
    "    print(\"hello user\",x,id(x))        # eg of immutuable\n",
    "    x=50\n",
    "    print(\"inside func\",x,id(x))       # changes in local scope\n",
    "\n",
    "a=20\n",
    "print(\"a =>\",id(a))\n",
    "func(a)\n",
    "print(a,id(a))"
   ]
  },
  {
   "cell_type": "code",
   "execution_count": 33,
   "id": "3eee911b-e60c-4594-8501-d6a506fa69e8",
   "metadata": {},
   "outputs": [],
   "source": [
    "# Mutable objects (lists, dictionaries, sets, etc.) → Changes inside a function affect the original object.\n",
    "\n",
    "#Immutable objects (integers, strings, tuples, etc.) → Changes create a new object, leaving the original unchanged."
   ]
  },
  {
   "cell_type": "code",
   "execution_count": 47,
   "id": "419090f6-d7be-4447-90d0-6ab63150b6fe",
   "metadata": {},
   "outputs": [
    {
     "name": "stdout",
     "output_type": "stream",
     "text": [
      "a => 1751930341440 [10, 20]\n",
      "hello user [10, 20] 1751930341440\n",
      "inside func [10, 20, 30] 1751930341440\n",
      "[10, 20, 30] 1751930341440\n"
     ]
    }
   ],
   "source": [
    "# call by oject reference\n",
    "\n",
    "def func(y):\n",
    "    print(\"hello user\",y,id(y))          # eg of mutuable\n",
    "    y.append(30)                         # change in global scope\n",
    "    print(\"inside func\",y,id(y))\n",
    "\n",
    "x=[10,20]\n",
    "print(\"a =>\",id(x),x)\n",
    "func(x)\n",
    "print(x,id(x))"
   ]
  },
  {
   "cell_type": "code",
   "execution_count": 49,
   "id": "9e3e7172-d009-454c-b2e6-08bcba0ed09b",
   "metadata": {},
   "outputs": [],
   "source": [
    "# return keyword\n",
    "# to take the exit from the function\n",
    "# return will revert back with the value => fucntion call\n"
   ]
  },
  {
   "cell_type": "code",
   "execution_count": 53,
   "id": "385306cf-3014-4978-897c-f9b880f9e17f",
   "metadata": {},
   "outputs": [
    {
     "name": "stdout",
     "output_type": "stream",
     "text": [
      "25\n",
      "out value 200\n"
     ]
    }
   ],
   "source": [
    "def func(c,d):\n",
    "    print(c+d)\n",
    "    return 200          # --> return gives the value from the function\n",
    "                        #  --> and print only print the values doen't give any value\n",
    "out = func(10,15)\n",
    "print(\"out value\",out)"
   ]
  },
  {
   "cell_type": "code",
   "execution_count": 57,
   "id": "48af6856-4da4-4afc-958c-0532b71ab533",
   "metadata": {},
   "outputs": [
    {
     "name": "stdout",
     "output_type": "stream",
     "text": [
      "100\n",
      "200\n"
     ]
    }
   ],
   "source": [
    "def shadi(lifafa):\n",
    "    print(lifafa)\n",
    "    return lifafa+100     # after return print anything it doesn't give any value\n",
    "    print(\"saree\")\n",
    "x = shadi(100)\n",
    "print(x)\n"
   ]
  },
  {
   "cell_type": "code",
   "execution_count": null,
   "id": "fb820b42-e506-465e-b380-e26ab0566915",
   "metadata": {},
   "outputs": [],
   "source": []
  }
 ],
 "metadata": {
  "kernelspec": {
   "display_name": "Python 3 (ipykernel)",
   "language": "python",
   "name": "python3"
  },
  "language_info": {
   "codemirror_mode": {
    "name": "ipython",
    "version": 3
   },
   "file_extension": ".py",
   "mimetype": "text/x-python",
   "name": "python",
   "nbconvert_exporter": "python",
   "pygments_lexer": "ipython3",
   "version": "3.12.4"
  }
 },
 "nbformat": 4,
 "nbformat_minor": 5
}
