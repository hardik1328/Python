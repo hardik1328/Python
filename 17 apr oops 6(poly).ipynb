{
 "cells": [
  {
   "cell_type": "markdown",
   "id": "acd4d637-9e79-4893-99ec-9c909966a797",
   "metadata": {},
   "source": [
    "# Polymorphism"
   ]
  },
  {
   "cell_type": "markdown",
   "id": "3d78b9b4-dba7-4072-a6ab-7ffd2fb9cd5b",
   "metadata": {},
   "source": [
    "# Case Study -1: Payment Processing System"
   ]
  },
  {
   "cell_type": "markdown",
   "id": "6cfd794e-8fd4-4c6e-ac31-3b5a31df7abe",
   "metadata": {},
   "source": [
    "imagine a payment processing system for an e-commerce application.the system can handle multiple payment methods like cc,paypal,and bank transfer. each payment method has a diff implementation for processing pyments,but the system trates them uniformly thorugh polymorphism"
   ]
  },
  {
   "cell_type": "code",
   "execution_count": 4,
   "id": "f4000957-5e9c-404b-ae11-1f675d5bdde1",
   "metadata": {},
   "outputs": [
    {
     "name": "stdout",
     "output_type": "stream",
     "text": [
      "processing cc payment of $100.5\n",
      "processing paypal payment payment of $200.56\n",
      "processing bank transfer payment of $500.0\n"
     ]
    }
   ],
   "source": [
    "class paymentmethod:\n",
    "    def process_payment(self,amount):\n",
    "        raise notimplementatederror(\"subclass must implement this method\")\n",
    "\n",
    "\n",
    "class creditcardpayment(paymentmethod):\n",
    "    def process_payment(self,amount):\n",
    "        print(f\"processing cc payment of ${amount}\")\n",
    "\n",
    "\n",
    "class paypalpayment(paymentmethod):\n",
    "     def process_payment(self,amount):\n",
    "        print(f\"processing paypal payment payment of ${amount}\")\n",
    "\n",
    "\n",
    "class banktransferpayment(paymentmethod):\n",
    "     def process_payment(self,amount):\n",
    "        print(f\"processing bank transfer payment of ${amount}\")\n",
    "\n",
    "def process_transaction(payment_method,amount):\n",
    "    payment_method.process_payment(amount)\n",
    "\n",
    "if __name__ == \"__main__\":\n",
    "    Credit_card = creditcardpayment()\n",
    "    Paypal = paypalpayment()\n",
    "    Bank_transfer = banktransferpayment()\n",
    "\n",
    "\n",
    "    process_transaction(Credit_card,100.50)\n",
    "    process_transaction(Paypal,200.56)\n",
    "    process_transaction(Bank_transfer,500.00)\n",
    "    \n",
    "    "
   ]
  },
  {
   "cell_type": "markdown",
   "id": "93a9df8e-b9cb-432d-91d4-a614f9f2d5eb",
   "metadata": {},
   "source": [
    "# Case Study - 2: Employee Management System"
   ]
  },
  {
   "cell_type": "markdown",
   "id": "cd583d99-4b98-43cc-8bc4-8b1f5704af58",
   "metadata": {},
   "source": [
    "In a company, there are different types of employees, such as full-time employees, part-time employees, and freelancers. Each type of employee has a different way of calculating their salary. Polymorphism can be used to handle this scenario by defining a common interface for salary calculation and letting each employee type implement their specific logic."
   ]
  },
  {
   "cell_type": "code",
   "execution_count": 22,
   "id": "31fce75b-d61d-4aa7-a0ef-4e3a6152933d",
   "metadata": {},
   "outputs": [
    {
     "name": "stdout",
     "output_type": "stream",
     "text": [
      "full time -->\n",
      "Salary: $50000\n",
      "\n",
      "part time -->\n",
      "Salary: $20000\n",
      "\n",
      "freelancer -->\n",
      "Salary: $12000\n"
     ]
    }
   ],
   "source": [
    "class Employee:\n",
    "    def calculate_salary(self):\n",
    "        raise NotImplementedError(\"Subclass must implement this method\")\n",
    "\n",
    "\n",
    "class FullTimeEmployee(Employee):\n",
    "    def __init__(self, monthly_salary):\n",
    "        self.monthly_salary = monthly_salary\n",
    "\n",
    "    def calculate_salary(self):\n",
    "        return self.monthly_salary\n",
    "\n",
    "\n",
    "class PartTimeEmployee(Employee):\n",
    "    def __init__(self, hourly_rate, hours_worked):\n",
    "        self.hourly_rate = hourly_rate\n",
    "        self.hours_worked = hours_worked\n",
    "\n",
    "    def calculate_salary(self):\n",
    "        return self.hourly_rate * self.hours_worked\n",
    "\n",
    "\n",
    "class Freelancer(Employee):\n",
    "    def __init__(self, project_rate, projects_done):\n",
    "        self.project_rate = project_rate\n",
    "        self.projects_done = projects_done\n",
    "\n",
    "    def calculate_salary(self):\n",
    "        return self.project_rate * self.projects_done\n",
    "\n",
    "\n",
    "def process_salary(employee):\n",
    "    print(f\"Salary: ${employee.calculate_salary()}\")\n",
    "\n",
    "# real-life usage\n",
    "if __name__ == \"__main__\":\n",
    "\n",
    "    # create instances of diff types of employees\n",
    "    full_time = FullTimeEmployee(50000)\n",
    "    part_time = PartTimeEmployee(1000, 20)\n",
    "    freelancer = Freelancer(3000, 4)\n",
    "\n",
    "    # display salaries using polymorphism\n",
    "    print(\"full time -->\") \n",
    "    process_salary(full_time)\n",
    "    print(\"\\npart time -->\")\n",
    "    process_salary(part_time)\n",
    "    print(\"\\nfreelancer -->\")\n",
    "    process_salary(freelancer)\n"
   ]
  },
  {
   "cell_type": "markdown",
   "id": "cef28095-05f8-4b13-a118-4e13b5e17993",
   "metadata": {},
   "source": [
    "---> what is overriding?\n",
    "\n",
    "it is a feauter in oops where a subclass provides a specific implementation for a method that is already define in its parent class. the overriden method is the subclass will be executed instead of one in the parent class when called on an when instance of the subclass.\n",
    "\n",
    "--> Key points -->\n",
    "\n",
    "    1) it happens btw a parent classs and a child class.\n",
    "    2) the method in the child class must have the same name and parameters as the method int he parent classs.\n",
    "    3) it is used to provide sepecific behaviour in a subclass.\n",
    "\n",
    "--> what is overloading in python?\n",
    "\n",
    "it allows the same func or operator to behave diffrently based on the number or type of arguments. \n",
    "\n",
    "@ why python doesnt suuport method overloading directly, it can be mimicked usinf default arguments or by checking argument types.\n",
    "\n",
    "--> Key points of overloading :-\n",
    "\n",
    "    1) it allows the same func  to handle diff numbers or types of inputs."
   ]
  },
  {
   "cell_type": "code",
   "execution_count": null,
   "id": "507d82e8-0d23-418c-8603-5a0388005f19",
   "metadata": {},
   "outputs": [],
   "source": []
  }
 ],
 "metadata": {
  "kernelspec": {
   "display_name": "Python 3 (ipykernel)",
   "language": "python",
   "name": "python3"
  },
  "language_info": {
   "codemirror_mode": {
    "name": "ipython",
    "version": 3
   },
   "file_extension": ".py",
   "mimetype": "text/x-python",
   "name": "python",
   "nbconvert_exporter": "python",
   "pygments_lexer": "ipython3",
   "version": "3.12.4"
  }
 },
 "nbformat": 4,
 "nbformat_minor": 5
}
