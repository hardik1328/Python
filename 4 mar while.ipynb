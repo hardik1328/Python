{
 "cells": [
  {
   "cell_type": "markdown",
   "id": "7a963c48-d6c8-4c14-9841-07142f20337d",
   "metadata": {},
   "source": [
    "# while loop"
   ]
  },
  {
   "cell_type": "code",
   "execution_count": 3,
   "id": "eab37267-5481-4c44-b6c4-f17103bae0f1",
   "metadata": {},
   "outputs": [
    {
     "name": "stdout",
     "output_type": "stream",
     "text": [
      "hey\n"
     ]
    }
   ],
   "source": [
    "i=1\n",
    "while(i==1):\n",
    "    print(\"hey\")\n",
    "    i=2\n"
   ]
  },
  {
   "cell_type": "code",
   "execution_count": 5,
   "id": "82dbbdef-117d-4156-ab91-b2c8393e68ec",
   "metadata": {},
   "outputs": [
    {
     "name": "stdout",
     "output_type": "stream",
     "text": [
      "hey\n",
      "hey\n",
      "hey\n",
      "hey\n"
     ]
    }
   ],
   "source": [
    "i=1\n",
    "while(i<5):\n",
    "    print(\"hey\")\n",
    "    i=i+1\n"
   ]
  },
  {
   "cell_type": "code",
   "execution_count": 7,
   "id": "bf73038f-2f63-4e8d-91b2-9b965874dbc6",
   "metadata": {},
   "outputs": [
    {
     "name": "stdout",
     "output_type": "stream",
     "text": [
      "hey 1\n",
      "hey 2\n",
      "hey 3\n",
      "hey 4\n"
     ]
    }
   ],
   "source": [
    "i=1\n",
    "while(i<5):\n",
    "    print(\"hey\",i)\n",
    "    i=i+1\n"
   ]
  },
  {
   "cell_type": "code",
   "execution_count": null,
   "id": "a773c17e-b555-42a8-a468-4172caed4870",
   "metadata": {},
   "outputs": [],
   "source": [
    "i=1\n",
    "a=0\n",
    "while(i<=15):\n",
    "    print(i)\n",
    "    a = a + i\n",
    "    i=i+1\n",
    "   \n",
    "    \n",
    "    \n",
    "    "
   ]
  },
  {
   "cell_type": "code",
   "execution_count": 40,
   "id": "55a43a1d-afa9-41da-a0ac-90306c9b299c",
   "metadata": {},
   "outputs": [
    {
     "name": "stdout",
     "output_type": "stream",
     "text": [
      "120\n"
     ]
    }
   ],
   "source": [
    "i=1\n",
    "a=0\n",
    "while(i<=15):\n",
    "    \n",
    "    a = a + i\n",
    "    i=i+1\n",
    "print(a)\n",
    "    \n",
    "   \n",
    "    \n",
    "    \n",
    "    "
   ]
  },
  {
   "cell_type": "code",
   "execution_count": 32,
   "id": "94e54808-311c-4161-9058-dbef5b7fa5f9",
   "metadata": {},
   "outputs": [
    {
     "name": "stdout",
     "output_type": "stream",
     "text": [
      "even from 50 to 24 50\n",
      "even from 50 to 24 48\n",
      "even from 50 to 24 46\n",
      "even from 50 to 24 44\n",
      "even from 50 to 24 42\n",
      "even from 50 to 24 40\n",
      "even from 50 to 24 38\n",
      "even from 50 to 24 36\n",
      "even from 50 to 24 34\n",
      "even from 50 to 24 32\n",
      "even from 50 to 24 30\n",
      "even from 50 to 24 28\n",
      "even from 50 to 24 26\n",
      "even from 50 to 24 24\n"
     ]
    }
   ],
   "source": [
    "i = 50\n",
    "while(i>=24):\n",
    "    if(i%2==0):\n",
    "        print(\"even from 50 to 24\",i)\n",
    "        \n",
    "    i = i-1"
   ]
  },
  {
   "cell_type": "code",
   "execution_count": 44,
   "id": "47a11179-ad72-41db-a682-4d5512059bb1",
   "metadata": {},
   "outputs": [
    {
     "name": "stdout",
     "output_type": "stream",
     "text": [
      "sum of all even numbers 50\n",
      "sum of all even numbers 98\n",
      "sum of all even numbers 144\n",
      "sum of all even numbers 188\n",
      "sum of all even numbers 230\n",
      "sum of all even numbers 270\n",
      "sum of all even numbers 308\n",
      "sum of all even numbers 344\n",
      "sum of all even numbers 378\n",
      "sum of all even numbers 410\n",
      "sum of all even numbers 440\n",
      "sum of all even numbers 468\n",
      "sum of all even numbers 494\n",
      "sum of all even numbers 518\n"
     ]
    }
   ],
   "source": [
    "i = 50\n",
    "a= 0 \n",
    "while(i>=24):\n",
    "    if(i%2==0):\n",
    "        a = a + i\n",
    "        print(\"sum of all even numbers\",a)\n",
    "        \n",
    "    i = i-1"
   ]
  },
  {
   "cell_type": "code",
   "execution_count": 66,
   "id": "aab3b8a4-8cdc-4a3f-8074-db2fab7adbd2",
   "metadata": {},
   "outputs": [
    {
     "name": "stdout",
     "output_type": "stream",
     "text": [
      "even num 18\n",
      "odd num 18\n"
     ]
    }
   ],
   "source": [
    "a = 2\n",
    "odd  = 0\n",
    "even = 0\n",
    "while(a<=37):\n",
    "    if(a%2==0):\n",
    "        even = even + 1\n",
    "    else:\n",
    "        odd  = odd + 1\n",
    "    a += 1\n",
    "print(\"even num\",even)\n",
    "print(\"odd num\",odd)"
   ]
  },
  {
   "cell_type": "code",
   "execution_count": 76,
   "id": "5df5681a-ce0a-41ae-894b-3dbf28e9cd2d",
   "metadata": {},
   "outputs": [
    {
     "name": "stdout",
     "output_type": "stream",
     "text": [
      "315\n"
     ]
    }
   ],
   "source": [
    "a = 3\n",
    "b= 0\n",
    "\n",
    "while(a<=42):\n",
    "    if(a%3==0):\n",
    "        b = b + a\n",
    "        \n",
    "        \n",
    "\n",
    "    a += 1\n",
    "print(b)"
   ]
  },
  {
   "cell_type": "code",
   "execution_count": 94,
   "id": "157b06b9-7eca-4cb5-802d-21cf02fe0c8e",
   "metadata": {},
   "outputs": [
    {
     "name": "stdout",
     "output_type": "stream",
     "text": [
      "total odd numbers: 14\n",
      "sum of all odd numbers: 896\n"
     ]
    }
   ],
   "source": [
    "a = 78\n",
    "odd = 0\n",
    "b = 0\n",
    "\n",
    "while(a>=51):\n",
    "    if(a%2==1):\n",
    "        odd = odd + 1\n",
    "        b = b+a\n",
    "        \n",
    "        \n",
    "        \n",
    "\n",
    "    a -= 1\n",
    "print(\"total odd numbers:\",odd)\n",
    "print(\"sum of all odd numbers:\",b)\n"
   ]
  },
  {
   "cell_type": "code",
   "execution_count": 96,
   "id": "85178406-6797-4671-9002-7047c12a0808",
   "metadata": {},
   "outputs": [
    {
     "data": {
      "text/plain": [
       "5"
      ]
     },
     "execution_count": 96,
     "metadata": {},
     "output_type": "execute_result"
    }
   ],
   "source": [
    "145%10"
   ]
  },
  {
   "cell_type": "code",
   "execution_count": 104,
   "id": "6330d5e0-92fb-4c26-baf8-636d8bb49492",
   "metadata": {},
   "outputs": [
    {
     "data": {
      "text/plain": [
       "14"
      ]
     },
     "execution_count": 104,
     "metadata": {},
     "output_type": "execute_result"
    }
   ],
   "source": [
    "147//10"
   ]
  },
  {
   "cell_type": "code",
   "execution_count": 114,
   "id": "0b741f1c-10a0-4105-b09c-dc8734204b99",
   "metadata": {},
   "outputs": [
    {
     "name": "stdout",
     "output_type": "stream",
     "text": [
      "5431"
     ]
    }
   ],
   "source": [
    "n = 1345\n",
    "while(n>0):\n",
    "    rem = n%10\n",
    "    n = n//10\n",
    "    print(rem,end = '')"
   ]
  },
  {
   "cell_type": "code",
   "execution_count": 116,
   "id": "54f5a054-3648-419a-a76b-40b64dbd5936",
   "metadata": {},
   "outputs": [
    {
     "name": "stdout",
     "output_type": "stream",
     "text": [
      "134 5\n",
      "13 4\n",
      "1 3\n",
      "0 1\n"
     ]
    }
   ],
   "source": [
    "n = 1345\n",
    "while(n>0):\n",
    "    rem = n%10\n",
    "    n = n//10\n",
    "    print(n,rem)"
   ]
  },
  {
   "cell_type": "code",
   "execution_count": 134,
   "id": "bf472940-405e-4ffa-8118-a4b82a133ca2",
   "metadata": {},
   "outputs": [
    {
     "name": "stdout",
     "output_type": "stream",
     "text": [
      "13"
     ]
    }
   ],
   "source": [
    "n = 1345\n",
    "a=0\n",
    "while(n>0):\n",
    "    rem = n%10\n",
    "    a = a + rem\n",
    "    \n",
    "    n = n//10\n",
    "   \n",
    "print(a,end = '')"
   ]
  },
  {
   "cell_type": "markdown",
   "id": "ba804b04-df76-43bf-aeb5-0f30a912a22d",
   "metadata": {},
   "source": [
    "# armstrong number"
   ]
  },
  {
   "cell_type": "code",
   "execution_count": 151,
   "id": "ab495234-40dc-42fb-807e-8b517f8c70e9",
   "metadata": {},
   "outputs": [
    {
     "name": "stdout",
     "output_type": "stream",
     "text": [
      "153"
     ]
    }
   ],
   "source": [
    "n = 153\n",
    "a=0\n",
    "while(n>0):\n",
    "    rem = n%10\n",
    "    a = a + rem**3\n",
    "    \n",
    "    n = n//10\n",
    "   \n",
    "print(a,end = '')"
   ]
  },
  {
   "cell_type": "code",
   "execution_count": null,
   "id": "8bc0c936-9f4d-46dd-a4df-8bdad0fa4768",
   "metadata": {},
   "outputs": [],
   "source": []
  }
 ],
 "metadata": {
  "kernelspec": {
   "display_name": "Python 3 (ipykernel)",
   "language": "python",
   "name": "python3"
  },
  "language_info": {
   "codemirror_mode": {
    "name": "ipython",
    "version": 3
   },
   "file_extension": ".py",
   "mimetype": "text/x-python",
   "name": "python",
   "nbconvert_exporter": "python",
   "pygments_lexer": "ipython3",
   "version": "3.12.4"
  }
 },
 "nbformat": 4,
 "nbformat_minor": 5
}
