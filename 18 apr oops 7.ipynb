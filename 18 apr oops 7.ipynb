{
 "cells": [
  {
   "cell_type": "markdown",
   "id": "a27dd243-43e3-42d2-a7b7-ff28c73738db",
   "metadata": {},
   "source": [
    "# Abstraction\n"
   ]
  },
  {
   "cell_type": "code",
   "execution_count": 2,
   "id": "777c12a4-f5c6-4206-be89-df153420d3e8",
   "metadata": {},
   "outputs": [],
   "source": [
    "# what is absraction in oops?\n",
    "\n",
    "# --> it is a concept in oops that hide uncessary details from the user and only show the essential feautres of an object.\n",
    "#     it allows us to focus on what an object does rather than how it does it.\n",
    "\n",
    "# How Abstraction works in python : it can be implemented using abstract base class these are the class that such as a \n",
    "#                                    blueprint. for another classes.we cant create objects directly from an abtract classs.\n",
    "\n",
    "# A Decorator(a great abstract mehtod) that defines methods in the abstract class but doent provide thier implementation.\n",
    "# to use abstraction we abc module (abstract base class)."
   ]
  },
  {
   "cell_type": "markdown",
   "id": "c0baada2-8acb-4859-957c-bf420ea6263b",
   "metadata": {},
   "source": [
    "# Example 1: Shape Classes(Circle and Rectangle)"
   ]
  },
  {
   "cell_type": "code",
   "execution_count": 5,
   "id": "555f35a0-6f32-42bd-8b2b-77bdb5abe0b3",
   "metadata": {},
   "outputs": [
    {
     "name": "stdout",
     "output_type": "stream",
     "text": [
      "Area of Circle: 78.5\n",
      "Perimeter of Circle: 31.400000000000002\n"
     ]
    }
   ],
   "source": [
    "from abc import ABC, abstractmethod\n",
    "\n",
    "# Abstract class\n",
    "class Shape(ABC):\n",
    "    @abstractmethod\n",
    "    def area(self):\n",
    "        pass  # Abstract method, no implementation\n",
    "\n",
    "    @abstractmethod\n",
    "    def perimeter(self):\n",
    "        pass  # Abstract method, no implementation\n",
    "\n",
    "# Concrete class for Circle\n",
    "class Circle(Shape):\n",
    "    def __init__(self, radius):\n",
    "        self.radius = radius\n",
    "\n",
    "    def area(self):\n",
    "        return 3.14 * self.radius * self.radius\n",
    "\n",
    "    def perimeter(self):\n",
    "        return 2 * 3.14 * self.radius\n",
    "\n",
    "# Example usage\n",
    "circle = Circle(5)\n",
    "print(\"Area of Circle:\", circle.area())\n",
    "print(\"Perimeter of Circle:\", circle.perimeter())\n"
   ]
  },
  {
   "cell_type": "markdown",
   "id": "79407c18-0cbb-45c7-bc19-aa563c92eaec",
   "metadata": {},
   "source": [
    "# Recursion"
   ]
  },
  {
   "cell_type": "code",
   "execution_count": 9,
   "id": "20a253d3-9cd2-4d4e-845f-1cd2cae1d559",
   "metadata": {},
   "outputs": [],
   "source": [
    "# in python refers to a process where a func call itself to solve smaller instances of the same prblm. In oops reccursion \n",
    "# can be used within class methods to perform repetative task.\n",
    "\n",
    "# KEY FEAUTRES OF RECURSION:-\n",
    "\n",
    "# 1) base case --> a condition that stops the recursion to prevent infinte calls.\n",
    "# 2) Recursive case --> the part where the function calls itselfs with a modified argument."
   ]
  },
  {
   "cell_type": "markdown",
   "id": "8bbc4097-e4fb-4d11-ba87-275345bc6f0f",
   "metadata": {},
   "source": [
    "# # Example: Factorial calculation using recursion in OOP"
   ]
  },
  {
   "cell_type": "code",
   "execution_count": 12,
   "id": "ecbd1b46-a8e9-4ccd-bc03-eda5154cac6e",
   "metadata": {},
   "outputs": [
    {
     "name": "stdout",
     "output_type": "stream",
     "text": [
      "The factorial of 5 is 120\n"
     ]
    }
   ],
   "source": [
    "class FactorialCalculator:\n",
    "\n",
    "    def calculate_factorial(self, n):\n",
    "        # Base case: factorial of 0 or 1 is 1\n",
    "        if n == 0 or n == 1:\n",
    "            return 1\n",
    "        else:\n",
    "            # Recursive case: n * factorial of (n - 1)\n",
    "            return n * self.calculate_factorial(n - 1)\n",
    "\n",
    "calculator = FactorialCalculator()\n",
    "number = 5\n",
    "result = calculator.calculate_factorial(number)\n",
    "print(f\"The factorial of {number} is {result}\")\n"
   ]
  },
  {
   "cell_type": "markdown",
   "id": "f183fb7a-cf97-4e03-aac5-b40e723df2d8",
   "metadata": {},
   "source": [
    "# Decorators"
   ]
  },
  {
   "cell_type": "code",
   "execution_count": 15,
   "id": "1503469d-d5ff-43b8-b6b6-22ce40503070",
   "metadata": {},
   "outputs": [],
   "source": [
    "# In python decorators are a way to modified or enhance the behaviour of func or methodswithout directly changing thier code"
   ]
  },
  {
   "cell_type": "code",
   "execution_count": 19,
   "id": "22224cfe-4af0-4f15-ad9f-922164d7bde8",
   "metadata": {},
   "outputs": [
    {
     "name": "stdout",
     "output_type": "stream",
     "text": [
      "function 'greet'is called\n",
      "hello, sam\n",
      "function 'greet'finished execution\n"
     ]
    }
   ],
   "source": [
    "# Decorator Function\n",
    "\n",
    "def log_decorator(func):\n",
    "    def wrapper(*args,**kwargs):\n",
    "        print(f\"function '{func.__name__}'is called\")\n",
    "        result = func(*args,**kwargs)  # call the original function\n",
    "        print(f\"function '{func.__name__}'finished execution\")\n",
    "        return result\n",
    "    return wrapper\n",
    "\n",
    "@log_decorator\n",
    "def greet(name):\n",
    "    print(f\"hello, {name}\")\n",
    "\n",
    "# call the function\n",
    "\n",
    "greet(\"sam\")"
   ]
  },
  {
   "cell_type": "code",
   "execution_count": null,
   "id": "4e51b0d4-cbca-4e4e-b80b-90742f806dec",
   "metadata": {},
   "outputs": [],
   "source": []
  }
 ],
 "metadata": {
  "kernelspec": {
   "display_name": "Python 3 (ipykernel)",
   "language": "python",
   "name": "python3"
  },
  "language_info": {
   "codemirror_mode": {
    "name": "ipython",
    "version": 3
   },
   "file_extension": ".py",
   "mimetype": "text/x-python",
   "name": "python",
   "nbconvert_exporter": "python",
   "pygments_lexer": "ipython3",
   "version": "3.12.4"
  }
 },
 "nbformat": 4,
 "nbformat_minor": 5
}
