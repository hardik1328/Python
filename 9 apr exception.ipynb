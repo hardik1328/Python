{
 "cells": [
  {
   "cell_type": "code",
   "execution_count": 1,
   "id": "b52a9884-ff2e-4aed-95f0-b7b93e1602b0",
   "metadata": {},
   "outputs": [
    {
     "name": "stdout",
     "output_type": "stream",
     "text": [
      "hey\n",
      "internal except\n",
      "second line\n"
     ]
    }
   ],
   "source": [
    "try:\n",
    "    print(\"hey\")\n",
    "    try:\n",
    "        s = \"hey\"\n",
    "        s[10]\n",
    "    except:\n",
    "        print(\"internal except\")\n",
    "    print(\"second line\")\n",
    "except (NameError,IndexError) as e:\n",
    "    print(\"error will be handled\",e)"
   ]
  },
  {
   "cell_type": "code",
   "execution_count": 3,
   "id": "e51b4d06-e7e6-4ff3-b615-7eb96aa2d2e0",
   "metadata": {},
   "outputs": [
    {
     "name": "stdout",
     "output_type": "stream",
     "text": [
      "hey\n",
      "internal except\n",
      "second line\n",
      "else block\n"
     ]
    }
   ],
   "source": [
    "try:\n",
    "    print(\"hey\")\n",
    "    try:\n",
    "        s = \"hey\"\n",
    "        s[10]\n",
    "    except:\n",
    "        print(\"internal except\")\n",
    "    print(\"second line\")\n",
    "except (NameError,IndexError) as e:\n",
    "    print(\"error will be handled\",e)\n",
    "\n",
    "else:\n",
    "    print(\"else block\")"
   ]
  },
  {
   "cell_type": "code",
   "execution_count": 7,
   "id": "3b254efb-bc75-4183-a378-41a6bf75890f",
   "metadata": {},
   "outputs": [
    {
     "name": "stdout",
     "output_type": "stream",
     "text": [
      "hey\n",
      "hii\n",
      "error will be handled name 'x' is not defined\n"
     ]
    }
   ],
   "source": [
    "try:\n",
    "    print(\"hey\")\n",
    "    print(\"hii\")\n",
    "    x/0\n",
    "    print(\"second line\")\n",
    "except (NameError,IndexError) as e:\n",
    "    print(\"error will be handled\",e)\n",
    "\n",
    "else:\n",
    "    print(\"sheer\")                          # if error is there then else block will not run"
   ]
  },
  {
   "cell_type": "code",
   "execution_count": 11,
   "id": "7dbceff9-5074-45bb-bb1c-6827afc57ef3",
   "metadata": {},
   "outputs": [
    {
     "name": "stdout",
     "output_type": "stream",
     "text": [
      "hey\n",
      "hii\n",
      "error will be handled name 'x' is not defined\n",
      "sheer\n"
     ]
    }
   ],
   "source": [
    "try:\n",
    "    print(\"hey\")\n",
    "    print(\"hii\")\n",
    "    x/0\n",
    "    print(\"second line\")\n",
    "except (NameError,IndexError) as e:\n",
    "    print(\"error will be handled\",e)\n",
    "\n",
    "finally:\n",
    "    print(\"sheer\")                          # finally will always run whatever the situation is"
   ]
  },
  {
   "cell_type": "markdown",
   "id": "2435e5a5-cafd-4f76-ba28-35ea9adb15ae",
   "metadata": {},
   "source": [
    "# raise keyword\n"
   ]
  },
  {
   "cell_type": "code",
   "execution_count": 19,
   "id": "db2abbb6-4cdf-4cf7-b205-2dcf7df8b82f",
   "metadata": {},
   "outputs": [
    {
     "name": "stdout",
     "output_type": "stream",
     "text": [
      " x is 20\n"
     ]
    }
   ],
   "source": [
    "X = 20\n",
    "if X!=20:\n",
    "    raise ValueError\n",
    "else:\n",
    "    print(\" x is 20\")\n"
   ]
  },
  {
   "cell_type": "code",
   "execution_count": 29,
   "id": "03c34daf-70bf-43f3-8191-5144d646bffd",
   "metadata": {},
   "outputs": [
    {
     "name": "stdout",
     "output_type": "stream",
     "text": [
      " x is 20\n"
     ]
    }
   ],
   "source": [
    "X = 20\n",
    "try:\n",
    "    if X!=20:\n",
    "        raise ValueError\n",
    "    else:\n",
    "        print(\" x is 20\")\n",
    "\n",
    "except ValueError as e:\n",
    "    print(\"valueerror\",e)\n"
   ]
  },
  {
   "cell_type": "code",
   "execution_count": 31,
   "id": "18471165-772e-4d60-91c5-8170fcff315c",
   "metadata": {},
   "outputs": [
    {
     "name": "stdout",
     "output_type": "stream",
     "text": [
      "valueerror value is incorrect for x\n"
     ]
    }
   ],
   "source": [
    "X = 201\n",
    "try:\n",
    "    if X!=20:\n",
    "        raise ValueError(\"value is incorrect for x\")\n",
    "    else:\n",
    "        print(\" x is 20\")\n",
    "\n",
    "except ValueError as e:\n",
    "    print(\"valueerror\",e)\n"
   ]
  },
  {
   "cell_type": "markdown",
   "id": "3332b5be-f302-49b6-b94d-c82bd29c120f",
   "metadata": {},
   "source": [
    "# decorator\n",
    "# generator"
   ]
  },
  {
   "cell_type": "code",
   "execution_count": 34,
   "id": "cd0fe11a-ff52-4efc-8e7e-cf71b2f96246",
   "metadata": {},
   "outputs": [],
   "source": [
    "# generator\n",
    "# special function\n",
    "# value generate on the demand\n",
    "# it remember the last execute"
   ]
  },
  {
   "cell_type": "code",
   "execution_count": 38,
   "id": "64eaab00-b65b-4610-b312-b4e2e41d4a63",
   "metadata": {},
   "outputs": [
    {
     "name": "stdout",
     "output_type": "stream",
     "text": [
      "hey\n"
     ]
    },
    {
     "data": {
      "text/plain": [
       "1"
      ]
     },
     "execution_count": 38,
     "metadata": {},
     "output_type": "execute_result"
    }
   ],
   "source": [
    "def func():\n",
    "    print(\"hey\")\n",
    "    yield 1                # --> yield remember thr last values and run after that value\n",
    "    yield 2\n",
    "\n",
    "gen = func()\n",
    "next(gen)"
   ]
  },
  {
   "cell_type": "code",
   "execution_count": 40,
   "id": "ff8ff300-36d4-4227-9c49-e0e4d192ca3a",
   "metadata": {},
   "outputs": [
    {
     "data": {
      "text/plain": [
       "2"
      ]
     },
     "execution_count": 40,
     "metadata": {},
     "output_type": "execute_result"
    }
   ],
   "source": [
    "next(gen)"
   ]
  },
  {
   "cell_type": "code",
   "execution_count": 42,
   "id": "b446287a-1b4c-4fef-9a49-c0076c3b1efc",
   "metadata": {},
   "outputs": [
    {
     "ename": "StopIteration",
     "evalue": "",
     "output_type": "error",
     "traceback": [
      "\u001b[1;31m---------------------------------------------------------------------------\u001b[0m",
      "\u001b[1;31mStopIteration\u001b[0m                             Traceback (most recent call last)",
      "Cell \u001b[1;32mIn[42], line 1\u001b[0m\n\u001b[1;32m----> 1\u001b[0m \u001b[38;5;28mnext\u001b[39m(gen)\n",
      "\u001b[1;31mStopIteration\u001b[0m: "
     ]
    }
   ],
   "source": [
    "next(gen)"
   ]
  },
  {
   "cell_type": "code",
   "execution_count": 44,
   "id": "e50efab9-4614-4291-a82b-dc60e2871b90",
   "metadata": {},
   "outputs": [
    {
     "name": "stdout",
     "output_type": "stream",
     "text": [
      "hey\n",
      "1\n",
      "2\n"
     ]
    }
   ],
   "source": [
    "def func():\n",
    "    print(\"hey\")\n",
    "    yield 1               \n",
    "    yield 2\n",
    "\n",
    "gen = func()\n",
    "for i in gen:\n",
    "    print(i)"
   ]
  },
  {
   "cell_type": "code",
   "execution_count": 48,
   "id": "576cb6ca-f538-443d-b324-a019e07e3a27",
   "metadata": {},
   "outputs": [
    {
     "data": {
      "text/plain": [
       "13"
      ]
     },
     "execution_count": 48,
     "metadata": {},
     "output_type": "execute_result"
    }
   ],
   "source": [
    "def func():\n",
    "    x = 0\n",
    "    y = 1\n",
    "    while True:\n",
    "        x,y=y,x+y\n",
    "        yield y\n",
    "\n",
    "gen = func()\n",
    "next(gen)\n",
    "next(gen)\n",
    "next(gen)\n",
    "next(gen)\n",
    "next(gen)\n",
    "next(gen)"
   ]
  },
  {
   "cell_type": "markdown",
   "id": "3d34516b-9c38-4a77-a49d-3a133a7ff901",
   "metadata": {},
   "source": [
    "# decorator"
   ]
  },
  {
   "cell_type": "code",
   "execution_count": null,
   "id": "197bd6d7-61bf-4277-83cd-88463c798834",
   "metadata": {},
   "outputs": [],
   "source": []
  }
 ],
 "metadata": {
  "kernelspec": {
   "display_name": "Python 3 (ipykernel)",
   "language": "python",
   "name": "python3"
  },
  "language_info": {
   "codemirror_mode": {
    "name": "ipython",
    "version": 3
   },
   "file_extension": ".py",
   "mimetype": "text/x-python",
   "name": "python",
   "nbconvert_exporter": "python",
   "pygments_lexer": "ipython3",
   "version": "3.12.4"
  }
 },
 "nbformat": 4,
 "nbformat_minor": 5
}
