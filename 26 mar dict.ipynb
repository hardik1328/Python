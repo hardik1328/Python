{
 "cells": [
  {
   "cell_type": "code",
   "execution_count": 1,
   "id": "1b3d4441-2cab-416b-90a9-ec86b9d440b3",
   "metadata": {},
   "outputs": [],
   "source": [
    "# dictionary questions"
   ]
  },
  {
   "cell_type": "code",
   "execution_count": 29,
   "id": "eeceef52-b01e-4fc2-9a84-579c6ad679f3",
   "metadata": {},
   "outputs": [
    {
     "name": "stdout",
     "output_type": "stream",
     "text": [
      "{'ab': 1, 'ac': 1, 'bc': 1}\n"
     ]
    }
   ],
   "source": [
    "data =   \"abc\"\n",
    "dict = {}\n",
    "for i in range(0,len(data)):\n",
    "    for j in range(i+1,len(data)):\n",
    "        if(data[i] + data[j]  not in dict):\n",
    "            dict[data[i] + data[j]] = 1\n",
    "        else:\n",
    "            dict[j] += 1 \n",
    "print(dict)\n"
   ]
  },
  {
   "cell_type": "code",
   "execution_count": 27,
   "id": "6c6ccb37-3c89-44f8-ad68-9b696d6ae0de",
   "metadata": {},
   "outputs": [
    {
     "name": "stdout",
     "output_type": "stream",
     "text": [
      "{'a': 1, 'ab': 1, 'ac': 1, 'b': 1, 'bc': 1, 'c': 1}\n"
     ]
    }
   ],
   "source": [
    "data =   \"abc\"\n",
    "dict = {}\n",
    "for i in range(0,len(data)):\n",
    "    if(data[i]  not in dict):\n",
    "            dict[data[i]] = 1\n",
    "    for j in range(i+1,len(data)):\n",
    "        if(data[i] + data[j]  not in dict):\n",
    "            dict[data[i] + data[j]] = 1\n",
    "       \n",
    "print(dict)\n"
   ]
  },
  {
   "cell_type": "code",
   "execution_count": 7,
   "id": "a6056b1a-f418-49bb-917b-d9e464a0e5e4",
   "metadata": {},
   "outputs": [
    {
     "name": "stdout",
     "output_type": "stream",
     "text": [
      "{'a': 2, 'ab': 1, 'aa': 1, 'b': 1, 'ba': 1}\n"
     ]
    }
   ],
   "source": [
    "data =   \"aba\"\n",
    "dict = {}\n",
    "for i in range(0,len(data)):\n",
    "    if(data[i]  not in dict):\n",
    "    \n",
    "            dict[data[i]] = 1\n",
    "    else:\n",
    "        dict[data[i]] += 1\n",
    "    for j in range(i+1,len(data)):\n",
    "        if(data[i] + data[j]  not in dict):\n",
    "            dict[data[i] + data[j]] = 1\n",
    "        else:\n",
    "            dict[data[i]+data[j]] += 1\n",
    "            \n",
    "       \n",
    "print(dict)\n"
   ]
  },
  {
   "cell_type": "code",
   "execution_count": 14,
   "id": "8bfcbdef-afbd-458b-bf36-f28510e7e272",
   "metadata": {},
   "outputs": [
    {
     "name": "stdout",
     "output_type": "stream",
     "text": [
      "{'h': 2, 'ha': 3, 'hr': 3, 'hh': 1, 'a': 2, 'ar': 2, 'ah': 1, 'aa': 1, 'r': 2, 'rh': 1, 'rr': 1, 'ra': 2}\n"
     ]
    }
   ],
   "source": [
    "data = \"harhra\"\n",
    "dict = {}\n",
    "for i in range(0,len(data)):\n",
    "    if data[i] not in dict:\n",
    "        dict[data[i]] = 1\n",
    "    else:\n",
    "        dict[data[i]]+=1\n",
    "    for j in range(i+1,len(data)):\n",
    "        if data[i]+data[j] not in dict:\n",
    "            dict[data[i] + data[j]] = 1\n",
    "        else:\n",
    "            dict[data[i] + data[j]] += 1\n",
    "print(dict)"
   ]
  },
  {
   "cell_type": "markdown",
   "id": "3020e823-e830-4ce1-91d1-2b9bf7c46124",
   "metadata": {},
   "source": [
    "# Roman number question"
   ]
  },
  {
   "cell_type": "code",
   "execution_count": 38,
   "id": "eec470e1-74c6-4677-ba61-a14cd88afce5",
   "metadata": {},
   "outputs": [
    {
     "name": "stdout",
     "output_type": "stream",
     "text": [
      "5 v\n",
      "roman is v\n",
      "4 IV\n",
      "1 I\n"
     ]
    }
   ],
   "source": [
    "num=5\n",
    "dict = {5:\"v\", 4:\"IV\", 1:\"I\"}\n",
    "for i in dict.items():\n",
    "    keys= i[0]\n",
    "    values = i[1]\n",
    "    print(keys,values)\n",
    "    if(num==keys):\n",
    "        print(\"roman is\",values)"
   ]
  },
  {
   "cell_type": "code",
   "execution_count": 60,
   "id": "d415efd9-057d-40c5-9d94-947be15b4d22",
   "metadata": {},
   "outputs": [
    {
     "name": "stdout",
     "output_type": "stream",
     "text": [
      " VIII\n"
     ]
    }
   ],
   "source": [
    "num=8\n",
    "data = \" \"\n",
    "dict = {5:\"V\", 4:\"IV\", 1:\"I\"}\n",
    "for i in dict.items():\n",
    "    keys= i[0]\n",
    "    values = i[1]\n",
    "    while(num>=keys):\n",
    "        data+=values\n",
    "        num-=keys\n",
    "print(data)\n",
    "        \n",
    "    \n",
    "   "
   ]
  },
  {
   "cell_type": "code",
   "execution_count": 72,
   "id": "9518eab4-2dd8-4412-97e5-2b4c23245fcd",
   "metadata": {},
   "outputs": [
    {
     "name": "stdout",
     "output_type": "stream",
     "text": [
      " II\n"
     ]
    }
   ],
   "source": [
    "num=2\n",
    "data = \" \"\n",
    "dict = {10:\"X\", 9:\"IX\" , 5:\"V\", 4:\"IV\", 1:\"I\"}\n",
    "for i in dict.items():\n",
    "    keys= i[0]\n",
    "    values = i[1]\n",
    "    while(num>=keys):\n",
    "        data+=values\n",
    "        num-=keys\n",
    "print(data)\n",
    "        \n",
    "    \n",
    "   "
   ]
  },
  {
   "cell_type": "code",
   "execution_count": null,
   "id": "133b8cb9-7c0d-41b6-80e8-81852e0110c1",
   "metadata": {},
   "outputs": [],
   "source": []
  },
  {
   "cell_type": "code",
   "execution_count": null,
   "id": "fcd581b4-53ab-4f29-839a-d116bb40e60c",
   "metadata": {},
   "outputs": [],
   "source": []
  }
 ],
 "metadata": {
  "kernelspec": {
   "display_name": "Python 3 (ipykernel)",
   "language": "python",
   "name": "python3"
  },
  "language_info": {
   "codemirror_mode": {
    "name": "ipython",
    "version": 3
   },
   "file_extension": ".py",
   "mimetype": "text/x-python",
   "name": "python",
   "nbconvert_exporter": "python",
   "pygments_lexer": "ipython3",
   "version": "3.12.4"
  }
 },
 "nbformat": 4,
 "nbformat_minor": 5
}
