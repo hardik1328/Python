{
 "cells": [
  {
   "cell_type": "code",
   "execution_count": 13,
   "id": "fbb41be4-7a4c-4791-bd1b-4d7fdd070794",
   "metadata": {},
   "outputs": [
    {
     "name": "stdout",
     "output_type": "stream",
     "text": [
      "*****\n",
      "-****\n",
      "--***\n",
      "---**\n",
      "----*\n"
     ]
    }
   ],
   "source": [
    "for i in range(5,0,-1):\n",
    "    for j in range(i,5):              # 1 method\n",
    "        print(\"-\",end = '')\n",
    "    for k in range(1,i+1):\n",
    "        print(\"*\",end = '')\n",
    "    print()"
   ]
  },
  {
   "cell_type": "code",
   "execution_count": 15,
   "id": "4cd4368e-1687-4f22-b29f-fef51a921a20",
   "metadata": {},
   "outputs": [
    {
     "name": "stdout",
     "output_type": "stream",
     "text": [
      "*****\n",
      "-****\n",
      "--***\n",
      "---**\n",
      "----*\n"
     ]
    }
   ],
   "source": [
    "for i in range(1,6):\n",
    "    for j in range(1,i):              # 1 method\n",
    "        print(\"-\",end = '')\n",
    "    for k in range(i,6):\n",
    "        print(\"*\",end = '')\n",
    "    print()"
   ]
  },
  {
   "cell_type": "code",
   "execution_count": 63,
   "id": "4859b67d-61b6-4f04-bf19-d6fff8e2a132",
   "metadata": {},
   "outputs": [
    {
     "name": "stdout",
     "output_type": "stream",
     "text": [
      "*****\n",
      "-*  *\n",
      "--* *\n",
      "---**\n",
      "----*\n"
     ]
    }
   ],
   "source": [
    "for i in range(1,6):\n",
    "    for j in range(1,i):\n",
    "        print(\"-\",end = '')\n",
    "    for k in range(i,6):\n",
    "        if (i==1 or k==5 or i==k):\n",
    "            print(\"*\",end = '')\n",
    "        else:\n",
    "            print(\" \",end = '')\n",
    "    print()\n",
    "            "
   ]
  },
  {
   "cell_type": "code",
   "execution_count": 65,
   "id": "89493413-5167-418f-bd95-a31185c17580",
   "metadata": {},
   "outputs": [
    {
     "name": "stdout",
     "output_type": "stream",
     "text": [
      "----*\n",
      "---**\n",
      "--* *\n",
      "-*  *\n",
      "*****\n"
     ]
    }
   ],
   "source": [
    "num = 5\n",
    "for i in range(1,6):\n",
    "    for j in range(i,5):\n",
    "        print(\"-\",end = '')\n",
    "    for k in range(1,i+1):\n",
    "        if ( i==5 or k==1 or i==k ):\n",
    "            print(\"*\",end = '')\n",
    "        else:\n",
    "            print(\" \",end = '')\n",
    "    print()"
   ]
  },
  {
   "cell_type": "markdown",
   "id": "a8c10f44-9efb-469d-9ae5-8804bc00b069",
   "metadata": {},
   "source": [
    "# data in string"
   ]
  },
  {
   "cell_type": "code",
   "execution_count": 80,
   "id": "864852fe-4c73-426b-9f03-011205376b62",
   "metadata": {},
   "outputs": [
    {
     "name": "stdout",
     "output_type": "stream",
     "text": [
      "0 a\n",
      "1 b\n",
      "2 c\n",
      "3 d\n",
      "4 e\n",
      "5 f\n"
     ]
    }
   ],
   "source": [
    "a = \"abcdef\"\n",
    "\n",
    "for i in range(0,6):\n",
    "    print(i,a[i])"
   ]
  },
  {
   "cell_type": "code",
   "execution_count": 88,
   "id": "96d098f7-5399-4d6e-a918-d5d1c73910bf",
   "metadata": {},
   "outputs": [
    {
     "name": "stdout",
     "output_type": "stream",
     "text": [
      "5 f\n",
      "4 e\n",
      "3 d\n",
      "2 c\n",
      "1 b\n",
      "0 a\n",
      "fedcba\n"
     ]
    }
   ],
   "source": [
    "a = \"abcdef\"\n",
    "word = ''\n",
    "for i in range(5,-1,-1):\n",
    "    print(i,a[i])\n",
    "    word = word + a[i]\n",
    "print(word)"
   ]
  },
  {
   "cell_type": "markdown",
   "id": "1bcd112f-b056-43bc-93a2-bedbd79e0311",
   "metadata": {},
   "source": [
    "# palindrome in string"
   ]
  },
  {
   "cell_type": "code",
   "execution_count": 105,
   "id": "a4398ec0-9fde-4561-bbb5-940fbb4dc75a",
   "metadata": {},
   "outputs": [
    {
     "name": "stdout",
     "output_type": "stream",
     "text": [
      "palindrome\n"
     ]
    }
   ],
   "source": [
    "data = \"saras\"\n",
    "forwar_s = \"\"\n",
    "r = \"\"\n",
    "for i in range(0,len(data)):\n",
    "    forwar_s += data[i]\n",
    "\n",
    "for i in range(len(data)-1,-1,-1):\n",
    "    r += data[i]\n",
    "if(forwar_s==r):\n",
    "    print(\"palindrome\")\n",
    "else:\n",
    "    print(\"not\")"
   ]
  },
  {
   "cell_type": "code",
   "execution_count": 107,
   "id": "2d139388-1434-4f68-8a9f-e6818aa34d23",
   "metadata": {},
   "outputs": [
    {
     "name": "stdout",
     "output_type": "stream",
     "text": [
      "not\n"
     ]
    }
   ],
   "source": [
    "data = \"saray\"\n",
    "forwar_s = \"\"\n",
    "r = \"\"\n",
    "for i in range(0,len(data)):\n",
    "    forwar_s += data[i]\n",
    "\n",
    "for i in range(len(data)-1,-1,-1):\n",
    "    r += data[i]\n",
    "if(forwar_s==r):\n",
    "    print(\"palindrome\")\n",
    "else:\n",
    "    print(\"not\")"
   ]
  },
  {
   "cell_type": "code",
   "execution_count": 115,
   "id": "00e6d09a-98d1-4580-a60d-26ffcdc7cacd",
   "metadata": {},
   "outputs": [
    {
     "name": "stdout",
     "output_type": "stream",
     "text": [
      "palindrome\n"
     ]
    }
   ],
   "source": [
    "data = \"naman\"\n",
    "\n",
    "r = \"\"\n",
    "\n",
    "\n",
    "for i in range(len(data)-1,-1,-1):\n",
    "    r += data[i]\n",
    "if(data==r):\n",
    "    print(\"palindrome\")\n",
    "else:\n",
    "    print(\"not\")"
   ]
  },
  {
   "cell_type": "code",
   "execution_count": null,
   "id": "7206b028-ef6c-4f29-8bbb-32e410763455",
   "metadata": {},
   "outputs": [],
   "source": []
  }
 ],
 "metadata": {
  "kernelspec": {
   "display_name": "Python 3 (ipykernel)",
   "language": "python",
   "name": "python3"
  },
  "language_info": {
   "codemirror_mode": {
    "name": "ipython",
    "version": 3
   },
   "file_extension": ".py",
   "mimetype": "text/x-python",
   "name": "python",
   "nbconvert_exporter": "python",
   "pygments_lexer": "ipython3",
   "version": "3.12.4"
  }
 },
 "nbformat": 4,
 "nbformat_minor": 5
}
