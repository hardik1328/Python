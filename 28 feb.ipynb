{
 "cells": [
  {
   "cell_type": "markdown",
   "id": "ae9e62ea-0fe8-477b-8d89-21bd98bf5adc",
   "metadata": {},
   "source": [
    "# nested if"
   ]
  },
  {
   "cell_type": "code",
   "execution_count": 8,
   "id": "f348c819-8e5c-43bc-8ffd-7ad5af7e5021",
   "metadata": {},
   "outputs": [
    {
     "name": "stdout",
     "output_type": "stream",
     "text": [
      "i can vote\n"
     ]
    }
   ],
   "source": [
    "age = 23\n",
    "\n",
    "card = True \n",
    "if(age>=18):\n",
    "    if(card == True):\n",
    "        print(\"i can vote\")\n",
    "    else:\n",
    "        print(\"eligibile for vote\")\n",
    "else:\n",
    "    print(\"age is smaller\")"
   ]
  },
  {
   "cell_type": "code",
   "execution_count": 3,
   "id": "55ff9141-cdb0-4dda-ac2b-3302082ca7c3",
   "metadata": {},
   "outputs": [
    {
     "name": "stdout",
     "output_type": "stream",
     "text": [
      "doesnt satisfied the condtions\n"
     ]
    }
   ],
   "source": [
    "x = 34\n",
    "y = 88\n",
    "z = 12\n",
    "if(x>y and x>z):\n",
    "    print(\"x is grater than both\")\n",
    "    if(y>z):\n",
    "        print(\"both the conditions are satisfied\")\n",
    "else:\n",
    "    print(\"doesnt satisfied the condtions\")"
   ]
  },
  {
   "cell_type": "markdown",
   "id": "47cfddf0-f972-435b-b748-039d0e0e5480",
   "metadata": {},
   "source": [
    "# string indexing and slicing"
   ]
  },
  {
   "cell_type": "code",
   "execution_count": 21,
   "id": "20aee489-a4ee-41da-a73c-0b83667ac8d6",
   "metadata": {},
   "outputs": [],
   "source": [
    "com = \"regexsoftware\""
   ]
  },
  {
   "cell_type": "code",
   "execution_count": 23,
   "id": "1b3f90af-991e-4a0c-8fea-c83aa52bc506",
   "metadata": {},
   "outputs": [
    {
     "data": {
      "text/plain": [
       "'r'"
      ]
     },
     "execution_count": 23,
     "metadata": {},
     "output_type": "execute_result"
    }
   ],
   "source": [
    "com[0]"
   ]
  },
  {
   "cell_type": "code",
   "execution_count": 27,
   "id": "a117e605-e669-4d04-998c-f5550e8879a9",
   "metadata": {},
   "outputs": [
    {
     "data": {
      "text/plain": [
       "'a'"
      ]
     },
     "execution_count": 27,
     "metadata": {},
     "output_type": "execute_result"
    }
   ],
   "source": [
    "com[-3]"
   ]
  },
  {
   "cell_type": "markdown",
   "id": "105ce4cd-ab1d-4cab-bffe-fa14a8bf9459",
   "metadata": {},
   "source": [
    "# slicing operator"
   ]
  },
  {
   "cell_type": "markdown",
   "id": "6cd7c119-4675-403a-acd2-e779a7812631",
   "metadata": {},
   "source": [
    "#slicing = [start : stopping : [step=1]] --> step=1 (this is the by default value)\n",
    "#tecnique[position]\n",
    "\n"
   ]
  },
  {
   "cell_type": "code",
   "execution_count": 30,
   "id": "8ef5ade0-a13b-4d49-b57a-5a0843961770",
   "metadata": {},
   "outputs": [
    {
     "data": {
      "text/plain": [
       "'reg'"
      ]
     },
     "execution_count": 30,
     "metadata": {},
     "output_type": "execute_result"
    }
   ],
   "source": [
    "com[0:3]"
   ]
  },
  {
   "cell_type": "code",
   "execution_count": 32,
   "id": "42b17d11-988a-4687-9ff1-33771febcca3",
   "metadata": {},
   "outputs": [
    {
     "data": {
      "text/plain": [
       "'gex'"
      ]
     },
     "execution_count": 32,
     "metadata": {},
     "output_type": "execute_result"
    }
   ],
   "source": [
    "com[2:5]"
   ]
  },
  {
   "cell_type": "code",
   "execution_count": 34,
   "id": "3fcb6f76-063d-4b16-a280-918b97ce7d98",
   "metadata": {},
   "outputs": [
    {
     "data": {
      "text/plain": [
       "'regexsoftware'"
      ]
     },
     "execution_count": 34,
     "metadata": {},
     "output_type": "execute_result"
    }
   ],
   "source": [
    "com[0:]"
   ]
  },
  {
   "cell_type": "code",
   "execution_count": 36,
   "id": "6f0204ba-442d-4f04-b10b-4f104a1ab4e3",
   "metadata": {},
   "outputs": [
    {
     "data": {
      "text/plain": [
       "'regexsoftwar'"
      ]
     },
     "execution_count": 36,
     "metadata": {},
     "output_type": "execute_result"
    }
   ],
   "source": [
    "com[:-1]"
   ]
  },
  {
   "cell_type": "code",
   "execution_count": 38,
   "id": "83eca556-0d7d-44b7-834e-83c3d947551f",
   "metadata": {},
   "outputs": [
    {
     "data": {
      "text/plain": [
       "'regex'"
      ]
     },
     "execution_count": 38,
     "metadata": {},
     "output_type": "execute_result"
    }
   ],
   "source": [
    "com[:5]"
   ]
  },
  {
   "cell_type": "code",
   "execution_count": 40,
   "id": "1593943c-88d4-47e0-91de-8aca16a0ce44",
   "metadata": {},
   "outputs": [
    {
     "data": {
      "text/plain": [
       "''"
      ]
     },
     "execution_count": 40,
     "metadata": {},
     "output_type": "execute_result"
    }
   ],
   "source": [
    "com[-1:0]"
   ]
  },
  {
   "cell_type": "code",
   "execution_count": 42,
   "id": "943fd933-b0c2-4c71-a1d2-acc8ea99b830",
   "metadata": {},
   "outputs": [
    {
     "data": {
      "text/plain": [
       "'rgx'"
      ]
     },
     "execution_count": 42,
     "metadata": {},
     "output_type": "execute_result"
    }
   ],
   "source": [
    "com[0:5:2]"
   ]
  },
  {
   "cell_type": "code",
   "execution_count": 44,
   "id": "b40b8e48-9983-4b7d-a11a-9a1b96331da1",
   "metadata": {},
   "outputs": [
    {
     "data": {
      "text/plain": [
       "'rgxota'"
      ]
     },
     "execution_count": 44,
     "metadata": {},
     "output_type": "execute_result"
    }
   ],
   "source": [
    "com[0:-1:2]"
   ]
  },
  {
   "cell_type": "code",
   "execution_count": 46,
   "id": "db7150ab-985d-40ec-ad55-7cb542cf9b26",
   "metadata": {},
   "outputs": [
    {
     "data": {
      "text/plain": [
       "'regexsoftwa'"
      ]
     },
     "execution_count": 46,
     "metadata": {},
     "output_type": "execute_result"
    }
   ],
   "source": [
    "com[0:-2]"
   ]
  },
  {
   "cell_type": "code",
   "execution_count": 48,
   "id": "544e21d6-f7d5-4475-8376-0d382691bb8e",
   "metadata": {},
   "outputs": [
    {
     "data": {
      "text/plain": [
       "'e'"
      ]
     },
     "execution_count": 48,
     "metadata": {},
     "output_type": "execute_result"
    }
   ],
   "source": [
    "com[1:4:5]"
   ]
  },
  {
   "cell_type": "code",
   "execution_count": 50,
   "id": "e4618434-4b52-44af-a13d-a5000fcf5004",
   "metadata": {},
   "outputs": [
    {
     "data": {
      "text/plain": [
       "'xeg'"
      ]
     },
     "execution_count": 50,
     "metadata": {},
     "output_type": "execute_result"
    }
   ],
   "source": [
    "com[4:1:-1]"
   ]
  },
  {
   "cell_type": "code",
   "execution_count": 52,
   "id": "594310ab-3795-45de-b424-1be56410deb5",
   "metadata": {},
   "outputs": [
    {
     "data": {
      "text/plain": [
       "''"
      ]
     },
     "execution_count": 52,
     "metadata": {},
     "output_type": "execute_result"
    }
   ],
   "source": [
    "com[2:1]"
   ]
  },
  {
   "cell_type": "code",
   "execution_count": 62,
   "id": "c954d21a-da7b-4783-bd2a-70788a000486",
   "metadata": {},
   "outputs": [
    {
     "data": {
      "text/plain": [
       "'er'"
      ]
     },
     "execution_count": 62,
     "metadata": {},
     "output_type": "execute_result"
    }
   ],
   "source": [
    "com[-1:-3:-1]"
   ]
  },
  {
   "cell_type": "code",
   "execution_count": 58,
   "id": "50fbdea1-9e01-4692-a11d-f5f53625c0ed",
   "metadata": {},
   "outputs": [
    {
     "data": {
      "text/plain": [
       "'war'"
      ]
     },
     "execution_count": 58,
     "metadata": {},
     "output_type": "execute_result"
    }
   ],
   "source": [
    "com[-4:-1:1]"
   ]
  },
  {
   "cell_type": "code",
   "execution_count": 64,
   "id": "db39e21f-c8fb-42f1-bb9f-0d00f16980d8",
   "metadata": {},
   "outputs": [
    {
     "data": {
      "text/plain": [
       "'erawtfosxeger'"
      ]
     },
     "execution_count": 64,
     "metadata": {},
     "output_type": "execute_result"
    }
   ],
   "source": [
    "com[::-1]"
   ]
  },
  {
   "cell_type": "markdown",
   "id": "cf43777d-fe73-46e9-a527-a18ce54224fc",
   "metadata": {},
   "source": [
    "# bitwise operator"
   ]
  },
  {
   "cell_type": "code",
   "execution_count": 75,
   "id": "45ecc613-1a94-47ef-ab79-bfaae0ca758f",
   "metadata": {},
   "outputs": [],
   "source": [
    "# number\n",
    "# 8421(octat) --> in this it stores the values\n",
    "# there are two bitwise operators\n",
    "--> 1) & (and) --> 1+1 = 1 , 0+1 = 0 , 1+0 = 0 , 0+0=0\n",
    "--> 2) | (or) --> 0+0 = 0 , 1+0 = 1, 0+1 = 1, 1+1 = 1"
   ]
  },
  {
   "cell_type": "code",
   "execution_count": 69,
   "id": "cfb5dbd8-01f3-4f3c-8519-6da8888917d0",
   "metadata": {},
   "outputs": [
    {
     "data": {
      "text/plain": [
       "12"
      ]
     },
     "execution_count": 69,
     "metadata": {},
     "output_type": "execute_result"
    }
   ],
   "source": [
    "12 & 15"
   ]
  },
  {
   "cell_type": "code",
   "execution_count": 73,
   "id": "61db6e24-5f66-44b5-a5a2-bb45a543c16e",
   "metadata": {},
   "outputs": [
    {
     "data": {
      "text/plain": [
       "15"
      ]
     },
     "execution_count": 73,
     "metadata": {},
     "output_type": "execute_result"
    }
   ],
   "source": [
    "11 | 13\n"
   ]
  },
  {
   "cell_type": "markdown",
   "id": "0273aaa4-a468-4b6b-8be6-b24ef6670b22",
   "metadata": {},
   "source": [
    "# bitwise swift operator"
   ]
  },
  {
   "cell_type": "code",
   "execution_count": 78,
   "id": "b4a80fd0-e2c6-49e3-87a7-9b95a48fdb30",
   "metadata": {},
   "outputs": [
    {
     "data": {
      "text/plain": [
       "5"
      ]
     },
     "execution_count": 78,
     "metadata": {},
     "output_type": "execute_result"
    }
   ],
   "source": [
    "10>>1"
   ]
  },
  {
   "cell_type": "code",
   "execution_count": 82,
   "id": "e32b0308-9c2c-49ff-b918-436bc0647b1a",
   "metadata": {},
   "outputs": [
    {
     "data": {
      "text/plain": [
       "160"
      ]
     },
     "execution_count": 82,
     "metadata": {},
     "output_type": "execute_result"
    }
   ],
   "source": [
    "# number * 2**bit [left shift]\n",
    "20<<3"
   ]
  },
  {
   "cell_type": "code",
   "execution_count": 80,
   "id": "583f646e-2559-4351-8272-4f1b43942567",
   "metadata": {},
   "outputs": [
    {
     "data": {
      "text/plain": [
       "2"
      ]
     },
     "execution_count": 80,
     "metadata": {},
     "output_type": "execute_result"
    }
   ],
   "source": [
    "# number // 2**bit [right swift]\n",
    "# 20 // 2**3\n",
    "# 20 // 8\n",
    "20>>3"
   ]
  },
  {
   "cell_type": "code",
   "execution_count": null,
   "id": "ab1d4db0-fe98-4341-9229-3cc69fbcd3e3",
   "metadata": {},
   "outputs": [],
   "source": []
  },
  {
   "cell_type": "code",
   "execution_count": null,
   "id": "e30cafae-cb70-4155-a9cb-002df0b0c7b4",
   "metadata": {},
   "outputs": [],
   "source": []
  }
 ],
 "metadata": {
  "kernelspec": {
   "display_name": "Python 3 (ipykernel)",
   "language": "python",
   "name": "python3"
  },
  "language_info": {
   "codemirror_mode": {
    "name": "ipython",
    "version": 3
   },
   "file_extension": ".py",
   "mimetype": "text/x-python",
   "name": "python",
   "nbconvert_exporter": "python",
   "pygments_lexer": "ipython3",
   "version": "3.12.4"
  }
 },
 "nbformat": 4,
 "nbformat_minor": 5
}
