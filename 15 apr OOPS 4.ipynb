{
 "cells": [
  {
   "cell_type": "markdown",
   "id": "3683e5ba-4ab4-4564-9aca-5fe28f275c99",
   "metadata": {},
   "source": [
    "# Inheritance"
   ]
  },
  {
   "cell_type": "code",
   "execution_count": 4,
   "id": "6137f9d4-6dfc-4231-b125-214b5cd57111",
   "metadata": {},
   "outputs": [],
   "source": [
    "# inheritance in oops \n",
    "\n",
    "# it is a fundamental concepts in oops that allow a class (child class). to inherit attributes and methods from another \n",
    "# class(parent class).\n",
    "\n",
    "# this promotes code reuseablity and modularity.\n",
    "\n",
    "# KEY BENEFITS OF INHERITANCE:->\n",
    "\n",
    "# 1) Code Reuseablity --> the child class can reuse the code in the parent class.\n",
    "# 2) Extensibilty --> the child class can add or modify functionality of the parent class.\n",
    "# 3) Hierarchical structure --> Relationship btw classes are more organized.\n",
    "\n",
    "# TYPES OF INHERITANCE :-->\n",
    "\n",
    "# 1) single inheritance -> A child class inherits from one parent class.\n",
    "# 2) Multiple inheritance --> Single child class but multiple parent class.\n",
    "# 3) Multilevel Inheritance – A class inherits from a class which itself inherits from another.\n",
    "                # a child class inherit form a parent classs and that parent class inherit from another parent class.\n",
    "\n"
   ]
  },
  {
   "cell_type": "markdown",
   "id": "3845160e-e15e-4614-b83e-04a7ff9c2811",
   "metadata": {},
   "source": [
    "# Single inheritance"
   ]
  },
  {
   "cell_type": "code",
   "execution_count": 11,
   "id": "42e540a6-52cf-4727-8790-81663f0b10f4",
   "metadata": {},
   "outputs": [
    {
     "name": "stdout",
     "output_type": "stream",
     "text": [
      "name of location is jaipur\n",
      "project is schuedle...\n",
      "name of location is delhi\n"
     ]
    }
   ],
   "source": [
    "class employe:\n",
    "    def __init__(self,location):\n",
    "        self.location = location\n",
    "    def get_location(self):\n",
    "        print(f\"name of location is {self.location}\")\n",
    "\n",
    "class manager(employe):\n",
    "    def get_project(self):\n",
    "        print(\"project is schuedle...\")\n",
    "\n",
    "sam = employe('jaipur')\n",
    "sam.get_location()\n",
    "mohit = manager('delhi')\n",
    "mohit.get_project()\n",
    "mohit.get_location()"
   ]
  },
  {
   "cell_type": "markdown",
   "id": "9dfdc941-1fd6-4426-8c8f-a9b97b271219",
   "metadata": {},
   "source": [
    "# Multiple inheritance"
   ]
  },
  {
   "cell_type": "markdown",
   "id": "50a9a7ed-7737-4fcb-bc4f-99f4aa01fcb1",
   "metadata": {},
   "source": [
    "In multiple inheritance,a singlechild class inherits from two or more parent classess.this allow the child class to inherit attributes and methods from multiple sources."
   ]
  },
  {
   "cell_type": "code",
   "execution_count": 17,
   "id": "480aa180-f2c8-4692-892c-592f12090b03",
   "metadata": {},
   "outputs": [
    {
     "name": "stdout",
     "output_type": "stream",
     "text": [
      "engine started\n",
      "wheels are rotating\n",
      "car is driving\n"
     ]
    }
   ],
   "source": [
    "class engine:\n",
    "    def start_engine(self):\n",
    "        print(\"engine started\")\n",
    "\n",
    "class wheels:\n",
    "    def rotate_wheels(self):\n",
    "        print(\"wheels are rotating\")\n",
    "\n",
    "class car(engine,wheels):\n",
    "    def drive(self):\n",
    "        print(\"car is driving\")\n",
    "\n",
    "my_car = car()\n",
    "my_car.start_engine()\n",
    "my_car.rotate_wheels()\n",
    "my_car.drive()"
   ]
  },
  {
   "cell_type": "markdown",
   "id": "8ec3005a-5905-450c-9a6f-339b6dd9e885",
   "metadata": {},
   "source": [
    "# Multilevel inheritance"
   ]
  },
  {
   "cell_type": "code",
   "execution_count": 20,
   "id": "cd77c6a7-0b35-4c2e-8293-fae41b98676f",
   "metadata": {},
   "outputs": [
    {
     "name": "stdout",
     "output_type": "stream",
     "text": [
      "animal is eating\n",
      "dog is barking\n",
      "puupy is weeping\n"
     ]
    }
   ],
   "source": [
    "class animal:\n",
    "    def eat(self):\n",
    "        print(\"animal is eating\")\n",
    "\n",
    "class dog(animal):        # dog inherits from animal\n",
    "    def bark(self):\n",
    "        print(\"dog is barking\")\n",
    "\n",
    "class puppy(dog):         # puppy inherit from dog\n",
    "    def weep(self):\n",
    "        print(\"puupy is weeping\")\n",
    "\n",
    "puppy1 = puppy()\n",
    "puppy1.eat()\n",
    "puppy1.bark()\n",
    "puppy1.weep()"
   ]
  },
  {
   "cell_type": "markdown",
   "id": "2f759a1c-89b0-4ed2-8abf-047bbe920906",
   "metadata": {},
   "source": [
    "# Case Study 1: E-commerce order Management"
   ]
  },
  {
   "cell_type": "markdown",
   "id": "def816a7-beba-47b2-8019-f31320c85ba6",
   "metadata": {},
   "source": [
    "Scenerio: you are desiging an e-commerce order system. the system include:\n",
    "\n",
    "customer class (with name and contact details)\n",
    "\n",
    "product class(with name and price).\n",
    "\n",
    "order class (that inherits customer and product to manage customer orders).\n",
    "\n",
    "Requirements:\n",
    "\n",
    "customer should store customer deatils.\n",
    "\n",
    "product should store product details.\n",
    "\n",
    "order should generate an order summuary for a customer,including product details."
   ]
  },
  {
   "cell_type": "markdown",
   "id": "f032c16d-fc06-4294-bf06-af63aadd5d95",
   "metadata": {},
   "source": [
    "# Class Method:"
   ]
  },
  {
   "cell_type": "code",
   "execution_count": 28,
   "id": "c62e5a1b-8fef-4216-bf89-4c84fd4d6a39",
   "metadata": {},
   "outputs": [],
   "source": [
    "# A class method is a method that operates on the class itself rather than a instance of a class.\n",
    "\n",
    "# it is define using at the rate classs method,decorator ,glass method and it takes cls\n",
    "\n",
    "# Features Of Class Method:\n",
    "\n",
    "# 1) it operate on the class rather than instance speicific data.\n",
    "# 2) we can modify the class state using cls."
   ]
  },
  {
   "cell_type": "code",
   "execution_count": 40,
   "id": "6d8bcc6a-12b7-4b12-97d8-8183f23e3505",
   "metadata": {},
   "outputs": [
    {
     "name": "stdout",
     "output_type": "stream",
     "text": [
      "Tech Solutions\n",
      "Future Tech\n",
      "future tech\n",
      "physics\n",
      "physics\n",
      "rebel\n"
     ]
    }
   ],
   "source": [
    "class Employee:\n",
    "    company_name = \"Tech Solutions\"\n",
    "\n",
    "    def __init__(self, name, salary):\n",
    "        self.name = name\n",
    "        self.salary = salary\n",
    "\n",
    "    @classmethod\n",
    "    def change_company_name(cls, new_name):\n",
    "        cls.company_name = new_name\n",
    "\n",
    "# Usage\n",
    "emp1 = Employee(\"Sam\", 50000)\n",
    "emp2 = Employee(\"Rahul\", 60000)\n",
    "emp3 = Employee(\"Sumit\", 75000)\n",
    "\n",
    "# Access the class attribute\n",
    "print(Employee.company_name)\n",
    "\n",
    "# Change the class attribute using class method\n",
    "Employee.change_company_name(\"Future Tech\")\n",
    "print(Employee.company_name)\n",
    "\n",
    "# change the class attribute using class method\n",
    "Employee.change_company_name(\"future tech\")\n",
    "print(Employee.company_name)\n",
    "\n",
    "emp1.company_name\n",
    "emp1.change_company_name('physics')\n",
    "emp1.company_name\n",
    "\n",
    "print(emp2.company_name)\n",
    "print(emp3.company_name)\n",
    "emp3.change_company_name(\"rebel\")\n",
    "print(emp3.company_name)"
   ]
  },
  {
   "cell_type": "code",
   "execution_count": null,
   "id": "2b07c2ce-4b85-43da-8e9d-75d83c18345c",
   "metadata": {},
   "outputs": [],
   "source": []
  }
 ],
 "metadata": {
  "kernelspec": {
   "display_name": "Python 3 (ipykernel)",
   "language": "python",
   "name": "python3"
  },
  "language_info": {
   "codemirror_mode": {
    "name": "ipython",
    "version": 3
   },
   "file_extension": ".py",
   "mimetype": "text/x-python",
   "name": "python",
   "nbconvert_exporter": "python",
   "pygments_lexer": "ipython3",
   "version": "3.12.4"
  }
 },
 "nbformat": 4,
 "nbformat_minor": 5
}
