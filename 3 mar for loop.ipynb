{
 "cells": [
  {
   "cell_type": "markdown",
   "id": "36b1fe34-105a-4a92-8db6-9db41e6575df",
   "metadata": {},
   "source": [
    "# call by value and call by reference"
   ]
  },
  {
   "cell_type": "code",
   "execution_count": 6,
   "id": "67d7f01a-1a73-4473-a735-6a9f2cb1a756",
   "metadata": {},
   "outputs": [
    {
     "name": "stdout",
     "output_type": "stream",
     "text": [
      "140729862078424\n",
      "140729862078424\n"
     ]
    }
   ],
   "source": [
    "x = 50\n",
    "print(id(x))\n",
    "a=x\n",
    "print(id(x))"
   ]
  },
  {
   "cell_type": "code",
   "execution_count": 10,
   "id": "15a5b450-a454-481f-bcde-09b242483183",
   "metadata": {},
   "outputs": [
    {
     "name": "stdout",
     "output_type": "stream",
     "text": [
      "before change 140729862078424 140729862078424\n",
      "after change 140729862078424 140729862077784\n"
     ]
    }
   ],
   "source": [
    "x = 50\n",
    "a=x\n",
    "print(\"before change\",id(x),id(a))\n",
    "a=30\n",
    "print(\"after change\",id(x),id(a))\n"
   ]
  },
  {
   "cell_type": "code",
   "execution_count": 12,
   "id": "08412328-9c79-4b40-aa6a-8a8ea768bd64",
   "metadata": {},
   "outputs": [
    {
     "name": "stdout",
     "output_type": "stream",
     "text": [
      "140729862110432 140729862110432\n"
     ]
    }
   ],
   "source": [
    "x=\"a\"\n",
    "a=x\n",
    "print(id(a),id(a))"
   ]
  },
  {
   "cell_type": "markdown",
   "id": "75dea5cd-cf36-4823-a958-4e4dc0cb89b6",
   "metadata": {},
   "source": [
    "# for loop"
   ]
  },
  {
   "cell_type": "code",
   "execution_count": 17,
   "id": "de742c9e-f016-47fe-bd36-7fc57a04dc0e",
   "metadata": {},
   "outputs": [
    {
     "name": "stdout",
     "output_type": "stream",
     "text": [
      "hii 0\n",
      "hii 1\n",
      "hii 2\n",
      "hii 3\n",
      "hii 4\n"
     ]
    }
   ],
   "source": [
    "for i in range(0,5):\n",
    "    print(\"hii\",i)"
   ]
  },
  {
   "cell_type": "code",
   "execution_count": 19,
   "id": "47304522-04d9-4614-9bef-cc78971d1be8",
   "metadata": {},
   "outputs": [
    {
     "name": "stdout",
     "output_type": "stream",
     "text": [
      "hii 1\n",
      "hii 2\n",
      "hii 3\n",
      "hii 4\n",
      "hii 5\n",
      "hii 6\n"
     ]
    }
   ],
   "source": [
    "for i in range(1,7):\n",
    "    print(\"hii\",i)"
   ]
  },
  {
   "cell_type": "code",
   "execution_count": 31,
   "id": "c057336f-1208-42cd-a145-22cc82187371",
   "metadata": {},
   "outputs": [
    {
     "name": "stdout",
     "output_type": "stream",
     "text": [
      "hii 3\n",
      "hii 6\n"
     ]
    }
   ],
   "source": [
    "for i in range(3,9,3):\n",
    "    print(\"hii\",i)"
   ]
  },
  {
   "cell_type": "code",
   "execution_count": 29,
   "id": "ebefb0f9-dc4f-402e-a58a-27b031e4685c",
   "metadata": {},
   "outputs": [
    {
     "data": {
      "text/plain": [
       "'jpn'"
      ]
     },
     "execution_count": 29,
     "metadata": {},
     "output_type": "execute_result"
    }
   ],
   "source": [
    "\"japan\"[0:5:2]"
   ]
  },
  {
   "cell_type": "code",
   "execution_count": 37,
   "id": "e1530a90-e5ca-468e-9a69-e6cb85c79ed4",
   "metadata": {},
   "outputs": [
    {
     "name": "stdout",
     "output_type": "stream",
     "text": [
      "hii 9\n",
      "hii 8\n",
      "hii 7\n",
      "hii 6\n",
      "hii 5\n",
      "hii 4\n"
     ]
    }
   ],
   "source": [
    "for i in range(9,3,-1):\n",
    "    print(\"hii\",i)"
   ]
  },
  {
   "cell_type": "code",
   "execution_count": 49,
   "id": "11c0b963-c48d-4edf-a57e-0ef564335316",
   "metadata": {},
   "outputs": [
    {
     "name": "stdout",
     "output_type": "stream",
     "text": [
      "even 2\n",
      "even 4\n",
      "even 6\n",
      "even 8\n"
     ]
    }
   ],
   "source": [
    "for num in range(2,9,2):\n",
    "    \n",
    "    if(num%2==0):\n",
    "        print(\"even\",num)\n",
    "    else:\n",
    "        print(\"odd\",num)\n",
    "    "
   ]
  },
  {
   "cell_type": "code",
   "execution_count": 51,
   "id": "137e4af6-25e8-40c8-9029-de7f0e6a64ad",
   "metadata": {},
   "outputs": [
    {
     "name": "stdout",
     "output_type": "stream",
     "text": [
      "even 2\n",
      "odd 3\n",
      "even 4\n",
      "odd 5\n",
      "even 6\n",
      "odd 7\n",
      "even 8\n"
     ]
    }
   ],
   "source": [
    "for num in range(2,9):\n",
    "    \n",
    "    if(num%2==0):\n",
    "        print(\"even\",num)\n",
    "    else:\n",
    "        print(\"odd\",num)\n",
    "    "
   ]
  },
  {
   "cell_type": "code",
   "execution_count": 53,
   "id": "f107bbb3-1a4f-4002-a9a6-0736365ca59b",
   "metadata": {},
   "outputs": [
    {
     "name": "stdout",
     "output_type": "stream",
     "text": [
      "2\n",
      "3\n",
      "4\n",
      "5\n",
      "6\n",
      "7\n",
      "8\n",
      "9\n",
      "10\n",
      "11\n",
      "12\n",
      "13\n",
      "14\n",
      "15\n",
      "16\n",
      "17\n",
      "18\n",
      "19\n"
     ]
    }
   ],
   "source": [
    "for i in range(2,20):\n",
    "    print(i)"
   ]
  },
  {
   "cell_type": "code",
   "execution_count": 57,
   "id": "17f266e3-cffb-440c-bf5e-38a985f925c3",
   "metadata": {},
   "outputs": [
    {
     "name": "stdout",
     "output_type": "stream",
     "text": [
      "97\n",
      "96\n",
      "95\n",
      "94\n",
      "93\n",
      "92\n",
      "91\n",
      "90\n",
      "89\n",
      "88\n",
      "87\n",
      "86\n",
      "85\n",
      "84\n",
      "83\n",
      "82\n",
      "81\n",
      "80\n",
      "79\n",
      "78\n",
      "77\n",
      "76\n",
      "75\n",
      "74\n",
      "73\n",
      "72\n",
      "71\n",
      "70\n",
      "69\n",
      "68\n",
      "67\n",
      "66\n",
      "65\n",
      "64\n",
      "63\n",
      "62\n",
      "61\n",
      "60\n",
      "59\n",
      "58\n",
      "57\n",
      "56\n"
     ]
    }
   ],
   "source": [
    "for i in range(97,55,-1):\n",
    "    print(i)"
   ]
  },
  {
   "cell_type": "code",
   "execution_count": 87,
   "id": "fcaec8f5-8ae0-4835-91b8-dc49593934a7",
   "metadata": {},
   "outputs": [
    {
     "name": "stdout",
     "output_type": "stream",
     "text": [
      "sum of num 2\n",
      "sum of num 3\n",
      "sum of num 4\n",
      "sum of num 5\n",
      "sum of num 6\n",
      "sum of num 7\n",
      "sum of num 8\n"
     ]
    }
   ],
   "source": [
    "\n",
    "for num in range(2,9):\n",
    "    a = 0\n",
    "    a = a + num\n",
    "    print(\"sum of num\",a)\n",
    "    \n",
    "   \n",
    "    "
   ]
  },
  {
   "cell_type": "code",
   "execution_count": 115,
   "id": "d0741744-6fa1-47f6-86a6-59ddaeb1de98",
   "metadata": {},
   "outputs": [
    {
     "name": "stdout",
     "output_type": "stream",
     "text": [
      "sum of num 2542\n"
     ]
    }
   ],
   "source": [
    "a=0\n",
    "for num in range(97,66,-1):\n",
    "   \n",
    "    a = a + num\n",
    "print(\"sum of num\",a)\n",
    "    \n",
    "   \n",
    "    "
   ]
  },
  {
   "cell_type": "code",
   "execution_count": 113,
   "id": "a9e4c822-260f-4b75-bec1-55214a4f27da",
   "metadata": {},
   "outputs": [
    {
     "name": "stdout",
     "output_type": "stream",
     "text": [
      "total numbers 1\n",
      "total numbers 2\n",
      "total numbers 3\n",
      "total numbers 4\n",
      "total numbers 5\n",
      "total numbers 6\n",
      "total numbers 7\n",
      "total numbers 8\n",
      "total numbers 9\n",
      "total numbers 10\n",
      "total numbers 11\n",
      "total numbers 12\n",
      "total numbers 13\n",
      "total numbers 14\n",
      "total numbers 15\n",
      "total numbers 16\n",
      "total numbers 17\n",
      "total numbers 18\n",
      "total numbers 19\n",
      "total numbers 20\n",
      "total numbers 21\n",
      "total numbers 22\n",
      "total numbers 23\n",
      "total numbers 24\n",
      "total numbers 25\n",
      "total numbers 26\n",
      "total numbers 27\n",
      "total numbers 28\n",
      "total numbers 29\n",
      "total numbers 30\n"
     ]
    }
   ],
   "source": [
    "count = 0\n",
    "for num in range(7,37):\n",
    "    count += 1\n",
    "   \n",
    "    \n",
    "    print(\"total numbers\",count)\n",
    "    \n",
    "   \n",
    "    "
   ]
  },
  {
   "cell_type": "code",
   "execution_count": 131,
   "id": "3349e923-4668-42b5-ab9b-d7e0b25895ea",
   "metadata": {},
   "outputs": [
    {
     "name": "stdout",
     "output_type": "stream",
     "text": [
      "672\n"
     ]
    }
   ],
   "source": [
    "a = 0\n",
    "for num in range(11,53):\n",
    "   \n",
    "    if(num%2==0):\n",
    "        a = a+num\n",
    "print(a)"
   ]
  },
  {
   "cell_type": "code",
   "execution_count": 133,
   "id": "3bb473d9-a7ac-447d-b73d-067145399a1d",
   "metadata": {},
   "outputs": [
    {
     "name": "stdout",
     "output_type": "stream",
     "text": [
      "j\n",
      "a\n",
      "i\n",
      "p\n",
      "u\n",
      "r\n"
     ]
    }
   ],
   "source": [
    "data= \"jaipur\"\n",
    "for i in data:\n",
    "    print(i)"
   ]
  },
  {
   "cell_type": "code",
   "execution_count": 143,
   "id": "1da919d8-b2a9-4b07-943b-b67eb5f0efb8",
   "metadata": {},
   "outputs": [
    {
     "name": "stdout",
     "output_type": "stream",
     "text": [
      "0 j\n",
      "1 a\n",
      "2 i\n",
      "3 p\n",
      "4 u\n",
      "5 r\n"
     ]
    }
   ],
   "source": [
    "data= \"jaipur\"\n",
    "\n",
    "for i in range(0,6):\n",
    "\n",
    "    print(i,data[i])"
   ]
  },
  {
   "cell_type": "code",
   "execution_count": 151,
   "id": "7371a84e-1642-418a-8cdd-0392722dcc6c",
   "metadata": {},
   "outputs": [
    {
     "name": "stdout",
     "output_type": "stream",
     "text": [
      "0 j\n",
      "1 a\n",
      "2 i\n",
      "3 p\n",
      "4 u\n",
      "5 r\n",
      "6  \n",
      "7 r\n",
      "8 a\n",
      "9 j\n",
      "10 a\n",
      "11 s\n",
      "12 t\n",
      "13 h\n",
      "14 a\n",
      "15 n\n"
     ]
    }
   ],
   "source": [
    "data= \"jaipur rajasthan\"\n",
    "\n",
    "\n",
    "for i in range(0,len(data)):\n",
    "\n",
    "    print(i,data[i])"
   ]
  },
  {
   "cell_type": "code",
   "execution_count": null,
   "id": "c8150eb8-72fb-4505-8794-46b318dff29d",
   "metadata": {},
   "outputs": [],
   "source": []
  }
 ],
 "metadata": {
  "kernelspec": {
   "display_name": "Python 3 (ipykernel)",
   "language": "python",
   "name": "python3"
  },
  "language_info": {
   "codemirror_mode": {
    "name": "ipython",
    "version": 3
   },
   "file_extension": ".py",
   "mimetype": "text/x-python",
   "name": "python",
   "nbconvert_exporter": "python",
   "pygments_lexer": "ipython3",
   "version": "3.12.4"
  }
 },
 "nbformat": 4,
 "nbformat_minor": 5
}
