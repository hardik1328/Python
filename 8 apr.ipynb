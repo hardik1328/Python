{
 "cells": [
  {
   "cell_type": "code",
   "execution_count": 1,
   "id": "34839111-eade-4630-a36f-6bbfb58c4344",
   "metadata": {},
   "outputs": [],
   "source": [
    "import csv\n",
    "f = open(\"data.txt\",\"r\")\n",
    "f_csv = csv.reader(f)\n",
    "for line in f_csv:\n",
    "    print(line)\n"
   ]
  },
  {
   "cell_type": "code",
   "execution_count": 3,
   "id": "62094c3e-6c51-47e1-94fa-31b09b7a6f86",
   "metadata": {},
   "outputs": [
    {
     "name": "stdin",
     "output_type": "stream",
     "text": [
      "Enter 1 to display the current system time:  1\n"
     ]
    },
    {
     "name": "stdout",
     "output_type": "stream",
     "text": [
      "Current system time is: 10:40:14\n"
     ]
    }
   ],
   "source": [
    "import datetime\n",
    "\n",
    "# Get input from user\n",
    "choice = input(\"Enter 1 to display the current system time: \")\n",
    "\n",
    "# Check the user input\n",
    "if choice == '1':\n",
    "    current_time = datetime.datetime.now().strftime(\"%H:%M:%S\")\n",
    "    print(\"Current system time is:\", current_time)\n",
    "else:\n",
    "    print(\"Invalid input. Please enter 1 to view the time.\")\n"
   ]
  },
  {
   "cell_type": "code",
   "execution_count": 5,
   "id": "589d16b5-34b2-41e4-9ced-5df5aa287e66",
   "metadata": {},
   "outputs": [
    {
     "name": "stdout",
     "output_type": "stream",
     "text": [
      "Choose an option:\n",
      "1 - Show current time\n",
      "2 - Create a random folder on Desktop\n"
     ]
    },
    {
     "name": "stdin",
     "output_type": "stream",
     "text": [
      "Enter your choice:  2\n"
     ]
    },
    {
     "name": "stdout",
     "output_type": "stream",
     "text": [
      "Random folder created on desktop: C:\\Users\\hardi\\Desktop\\Folder_CXFMM\n"
     ]
    }
   ],
   "source": [
    "import datetime\n",
    "import os\n",
    "import random\n",
    "import string\n",
    "\n",
    "# Function to show current time\n",
    "def show_current_time():\n",
    "    current_time = datetime.datetime.now().strftime(\"%H:%M:%S\")\n",
    "    print(\"Current system time is:\", current_time)\n",
    "\n",
    "# Function to create a random folder on Desktop\n",
    "def create_random_folder():\n",
    "    # Get desktop path\n",
    "    desktop_path = os.path.join(os.path.expanduser(\"~\"), \"Desktop\")\n",
    "    \n",
    "    # Generate a random folder name (e.g., Folder_X8A2P)\n",
    "    random_str = ''.join(random.choices(string.ascii_uppercase + string.digits, k=5))\n",
    "    folder_name = f\"Folder_{random_str}\"\n",
    "    folder_path = os.path.join(desktop_path, folder_name)\n",
    "\n",
    "    try:\n",
    "        os.makedirs(folder_path)\n",
    "        print(f\"Random folder created on desktop: {folder_path}\")\n",
    "    except Exception as e:\n",
    "        print(\"Error creating folder:\", e)\n",
    "\n",
    "# Main program\n",
    "print(\"Choose an option:\")\n",
    "print(\"1 - Show current time\")\n",
    "print(\"2 - Create a random folder on Desktop\")\n",
    "choice = input(\"Enter your choice: \")\n",
    "\n",
    "if choice == '1':\n",
    "    show_current_time()\n",
    "elif choice == '2':\n",
    "    create_random_folder()\n",
    "else:\n",
    "    print(\"Invalid input. Please enter 1 or 2.\")\n"
   ]
  },
  {
   "cell_type": "code",
   "execution_count": 7,
   "id": "629b2951-a4c3-4de4-a207-3589f48a1537",
   "metadata": {},
   "outputs": [
    {
     "name": "stdout",
     "output_type": "stream",
     "text": [
      "Choose an option:\n",
      "1 - Show current time\n",
      "2 - Create a random folder on Desktop\n",
      "3 - Close the program\n"
     ]
    },
    {
     "name": "stdin",
     "output_type": "stream",
     "text": [
      "Enter your choice:  3\n"
     ]
    },
    {
     "name": "stdout",
     "output_type": "stream",
     "text": [
      "Closing the program...\n"
     ]
    },
    {
     "ename": "SystemExit",
     "evalue": "",
     "output_type": "error",
     "traceback": [
      "An exception has occurred, use %tb to see the full traceback.\n",
      "\u001b[1;31mSystemExit\u001b[0m\n"
     ]
    },
    {
     "name": "stderr",
     "output_type": "stream",
     "text": [
      "C:\\Users\\hardi\\anaconda3\\Lib\\site-packages\\IPython\\core\\interactiveshell.py:3585: UserWarning: To exit: use 'exit', 'quit', or Ctrl-D.\n",
      "  warn(\"To exit: use 'exit', 'quit', or Ctrl-D.\", stacklevel=1)\n"
     ]
    }
   ],
   "source": [
    "import datetime\n",
    "import os\n",
    "import random\n",
    "import string\n",
    "import sys\n",
    "\n",
    "# Function to show current time\n",
    "def show_current_time():\n",
    "    current_time = datetime.datetime.now().strftime(\"%H:%M:%S\")\n",
    "    print(\"Current system time is:\", current_time)\n",
    "\n",
    "# Function to create a random folder on Desktop\n",
    "def create_random_folder():\n",
    "    desktop_path = os.path.join(os.path.expanduser(\"~\"), \"Desktop\")\n",
    "    random_str = ''.join(random.choices(string.ascii_uppercase + string.digits, k=5))\n",
    "    folder_name = f\"Folder_{random_str}\"\n",
    "    folder_path = os.path.join(desktop_path, folder_name)\n",
    "\n",
    "    try:\n",
    "        os.makedirs(folder_path)\n",
    "        print(f\"Random folder created on desktop: {folder_path}\")\n",
    "    except Exception as e:\n",
    "        print(\"Error creating folder:\", e)\n",
    "\n",
    "# Function to close the current tab / exit the script\n",
    "def close_program():\n",
    "    print(\"Closing the program...\")\n",
    "    sys.exit()\n",
    "\n",
    "# Main program\n",
    "print(\"Choose an option:\")\n",
    "print(\"1 - Show current time\")\n",
    "print(\"2 - Create a random folder on Desktop\")\n",
    "print(\"3 - Close the program\")\n",
    "choice = input(\"Enter your choice: \")\n",
    "\n",
    "if choice == '1':\n",
    "    show_current_time()\n",
    "elif choice == '2':\n",
    "    create_random_folder()\n",
    "elif choice == '3':\n",
    "    close_program()\n",
    "else:\n",
    "    print(\"Invalid input. Please enter 1, 2, or 3.\")\n"
   ]
  },
  {
   "cell_type": "code",
   "execution_count": 1,
   "id": "d2c6521a-839f-4874-8cae-6ef87d6c4fe9",
   "metadata": {},
   "outputs": [
    {
     "name": "stdout",
     "output_type": "stream",
     "text": [
      "Requirement already satisfied: pywhatkit in c:\\users\\hardi\\anaconda3\\lib\\site-packages (5.4)\n",
      "Requirement already satisfied: Pillow in c:\\users\\hardi\\anaconda3\\lib\\site-packages (from pywhatkit) (10.3.0)\n",
      "Requirement already satisfied: pyautogui in c:\\users\\hardi\\anaconda3\\lib\\site-packages (from pywhatkit) (0.9.54)\n",
      "Requirement already satisfied: requests in c:\\users\\hardi\\anaconda3\\lib\\site-packages (from pywhatkit) (2.32.2)\n",
      "Requirement already satisfied: wikipedia in c:\\users\\hardi\\anaconda3\\lib\\site-packages (from pywhatkit) (1.4.0)\n",
      "Requirement already satisfied: Flask in c:\\users\\hardi\\anaconda3\\lib\\site-packages (from pywhatkit) (3.0.3)\n",
      "Requirement already satisfied: Werkzeug>=3.0.0 in c:\\users\\hardi\\anaconda3\\lib\\site-packages (from Flask->pywhatkit) (3.0.3)\n",
      "Requirement already satisfied: Jinja2>=3.1.2 in c:\\users\\hardi\\anaconda3\\lib\\site-packages (from Flask->pywhatkit) (3.1.4)\n",
      "Requirement already satisfied: itsdangerous>=2.1.2 in c:\\users\\hardi\\anaconda3\\lib\\site-packages (from Flask->pywhatkit) (2.2.0)\n",
      "Requirement already satisfied: click>=8.1.3 in c:\\users\\hardi\\anaconda3\\lib\\site-packages (from Flask->pywhatkit) (8.1.7)\n",
      "Requirement already satisfied: blinker>=1.6.2 in c:\\users\\hardi\\anaconda3\\lib\\site-packages (from Flask->pywhatkit) (1.6.2)\n",
      "Requirement already satisfied: pymsgbox in c:\\users\\hardi\\anaconda3\\lib\\site-packages (from pyautogui->pywhatkit) (1.0.9)\n",
      "Requirement already satisfied: pytweening>=1.0.4 in c:\\users\\hardi\\anaconda3\\lib\\site-packages (from pyautogui->pywhatkit) (1.2.0)\n",
      "Requirement already satisfied: pyscreeze>=0.1.21 in c:\\users\\hardi\\anaconda3\\lib\\site-packages (from pyautogui->pywhatkit) (1.0.1)\n",
      "Requirement already satisfied: pygetwindow>=0.0.5 in c:\\users\\hardi\\anaconda3\\lib\\site-packages (from pyautogui->pywhatkit) (0.0.9)\n",
      "Requirement already satisfied: mouseinfo in c:\\users\\hardi\\anaconda3\\lib\\site-packages (from pyautogui->pywhatkit) (0.1.3)\n",
      "Requirement already satisfied: charset-normalizer<4,>=2 in c:\\users\\hardi\\anaconda3\\lib\\site-packages (from requests->pywhatkit) (2.0.4)\n",
      "Requirement already satisfied: idna<4,>=2.5 in c:\\users\\hardi\\anaconda3\\lib\\site-packages (from requests->pywhatkit) (3.7)\n",
      "Requirement already satisfied: urllib3<3,>=1.21.1 in c:\\users\\hardi\\anaconda3\\lib\\site-packages (from requests->pywhatkit) (2.2.2)\n",
      "Requirement already satisfied: certifi>=2017.4.17 in c:\\users\\hardi\\anaconda3\\lib\\site-packages (from requests->pywhatkit) (2024.7.4)\n",
      "Requirement already satisfied: beautifulsoup4 in c:\\users\\hardi\\anaconda3\\lib\\site-packages (from wikipedia->pywhatkit) (4.12.3)\n",
      "Requirement already satisfied: colorama in c:\\users\\hardi\\anaconda3\\lib\\site-packages (from click>=8.1.3->Flask->pywhatkit) (0.4.6)\n",
      "Requirement already satisfied: MarkupSafe>=2.0 in c:\\users\\hardi\\anaconda3\\lib\\site-packages (from Jinja2>=3.1.2->Flask->pywhatkit) (2.1.3)\n",
      "Requirement already satisfied: pyrect in c:\\users\\hardi\\anaconda3\\lib\\site-packages (from pygetwindow>=0.0.5->pyautogui->pywhatkit) (0.2.0)\n",
      "Requirement already satisfied: soupsieve>1.2 in c:\\users\\hardi\\anaconda3\\lib\\site-packages (from beautifulsoup4->wikipedia->pywhatkit) (2.5)\n",
      "Requirement already satisfied: pyperclip in c:\\users\\hardi\\anaconda3\\lib\\site-packages (from mouseinfo->pyautogui->pywhatkit) (1.9.0)\n",
      "Note: you may need to restart the kernel to use updated packages.\n"
     ]
    }
   ],
   "source": [
    "pip install pywhatkit"
   ]
  },
  {
   "cell_type": "code",
   "execution_count": null,
   "id": "3c1888ac-ab75-4bac-85c7-25157af15fed",
   "metadata": {},
   "outputs": [
    {
     "name": "stdout",
     "output_type": "stream",
     "text": [
      "Choose an option:\n",
      "1 - Show current time\n",
      "2 - Create a random folder on Desktop\n",
      "3 - Close the program\n",
      "4 - Send 'Hi' on WhatsApp\n"
     ]
    },
    {
     "name": "stdin",
     "output_type": "stream",
     "text": [
      "Enter your choice:  4\n"
     ]
    },
    {
     "name": "stdout",
     "output_type": "stream",
     "text": [
      "Sending WhatsApp message to 91+ 8949176969...\n",
      "In 69 Seconds WhatsApp will open and after 15 Seconds Message will be Delivered!\n"
     ]
    }
   ],
   "source": [
    "import datetime\n",
    "import os\n",
    "import random\n",
    "import string\n",
    "import sys\n",
    "import pywhatkit\n",
    "\n",
    "# Function to show current time\n",
    "def show_current_time():\n",
    "    current_time = datetime.datetime.now().strftime(\"%H:%M:%S\")\n",
    "    print(\"Current system time is:\", current_time)\n",
    "\n",
    "# Function to create a random folder on Desktop\n",
    "def create_random_folder():\n",
    "    desktop_path = os.path.join(os.path.expanduser(\"~\"), \"Desktop\")\n",
    "    random_str = ''.join(random.choices(string.ascii_uppercase + string.digits, k=5))\n",
    "    folder_name = f\"Folder_{random_str}\"\n",
    "    folder_path = os.path.join(desktop_path, folder_name)\n",
    "\n",
    "    try:\n",
    "        os.makedirs(folder_path)\n",
    "        print(f\"Random folder created on desktop: {folder_path}\")\n",
    "    except Exception as e:\n",
    "        print(\"Error creating folder:\", e)\n",
    "\n",
    "# Function to close the program\n",
    "def close_program():\n",
    "    print(\"Closing the program...\")\n",
    "    sys.exit()\n",
    "\n",
    "# Function to send a WhatsApp message\n",
    "def send_whatsapp_message():\n",
    "    # Replace with your friend's number (in international format, e.g., +91XXXXXXXXXX)\n",
    "    phone_number = \"91+ 8949176969\"\n",
    "    message = \"Hi\"\n",
    "    now = datetime.datetime.now()\n",
    "    hour = now.hour\n",
    "    minute = now.minute + 2  # Scheduled 2 minutes ahead to avoid immediate send issues\n",
    "\n",
    "    print(f\"Sending WhatsApp message to {phone_number}...\")\n",
    "    pywhatkit.sendwhatmsg(phone_number, message, hour, minute)\n",
    "    print(\"Message scheduled. Please do not close the browser.\")\n",
    "\n",
    "# Main program\n",
    "print(\"Choose an option:\")\n",
    "print(\"1 - Show current time\")\n",
    "print(\"2 - Create a random folder on Desktop\")\n",
    "print(\"3 - Close the program\")\n",
    "print(\"4 - Send 'Hi' on WhatsApp\")\n",
    "choice = input(\"Enter your choice: \")\n",
    "\n",
    "if choice == '1':\n",
    "    show_current_time()\n",
    "elif choice == '2':\n",
    "    create_random_folder()\n",
    "elif choice == '3':\n",
    "    close_program()\n",
    "elif choice == '4':\n",
    "    send_whatsapp_message()\n",
    "else:\n",
    "    print(\"Invalid input. Please enter 1, 2, 3, or 4.\")\n"
   ]
  },
  {
   "cell_type": "code",
   "execution_count": 70,
   "id": "982f8ae7-aece-4cc4-8303-5462567e3ddd",
   "metadata": {},
   "outputs": [
    {
     "name": "stdout",
     "output_type": "stream",
     "text": [
      "Choose an option:\n",
      "1 - Show current time\n",
      "2 - Create a random folder on Desktop\n",
      "3 - Close the program\n",
      "4 - Send 'Hi' on WhatsApp\n",
      "5 - Shutdown your system\n"
     ]
    },
    {
     "name": "stdin",
     "output_type": "stream",
     "text": [
      "Enter your choice:  1\n"
     ]
    },
    {
     "name": "stdout",
     "output_type": "stream",
     "text": [
      "Current system time is: 15:44:42\n"
     ]
    }
   ],
   "source": [
    "import datetime\n",
    "import os\n",
    "import random\n",
    "import string\n",
    "import sys\n",
    "import pywhatkit\n",
    "import platform\n",
    "\n",
    "def show_current_time():\n",
    "    current_time = datetime.datetime.now().strftime(\"%H:%M:%S\")\n",
    "    print(\"Current system time is:\", current_time)\n",
    "\n",
    "def create_random_folder():\n",
    "    desktop_path = os.path.join(os.path.expanduser(\"~\"), \"Desktop\")\n",
    "    random_str = ''.join(random.choices(string.ascii_uppercase + string.digits, k=5))\n",
    "    folder_name = f\"Folder_{random_str}\"\n",
    "    folder_path = os.path.join(desktop_path, folder_name)\n",
    "\n",
    "    try:\n",
    "        os.makedirs(folder_path)\n",
    "        print(f\"Random folder created on desktop: {folder_path}\")\n",
    "    except Exception as e:\n",
    "        print(\"Error creating folder:\", e)\n",
    "\n",
    "def close_program():\n",
    "    print(\"Closing the program...\")\n",
    "    sys.exit()\n",
    "\n",
    "def send_whatsapp_message():\n",
    "    phone_number = \"+91XXXXXXXXXX\"  # Replace with your friend's number\n",
    "    message = \"Hi\"\n",
    "    now = datetime.datetime.now()\n",
    "    hour = now.hour\n",
    "    minute = now.minute + 2\n",
    "\n",
    "    print(f\"Sending WhatsApp message to {phone_number}...\")\n",
    "    pywhatkit.sendwhatmsg(phone_number, message, hour, minute)\n",
    "    print(\"Message scheduled. Keep browser open until sent.\")\n",
    "\n",
    "def shutdown_system():\n",
    "    confirm = input(\"Are you sure you want to shut down the system? (yes/no): \").strip().lower()\n",
    "    if confirm == \"yes\":\n",
    "        print(\"Shutting down your system...\")\n",
    "        if platform.system() == \"Windows\":\n",
    "            os.system(\"shutdown /s /t 1\")\n",
    "        \n",
    "        else:\n",
    "            print(\"Unsupported OS for shutdown command.\")\n",
    "    else:\n",
    "        print(\"Shutdown canceled.\")\n",
    "\n",
    "# Main menu\n",
    "print(\"Choose an option:\")\n",
    "print(\"1 - Show current time\")\n",
    "print(\"2 - Create a random folder on Desktop\")\n",
    "print(\"3 - Close the program\")\n",
    "print(\"4 - Send 'Hi' on WhatsApp\")\n",
    "print(\"5 - Shutdown your system\")\n",
    "\n",
    "choice = input(\"Enter your choice: \")\n",
    "\n",
    "if choice == '1':\n",
    "    show_current_time()\n",
    "elif choice == '2':\n",
    "    create_random_folder()\n",
    "elif choice == '3':\n",
    "    close_program()\n",
    "elif choice == '4':\n",
    "    send_whatsapp_message()\n",
    "elif choice == '5':\n",
    "    shutdown_system()\n",
    "else:\n",
    "    print(\"Invalid input. Please enter a valid option.\")\n"
   ]
  },
  {
   "cell_type": "code",
   "execution_count": 7,
   "id": "a07c85e7-65c1-4204-8909-a3e54cbd1d44",
   "metadata": {},
   "outputs": [
    {
     "name": "stdout",
     "output_type": "stream",
     "text": [
      "\n"
     ]
    }
   ],
   "source": [
    "f = open(\"data.txt\")\n",
    "var = f.read()\n",
    "f.close()\n",
    "print(var)"
   ]
  },
  {
   "cell_type": "code",
   "execution_count": 11,
   "id": "095e976c-ddcc-44ba-b725-c568a8ae98d6",
   "metadata": {},
   "outputs": [
    {
     "name": "stdout",
     "output_type": "stream",
     "text": [
      "hardik somani\n"
     ]
    }
   ],
   "source": [
    "f = open(\"data.txt\")\n",
    "var = f.read()\n",
    "f.close()\n",
    "print(var)"
   ]
  },
  {
   "cell_type": "code",
   "execution_count": 15,
   "id": "67143748-af29-4ef9-8fd3-2eae2fa9773a",
   "metadata": {},
   "outputs": [],
   "source": [
    "fi = open(\"data.txt\",\"w\")\n",
    "\n",
    "fi.write(\"rajasthan\")\n",
    "fi.close()"
   ]
  },
  {
   "cell_type": "code",
   "execution_count": 17,
   "id": "415d60fb-e61d-4715-b0bc-7e1ce8bd3977",
   "metadata": {},
   "outputs": [
    {
     "name": "stdout",
     "output_type": "stream",
     "text": [
      "rajasthan\n"
     ]
    }
   ],
   "source": [
    "fi = open(\"data.txt\",\"r+\")\n",
    "x = fi.read()\n",
    "fi.write(\"aman\")\n",
    "fi.close()\n",
    "print(x)"
   ]
  },
  {
   "cell_type": "code",
   "execution_count": 19,
   "id": "02476f36-0314-4ff2-91eb-baa4b9849902",
   "metadata": {},
   "outputs": [
    {
     "name": "stdout",
     "output_type": "stream",
     "text": [
      "asthan aman\n"
     ]
    }
   ],
   "source": [
    "fi = open(\"data.txt\",\"r+\")\n",
    "fi.write(\"$$$\")\n",
    "x = fi.read()\n",
    "fi.close()\n",
    "print(x)"
   ]
  },
  {
   "cell_type": "code",
   "execution_count": 21,
   "id": "76b4cd4f-9b69-4ab5-a85b-f3e60a68d358",
   "metadata": {},
   "outputs": [
    {
     "name": "stdout",
     "output_type": "stream",
     "text": [
      "\n"
     ]
    }
   ],
   "source": [
    "fi = open(\"data.txt\",\"w+\")\n",
    "fi.write(\"#\")\n",
    "x = fi.read()\n",
    "fi.close()\n",
    "print(x)"
   ]
  },
  {
   "cell_type": "code",
   "execution_count": 23,
   "id": "ca0ea388-cc91-4cd8-8eca-5de1cc84a8d3",
   "metadata": {},
   "outputs": [
    {
     "name": "stdout",
     "output_type": "stream",
     "text": [
      "\n"
     ]
    }
   ],
   "source": [
    "fi = open(\"data.txt\",\"w+\")\n",
    "fi.write(\"i am the srtudent of regex \")\n",
    "x = fi.read()\n",
    "fi.close()\n",
    "print(x)"
   ]
  },
  {
   "cell_type": "code",
   "execution_count": 25,
   "id": "f0aceda7-530e-461d-adb9-3a4d282e0ab5",
   "metadata": {},
   "outputs": [
    {
     "name": "stdout",
     "output_type": "stream",
     "text": [
      "i am the srtudent of regex \n"
     ]
    }
   ],
   "source": [
    "with open(\"data.txt\",\"r\") as f:\n",
    "    x = f.read()\n",
    "print(x)"
   ]
  },
  {
   "cell_type": "code",
   "execution_count": 27,
   "id": "f35ae9e3-701b-46b5-b0d4-80f0cbb56a0c",
   "metadata": {},
   "outputs": [
    {
     "name": "stdout",
     "output_type": "stream",
     "text": [
      "i am the srtudent of regex \n"
     ]
    }
   ],
   "source": [
    "with open(\"data.txt\",\"r+\") as f:\n",
    "    x=f.read()\n",
    "    f.write(\"abc\")\n",
    "print(x)"
   ]
  },
  {
   "cell_type": "code",
   "execution_count": 29,
   "id": "14699669-cd81-48df-a36d-cf9ee5e4be78",
   "metadata": {},
   "outputs": [
    {
     "name": "stdout",
     "output_type": "stream",
     "text": [
      "cur1 0\n",
      "cur2 5\n"
     ]
    }
   ],
   "source": [
    "with open(\"data.txt\",\"w+\") as f:\n",
    "    print(\"cur1\",f.tell())\n",
    "    f.write(\"hello\")\n",
    "    print(\"cur2\",f.tell())"
   ]
  },
  {
   "cell_type": "code",
   "execution_count": 33,
   "id": "4af60c1d-1a90-4a68-b9e0-87961b9f0752",
   "metadata": {},
   "outputs": [
    {
     "name": "stdout",
     "output_type": "stream",
     "text": [
      "hello\n"
     ]
    }
   ],
   "source": [
    "with open(\"data.txt\",\"r+\") as f:\n",
    "    print(f.readline())"
   ]
  },
  {
   "cell_type": "code",
   "execution_count": 37,
   "id": "8b62a63f-a243-4b33-8e0f-9e3b92bc7b86",
   "metadata": {},
   "outputs": [
    {
     "name": "stdout",
     "output_type": "stream",
     "text": [
      "hello\n"
     ]
    }
   ],
   "source": [
    "with open(\"data.txt\",\"r+\") as f:\n",
    "    x=f.read()\n",
    "    f.write(\"hardik somani\")\n",
    "print(x)"
   ]
  },
  {
   "cell_type": "code",
   "execution_count": 49,
   "id": "20589b32-680d-47f9-94ca-2f564596dc3b",
   "metadata": {},
   "outputs": [
    {
     "name": "stdout",
     "output_type": "stream",
     "text": [
      "hellohardik somanihii i am\n",
      "hardik somani\n",
      "regex\n",
      "hii i am\n",
      "hardik somani\n",
      "regex\n",
      "\n"
     ]
    }
   ],
   "source": [
    "line = [\"hii i am\\n\",\"hardik somani\\n\",\"regex\\n\"]\n",
    "with open(\"data.txt\",\"r+\") as f:\n",
    "    x=f.read()\n",
    "    f.writelines(line)\n",
    "print(x)"
   ]
  },
  {
   "cell_type": "code",
   "execution_count": 51,
   "id": "c045eadd-0423-439e-a691-c2d1421d24ed",
   "metadata": {},
   "outputs": [
    {
     "name": "stdout",
     "output_type": "stream",
     "text": [
      "['hellohardik somanihii i am\\n', 'hardik somani\\n', 'regex\\n', 'hii i am\\n', 'hardik somani\\n', 'regex\\n', 'hii i am\\n', 'hardik somani\\n', 'regex\\n']\n"
     ]
    }
   ],
   "source": [
    "with open(\"data.txt\",\"r+\") as f:\n",
    "    print(f.readlines())"
   ]
  },
  {
   "cell_type": "code",
   "execution_count": 53,
   "id": "55f35d17-49cf-48d7-bacb-ec473aa46e0f",
   "metadata": {},
   "outputs": [
    {
     "name": "stdout",
     "output_type": "stream",
     "text": [
      "['hellohardik somanihii i am']\n",
      "['hardik somani']\n",
      "['regex']\n",
      "['hii i am']\n",
      "['hardik somani']\n",
      "['regex']\n",
      "['hii i am']\n",
      "['hardik somani']\n",
      "['regex']\n"
     ]
    }
   ],
   "source": [
    "import csv\n",
    "f = open(\"data.txt\",\"r\")\n",
    "f_csv = csv.reader(f)\n",
    "for line in f_csv:\n",
    "    print(line)\n",
    "    "
   ]
  },
  {
   "cell_type": "markdown",
   "id": "47c1fcc5-047d-44ff-b48f-6a8139a34385",
   "metadata": {},
   "source": [
    "# EXCEPTION HANDLING"
   ]
  },
  {
   "cell_type": "code",
   "execution_count": 56,
   "id": "696a3170-14d1-4ef7-b8f6-6ffe534e839d",
   "metadata": {},
   "outputs": [
    {
     "name": "stdout",
     "output_type": "stream",
     "text": [
      "hello\n",
      "error handle\n"
     ]
    }
   ],
   "source": [
    "try:\n",
    "    print(\"hello\")\n",
    "    x1                      # --> error\n",
    "    print(\"hey\")\n",
    "\n",
    "except:\n",
    "    print(\"error handle\")"
   ]
  },
  {
   "cell_type": "code",
   "execution_count": 58,
   "id": "26afedbf-73f0-438e-9c58-3d95c41781b8",
   "metadata": {},
   "outputs": [
    {
     "name": "stdout",
     "output_type": "stream",
     "text": [
      "hello\n",
      "hey\n"
     ]
    }
   ],
   "source": [
    "try:\n",
    "    print(\"hello\")\n",
    "    x1  = 10                 \n",
    "    print(\"hey\")\n",
    "\n",
    "except:\n",
    "    print(\"error handle\")"
   ]
  },
  {
   "cell_type": "code",
   "execution_count": 62,
   "id": "fb0d2c68-22ec-44ac-b600-093147ea709d",
   "metadata": {},
   "outputs": [
    {
     "name": "stdout",
     "output_type": "stream",
     "text": [
      "hello\n",
      "error handle => division by zero\n"
     ]
    }
   ],
   "source": [
    "try:\n",
    "    print(\"hello\")\n",
    "    x1  = 10  \n",
    "    10/0                   # --> arithmetic error \n",
    "    print(\"hey\")\n",
    "\n",
    "except ZeroDivisionError  as e:\n",
    "    print(\"error handle =>\",e)"
   ]
  },
  {
   "cell_type": "code",
   "execution_count": 68,
   "id": "93f0cf9d-a1cf-49bc-bd18-32b3365c5988",
   "metadata": {},
   "outputs": [
    {
     "name": "stdout",
     "output_type": "stream",
     "text": [
      "hello\n",
      "name error handle => name 'x2' is not defined\n"
     ]
    }
   ],
   "source": [
    "try:\n",
    "    print(\"hello\")\n",
    "    x1  = 10  \n",
    "    x2/0                  \n",
    "    print(\"hey\")\n",
    "\n",
    "except ZeroDivisionError  as e:\n",
    "    print(\"error handle =>\",e)\n",
    "\n",
    "except NameError as a:\n",
    "    print(\"name error handle =>\",a)"
   ]
  },
  {
   "cell_type": "code",
   "execution_count": null,
   "id": "a6c73e98-e014-40a6-bcf0-f597ee26ee54",
   "metadata": {},
   "outputs": [],
   "source": []
  }
 ],
 "metadata": {
  "kernelspec": {
   "display_name": "Python 3 (ipykernel)",
   "language": "python",
   "name": "python3"
  },
  "language_info": {
   "codemirror_mode": {
    "name": "ipython",
    "version": 3
   },
   "file_extension": ".py",
   "mimetype": "text/x-python",
   "name": "python",
   "nbconvert_exporter": "python",
   "pygments_lexer": "ipython3",
   "version": "3.12.4"
  }
 },
 "nbformat": 4,
 "nbformat_minor": 5
}
