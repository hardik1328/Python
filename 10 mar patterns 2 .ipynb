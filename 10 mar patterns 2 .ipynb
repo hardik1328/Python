{
 "cells": [
  {
   "cell_type": "markdown",
   "id": "004aa3aa-ccc7-4ca5-be6d-b5b54b5c0189",
   "metadata": {},
   "source": [
    "# pyramid pattern"
   ]
  },
  {
   "cell_type": "code",
   "execution_count": 46,
   "id": "243b2752-1870-4512-a047-cc47db5d5481",
   "metadata": {},
   "outputs": [
    {
     "name": "stdout",
     "output_type": "stream",
     "text": [
      "---* \n",
      "--* * \n",
      "-* * * \n",
      "* * * * \n"
     ]
    }
   ],
   "source": [
    "for i in range(1,5):\n",
    "    for j in range(i,4):\n",
    "        print(\"-\",end = '')\n",
    "    for k in range(1,i+1):\n",
    "        print(\"*\",end = ' ')\n",
    "    print()"
   ]
  },
  {
   "cell_type": "code",
   "execution_count": 80,
   "id": "7a4ccdf6-f56f-4d55-ad38-09108e894d06",
   "metadata": {},
   "outputs": [
    {
     "name": "stdout",
     "output_type": "stream",
     "text": [
      "* * * * \n",
      " * * * \n",
      "  * * \n",
      "   * \n"
     ]
    }
   ],
   "source": [
    "for i in range(5,1,-1):\n",
    "    for j in range(i,5):\n",
    "        print(\" \",end = '')\n",
    "    for k in range(1,i):\n",
    "        print(\"*\",end = ' ')\n",
    "    print()"
   ]
  },
  {
   "cell_type": "code",
   "execution_count": 86,
   "id": "5b3baf3b-d6e9-451a-b034-bcaad2f8d0da",
   "metadata": {},
   "outputs": [
    {
     "name": "stdout",
     "output_type": "stream",
     "text": [
      "* * * * \n",
      "-* * * \n",
      "--* * \n",
      "---* \n"
     ]
    }
   ],
   "source": [
    "for i in range(1,5):\n",
    "    for j in range(1,i):\n",
    "        print(\"-\",end = '')\n",
    "    for k in range(i,5):\n",
    "        print(\"*\",end = ' ')\n",
    "    print()"
   ]
  },
  {
   "cell_type": "code",
   "execution_count": 94,
   "id": "cea7d4fe-aaf2-4c27-85fd-bef086329c9d",
   "metadata": {},
   "outputs": [
    {
     "name": "stdout",
     "output_type": "stream",
     "text": [
      "    1 \n",
      "   2 2 \n",
      "  3 3 3 \n",
      " 4 4 4 4 \n",
      "5 5 5 5 5 \n"
     ]
    }
   ],
   "source": [
    "for i in range(1,6):\n",
    "    for j in range(i,5):\n",
    "        print(\" \",end = '')\n",
    "    for k in range(1,i+1):\n",
    "        print(i,end = ' ')\n",
    "    print()"
   ]
  },
  {
   "cell_type": "code",
   "execution_count": 96,
   "id": "92526aee-51de-4c56-bc77-cc0153f23c3f",
   "metadata": {},
   "outputs": [
    {
     "name": "stdout",
     "output_type": "stream",
     "text": [
      "---3 \n",
      "--3 3 \n",
      "-3 3 3 \n",
      "3 3 3 3 \n"
     ]
    }
   ],
   "source": [
    "for i in range(1,5):\n",
    "    for j in range(i,4):\n",
    "        print(\"-\",end = '')\n",
    "    for k in range(1,i+1):\n",
    "        print(j,end = ' ')\n",
    "    print()"
   ]
  },
  {
   "cell_type": "code",
   "execution_count": 122,
   "id": "3ecafb99-4093-4a50-9cab-36060ef7508b",
   "metadata": {},
   "outputs": [
    {
     "name": "stdout",
     "output_type": "stream",
     "text": [
      "---*\n",
      "--***\n",
      "-*****\n",
      "*******\n"
     ]
    }
   ],
   "source": [
    "c = 1\n",
    "for i in range(1,5):                      # 1 methood \n",
    "    for j in range(i,4):\n",
    "        print(\"-\",end = '')\n",
    "    for k in range(1,c+1):\n",
    "        print(\"*\",end = '')\n",
    "    c+=2\n",
    "    print()"
   ]
  },
  {
   "cell_type": "code",
   "execution_count": 136,
   "id": "c6f8ea12-6150-47f0-a300-12190e95eada",
   "metadata": {},
   "outputs": [
    {
     "name": "stdout",
     "output_type": "stream",
     "text": [
      "----*\n",
      "---***\n",
      "--*****\n",
      "-*******\n",
      "*********\n"
     ]
    }
   ],
   "source": [
    "\n",
    "for i in range(1,6):                   #2 method\n",
    "    for j in range(i,5):\n",
    "        print(\"-\",end = '')\n",
    "    for k in range(1,2*i):\n",
    "        print(\"*\",end = '')\n",
    "   \n",
    "    print()"
   ]
  },
  {
   "cell_type": "code",
   "execution_count": 178,
   "id": "40314067-2423-43eb-9b07-4636a19fcb8b",
   "metadata": {},
   "outputs": [
    {
     "name": "stdout",
     "output_type": "stream",
     "text": [
      "* * * * * \n",
      "- * * * \n",
      "- - * \n"
     ]
    }
   ],
   "source": [
    "\n",
    "for i in range(3,0,-1):                  \n",
    "    for j in range(i,3):\n",
    "        print(\"-\",end = ' ')\n",
    "    for k in range(1,2*i):\n",
    "        print(\"*\",end = ' ')\n",
    "    \n",
    "    print()"
   ]
  },
  {
   "cell_type": "code",
   "execution_count": 242,
   "id": "9835858f-cb35-4f18-833d-68e2b7b11011",
   "metadata": {},
   "outputs": [
    {
     "name": "stdout",
     "output_type": "stream",
     "text": [
      "* * * * * * * \n",
      "- * * * * * \n",
      "- - * * * \n",
      "- - - * \n"
     ]
    }
   ],
   "source": [
    "c = 1\n",
    "for i in range(4,0,-1):                       \n",
    "    for j in range(i,4):\n",
    "        print(\"-\",end = ' ')\n",
    "    for k in range(1,2*i):\n",
    "        print(\"*\",end = ' ')\n",
    "    c-=2\n",
    "    print()"
   ]
  },
  {
   "cell_type": "markdown",
   "id": "c2fc3dce-5a35-41aa-8a13-77c47d05052a",
   "metadata": {},
   "source": [
    "# Hollow patterns"
   ]
  },
  {
   "cell_type": "code",
   "execution_count": 49,
   "id": "eb74d999-4227-4e3e-845d-286b3c34f226",
   "metadata": {},
   "outputs": [
    {
     "name": "stdout",
     "output_type": "stream",
     "text": [
      "* \n",
      "* * \n",
      "*   * \n",
      "* * * * \n"
     ]
    }
   ],
   "source": [
    "num = 5\n",
    "for i in range(1,5):\n",
    "    for j in range(1,i+1):\n",
    "        if j==1 or j==5 or i==j or i==num-1:\n",
    "            print(\"*\",end = ' ')\n",
    "        else:\n",
    "            print(\" \",end = ' ')\n",
    "    print()"
   ]
  },
  {
   "cell_type": "code",
   "execution_count": 65,
   "id": "364dd4ce-c97d-4403-b371-456397a23a5c",
   "metadata": {},
   "outputs": [
    {
     "name": "stdout",
     "output_type": "stream",
     "text": [
      "* * * * * \n",
      "*     * \n",
      "*   * \n",
      "* * \n",
      "* \n"
     ]
    }
   ],
   "source": [
    "num = 5\n",
    "for i in range(5,0,-1):\n",
    "    for j in range(1,i+1):\n",
    "        if i==1 or i==5 or i==j or j==1:\n",
    "            print(\"*\",end = ' ')\n",
    "        else:\n",
    "            print(\" \",end = ' ')\n",
    "    print()"
   ]
  },
  {
   "cell_type": "code",
   "execution_count": 87,
   "id": "87491185-b8ce-43d1-ab0f-0b929d1ed35b",
   "metadata": {},
   "outputs": [
    {
     "name": "stdout",
     "output_type": "stream",
     "text": [
      "5 5 5 5 5 \n",
      "4     4 \n",
      "3   3 \n",
      "2 2 \n",
      "1 \n"
     ]
    }
   ],
   "source": [
    "num = 5\n",
    "for i in range(5,0,-1):\n",
    "    for j in range(1,i+1):\n",
    "        if i==1 or i==5 or i==j or j==1:\n",
    "            print(i,end = ' ')\n",
    "        else:\n",
    "            print(\" \",end = ' ')\n",
    "    print()"
   ]
  },
  {
   "cell_type": "code",
   "execution_count": 69,
   "id": "76848b24-565a-4ce3-9fbf-329c66c69bdb",
   "metadata": {},
   "outputs": [
    {
     "name": "stdout",
     "output_type": "stream",
     "text": [
      "1 2 3 4 5 \n",
      "1     4 \n",
      "1   3 \n",
      "1 2 \n",
      "1 \n"
     ]
    }
   ],
   "source": [
    "num = 5\n",
    "for i in range(5,0,-1):\n",
    "    for j in range(1,i+1):\n",
    "        if i==1 or i==5 or i==j or j==1:\n",
    "            print(j,end = ' ')\n",
    "        else:\n",
    "            print(\" \",end = ' ')\n",
    "    print()"
   ]
  },
  {
   "cell_type": "code",
   "execution_count": 75,
   "id": "de6497d3-a636-4df4-91d0-3b2ae232ca44",
   "metadata": {},
   "outputs": [
    {
     "name": "stdout",
     "output_type": "stream",
     "text": [
      "        * \n",
      "      * * \n",
      "    *   * \n",
      "  *     * \n",
      "* * * * * \n"
     ]
    }
   ],
   "source": [
    "num = 5\n",
    "for i in range(5,0,-1):\n",
    "    for j in range(1,num+1):\n",
    "        if i==1 or  j==i or j==num:\n",
    "            print(\"*\",end = ' ')\n",
    "        else:\n",
    "            print(\" \",end = ' ')\n",
    "    print()"
   ]
  },
  {
   "cell_type": "code",
   "execution_count": 79,
   "id": "7d9f6c70-7836-4971-8868-f13e2daa9b5e",
   "metadata": {},
   "outputs": [
    {
     "name": "stdout",
     "output_type": "stream",
     "text": [
      "* * * * * \n",
      "  *     * \n",
      "    *   * \n",
      "      * * \n",
      "        * \n"
     ]
    }
   ],
   "source": [
    "num = 5\n",
    "for i in range(1,num+1):\n",
    "    for j in range(1,num+1):\n",
    "        if i==1 or  j==i or j==num:\n",
    "            print(\"*\",end = ' ')\n",
    "        else:\n",
    "            print(\" \",end = ' ')\n",
    "    print()"
   ]
  },
  {
   "cell_type": "code",
   "execution_count": 83,
   "id": "c70e5b0e-8743-45be-a39b-314ca825c52f",
   "metadata": {},
   "outputs": [
    {
     "name": "stdout",
     "output_type": "stream",
     "text": [
      "* * * * * \n",
      "*       * \n",
      "*       * \n",
      "*       * \n",
      "* * * * * \n"
     ]
    }
   ],
   "source": [
    "num = 5\n",
    "for i in range(1,num+1):\n",
    "    for j in range(1,num+1):\n",
    "        if i==1 or  j==1 or j==num or i==num:\n",
    "            print(\"*\",end = ' ')\n",
    "        else:\n",
    "            print(\" \",end = ' ')\n",
    "    print()"
   ]
  },
  {
   "cell_type": "code",
   "execution_count": 95,
   "id": "df8786f4-f63a-4ad4-92f4-bd1d957f18a0",
   "metadata": {},
   "outputs": [
    {
     "name": "stdout",
     "output_type": "stream",
     "text": [
      "1 2 3 4 5 \n",
      "  2     \n",
      "    3 \n",
      "    \n",
      "  \n"
     ]
    }
   ],
   "source": [
    "num = 5\n",
    "for i in range(1,num+1):\n",
    "    for j in range(1,num+2-i):\n",
    "        if i==1 or j==num or i==j:\n",
    "            print(j,end = ' ')\n",
    "        else:\n",
    "            print(\" \",end = ' ')\n",
    "    print()"
   ]
  },
  {
   "cell_type": "code",
   "execution_count": null,
   "id": "3cf21d7c-9ec0-4223-bc79-1ec378d36511",
   "metadata": {},
   "outputs": [],
   "source": []
  }
 ],
 "metadata": {
  "kernelspec": {
   "display_name": "Python 3 (ipykernel)",
   "language": "python",
   "name": "python3"
  },
  "language_info": {
   "codemirror_mode": {
    "name": "ipython",
    "version": 3
   },
   "file_extension": ".py",
   "mimetype": "text/x-python",
   "name": "python",
   "nbconvert_exporter": "python",
   "pygments_lexer": "ipython3",
   "version": "3.12.4"
  }
 },
 "nbformat": 4,
 "nbformat_minor": 5
}
