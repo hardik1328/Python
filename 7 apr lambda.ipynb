{
 "cells": [
  {
   "cell_type": "markdown",
   "id": "6c003226-b11b-4f03-91cc-205aa3a3a8c0",
   "metadata": {},
   "source": [
    "# Lambda functions"
   ]
  },
  {
   "cell_type": "code",
   "execution_count": 2,
   "id": "afb7aee9-a852-47b9-9281-03200b9d74ed",
   "metadata": {},
   "outputs": [],
   "source": [
    "# one line function\n",
    "# inline function\n",
    "# anonymous fucntion\n",
    "# high order fucntion me use\n",
    "# map and filter are high order funtion"
   ]
  },
  {
   "cell_type": "code",
   "execution_count": 4,
   "id": "e5aae682-2a10-4747-8a12-6768c0215b2f",
   "metadata": {},
   "outputs": [],
   "source": [
    "def func(x):\n",
    "    return \"hey\""
   ]
  },
  {
   "cell_type": "code",
   "execution_count": 6,
   "id": "73a5af6b-0ae9-4a5f-8a5d-8f430b7ff245",
   "metadata": {},
   "outputs": [
    {
     "name": "stdout",
     "output_type": "stream",
     "text": [
      "<function func at 0x00000253CCA33880>\n"
     ]
    }
   ],
   "source": [
    "print(func)"
   ]
  },
  {
   "cell_type": "code",
   "execution_count": 8,
   "id": "a2327dbe-3147-4b97-a99f-9f235594c419",
   "metadata": {},
   "outputs": [
    {
     "data": {
      "text/plain": [
       "<function __main__.<lambda>(x)>"
      ]
     },
     "execution_count": 8,
     "metadata": {},
     "output_type": "execute_result"
    }
   ],
   "source": [
    "lambda x : \"hey\""
   ]
  },
  {
   "cell_type": "code",
   "execution_count": 10,
   "id": "88bdc97d-27d4-4791-a86e-c7464b2658a6",
   "metadata": {},
   "outputs": [
    {
     "data": {
      "text/plain": [
       "'hey'"
      ]
     },
     "execution_count": 10,
     "metadata": {},
     "output_type": "execute_result"
    }
   ],
   "source": [
    "out = lambda x : \"hey\"          # x => parameter\n",
    "out(10)"
   ]
  },
  {
   "cell_type": "markdown",
   "id": "6597decb-3ac8-457c-babe-4bca1fb7c706",
   "metadata": {},
   "source": [
    "# map()"
   ]
  },
  {
   "cell_type": "code",
   "execution_count": 13,
   "id": "d899baf9-a2c1-4e3a-a85e-0506d3719506",
   "metadata": {},
   "outputs": [],
   "source": [
    "# according to user it generate the function\n",
    "# range is also a iterable"
   ]
  },
  {
   "cell_type": "code",
   "execution_count": 15,
   "id": "7b057ab6-ea33-4008-824e-8afdcdcbfc0c",
   "metadata": {},
   "outputs": [],
   "source": [
    "def square(x):\n",
    "    return x**2"
   ]
  },
  {
   "cell_type": "code",
   "execution_count": 17,
   "id": "924a6876-045f-416d-8f5e-7a87855f73d8",
   "metadata": {},
   "outputs": [
    {
     "data": {
      "text/plain": [
       "25"
      ]
     },
     "execution_count": 17,
     "metadata": {},
     "output_type": "execute_result"
    }
   ],
   "source": [
    "y = map(square,[5,7,8])\n",
    "next(y)                      # next() --> this is a function"
   ]
  },
  {
   "cell_type": "code",
   "execution_count": 19,
   "id": "720f97bf-a778-4821-a066-de0db18647b2",
   "metadata": {},
   "outputs": [
    {
     "data": {
      "text/plain": [
       "49"
      ]
     },
     "execution_count": 19,
     "metadata": {},
     "output_type": "execute_result"
    }
   ],
   "source": [
    "next(y)"
   ]
  },
  {
   "cell_type": "code",
   "execution_count": 21,
   "id": "2594299a-b3f5-4ca5-8659-e910aa87abfc",
   "metadata": {},
   "outputs": [
    {
     "data": {
      "text/plain": [
       "64"
      ]
     },
     "execution_count": 21,
     "metadata": {},
     "output_type": "execute_result"
    }
   ],
   "source": [
    "next(y)"
   ]
  },
  {
   "cell_type": "code",
   "execution_count": 23,
   "id": "bcbbc2fa-315d-406b-9e19-3c7e6d317d34",
   "metadata": {},
   "outputs": [
    {
     "ename": "StopIteration",
     "evalue": "",
     "output_type": "error",
     "traceback": [
      "\u001b[1;31m---------------------------------------------------------------------------\u001b[0m",
      "\u001b[1;31mStopIteration\u001b[0m                             Traceback (most recent call last)",
      "Cell \u001b[1;32mIn[23], line 1\u001b[0m\n\u001b[1;32m----> 1\u001b[0m \u001b[38;5;28mnext\u001b[39m(y)\n",
      "\u001b[1;31mStopIteration\u001b[0m: "
     ]
    }
   ],
   "source": [
    "next(y)"
   ]
  },
  {
   "cell_type": "code",
   "execution_count": 33,
   "id": "18a42893-599a-4e16-bfd6-83ab3ec99828",
   "metadata": {},
   "outputs": [
    {
     "data": {
      "text/plain": [
       "25"
      ]
     },
     "execution_count": 33,
     "metadata": {},
     "output_type": "execute_result"
    }
   ],
   "source": [
    "y = map(lambda x :x**2,(5,7,8))\n",
    "next(y)\n"
   ]
  },
  {
   "cell_type": "code",
   "execution_count": 37,
   "id": "492cc6bb-fb46-4009-ad3c-7e4382f79762",
   "metadata": {},
   "outputs": [
    {
     "data": {
      "text/plain": [
       "[25, 49, 64]"
      ]
     },
     "execution_count": 37,
     "metadata": {},
     "output_type": "execute_result"
    }
   ],
   "source": [
    "list( map(lambda x :x**2,(5,7,8)))"
   ]
  },
  {
   "cell_type": "code",
   "execution_count": 39,
   "id": "7290b479-cf88-4360-8f51-90db53772887",
   "metadata": {},
   "outputs": [
    {
     "data": {
      "text/plain": [
       "(25, 49, 64)"
      ]
     },
     "execution_count": 39,
     "metadata": {},
     "output_type": "execute_result"
    }
   ],
   "source": [
    "tuple( map(lambda x :x**2,(5,7,8)))"
   ]
  },
  {
   "cell_type": "code",
   "execution_count": 51,
   "id": "3d9745e2-21bd-49d9-bc6d-66968325f83e",
   "metadata": {},
   "outputs": [
    {
     "name": "stdout",
     "output_type": "stream",
     "text": [
      "{5: 25, 7: 49, 8: 64}\n"
     ]
    }
   ],
   "source": [
    "result = dict(map(lambda x: (x, x**2), (5, 7, 8)))\n",
    "print(result)  \n"
   ]
  },
  {
   "cell_type": "code",
   "execution_count": 67,
   "id": "b5b38e93-90cc-43a5-86f2-4964c4054da5",
   "metadata": {},
   "outputs": [
    {
     "name": "stdout",
     "output_type": "stream",
     "text": [
      "[(5, 25), (7, 49), (8, 64)]\n"
     ]
    }
   ],
   "source": [
    "result = str(list(map(lambda x: (x, x**2), (5, 7, 8))))\n",
    "print(result)\n"
   ]
  },
  {
   "cell_type": "code",
   "execution_count": 55,
   "id": "da56d730-d5cb-4911-a7aa-d755a2c51319",
   "metadata": {},
   "outputs": [
    {
     "data": {
      "text/plain": [
       "[False, False, True]"
      ]
     },
     "execution_count": 55,
     "metadata": {},
     "output_type": "execute_result"
    }
   ],
   "source": [
    "list( map(lambda x :x%2==0,(5,7,8)))"
   ]
  },
  {
   "cell_type": "code",
   "execution_count": 59,
   "id": "dfc8dc0a-e225-422b-8108-67f68d1003ef",
   "metadata": {},
   "outputs": [
    {
     "data": {
      "text/plain": [
       "[8]"
      ]
     },
     "execution_count": 59,
     "metadata": {},
     "output_type": "execute_result"
    }
   ],
   "source": [
    "list( filter(lambda x :x%2==0,(5,7,8)))     # filter() only gives you the value which is true"
   ]
  },
  {
   "cell_type": "markdown",
   "id": "261e7be6-458e-4e50-8c96-038287ca32bf",
   "metadata": {},
   "source": [
    "# file handling"
   ]
  },
  {
   "cell_type": "code",
   "execution_count": 72,
   "id": "d7b1508d-d4b5-4b91-9001-779ac282181a",
   "metadata": {},
   "outputs": [],
   "source": [
    "# File handling is how Python reads from and writes to files stored on your system — like .txt, .csv, .json, etc.\n",
    "\n",
    "# It lets you:\n",
    "\n",
    "# Read data from files\n",
    "\n",
    "#  Write or append data to files\n",
    "\n",
    "# Manipulate files (like renaming, deleting, checking existence)"
   ]
  },
  {
   "cell_type": "code",
   "execution_count": null,
   "id": "555bff6e-6787-4e07-9b0c-7e8ed8282c75",
   "metadata": {},
   "outputs": [],
   "source": []
  }
 ],
 "metadata": {
  "kernelspec": {
   "display_name": "Python 3 (ipykernel)",
   "language": "python",
   "name": "python3"
  },
  "language_info": {
   "codemirror_mode": {
    "name": "ipython",
    "version": 3
   },
   "file_extension": ".py",
   "mimetype": "text/x-python",
   "name": "python",
   "nbconvert_exporter": "python",
   "pygments_lexer": "ipython3",
   "version": "3.12.4"
  }
 },
 "nbformat": 4,
 "nbformat_minor": 5
}
