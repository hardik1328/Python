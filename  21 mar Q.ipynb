{
 "cells": [
  {
   "cell_type": "code",
   "execution_count": 13,
   "id": "63dbe601-eb93-4c9a-948f-f24c0fa71ed3",
   "metadata": {},
   "outputs": [
    {
     "data": {
      "text/plain": [
       "[1, 4, 5, 10, 20, 30, 204]"
      ]
     },
     "execution_count": 13,
     "metadata": {},
     "output_type": "execute_result"
    }
   ],
   "source": [
    "ls = [10,20,30,1,204,4,5,]\n",
    "sorted(ls)\n",
    "\n"
   ]
  },
  {
   "cell_type": "code",
   "execution_count": 55,
   "id": "0f007b36-a9eb-4c5d-ac2c-2526f8b19fa8",
   "metadata": {},
   "outputs": [
    {
     "name": "stdout",
     "output_type": "stream",
     "text": [
      "max 20\n",
      "min 2\n",
      "[2, 8, 10, 20]\n",
      "second last highest: 10\n"
     ]
    }
   ],
   "source": [
    "ls = [10,20,8,2]\n",
    "max_value = ls [0]\n",
    "min_value = ls [0]\n",
    "temp = 0\n",
    "smax = 0\n",
    "max1 = 0\n",
    "for i in range(0,len(ls)):\n",
    "\n",
    "    if (ls[i]>max_value):\n",
    "        max_value = ls[i]\n",
    "        \n",
    "        \n",
    "\n",
    "\n",
    "    if(min_value>ls[i]):\n",
    "        min_value = ls[i]\n",
    "print(\"max\",max_value)\n",
    "print(\"min\",min_value)\n",
    "for i in range (0,len(ls)):\n",
    "    for j in range (i+1,len(ls)):\n",
    "        if (ls[i] > ls[j]):\n",
    "            temp = ls[i]\n",
    "            ls[i] = ls[j]\n",
    "            ls[j] = temp\n",
    "print(ls)\n",
    "#a = ls[-2]\n",
    "#print(\"second max\",a)\n",
    "\n",
    "\n",
    "for i in range (0,len(ls)) :\n",
    "    if (ls[i] > max1 ):\n",
    "        smax = max1\n",
    "        max1 = ls[i]\n",
    "    elif(ls[i]> smax and ls[i] != max1):\n",
    "        smax = ls[i]\n",
    "\n",
    "print(\"second last highest:\",smax)"
   ]
  },
  {
   "cell_type": "code",
   "execution_count": null,
   "id": "2dce1ae7-6fc6-448e-8d87-dddc20921ca0",
   "metadata": {},
   "outputs": [],
   "source": []
  }
 ],
 "metadata": {
  "kernelspec": {
   "display_name": "Python 3 (ipykernel)",
   "language": "python",
   "name": "python3"
  },
  "language_info": {
   "codemirror_mode": {
    "name": "ipython",
    "version": 3
   },
   "file_extension": ".py",
   "mimetype": "text/x-python",
   "name": "python",
   "nbconvert_exporter": "python",
   "pygments_lexer": "ipython3",
   "version": "3.12.4"
  }
 },
 "nbformat": 4,
 "nbformat_minor": 5
}
