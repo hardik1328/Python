{
 "cells": [
  {
   "cell_type": "markdown",
   "id": "bd812c33-5023-4729-b26a-d47c5a9d2ae4",
   "metadata": {},
   "source": [
    "# nested loop"
   ]
  },
  {
   "cell_type": "code",
   "execution_count": 4,
   "id": "72b62e5e-56dd-48f5-bf9c-c581a73f41a4",
   "metadata": {},
   "outputs": [
    {
     "name": "stdout",
     "output_type": "stream",
     "text": [
      "student 1\n",
      "hey\n",
      "student 2\n",
      "hey\n",
      "student 3\n",
      "hey\n",
      "student 4\n",
      "hey\n"
     ]
    }
   ],
   "source": [
    "for i in range(1,5):\n",
    "    print(\"student\",i)\n",
    "    print(\"hey\")"
   ]
  },
  {
   "cell_type": "code",
   "execution_count": 8,
   "id": "3e055208-3fe7-4a35-aeff-d6a5532a9329",
   "metadata": {},
   "outputs": [
    {
     "name": "stdout",
     "output_type": "stream",
     "text": [
      "student 1\n",
      "subject marks  => 1\n",
      "subject marks  => 2\n",
      "subject marks  => 3\n",
      "subject marks  => 4\n",
      "student 2\n",
      "subject marks  => 1\n",
      "subject marks  => 2\n",
      "subject marks  => 3\n",
      "subject marks  => 4\n",
      "student 3\n",
      "subject marks  => 1\n",
      "subject marks  => 2\n",
      "subject marks  => 3\n",
      "subject marks  => 4\n",
      "student 4\n",
      "subject marks  => 1\n",
      "subject marks  => 2\n",
      "subject marks  => 3\n",
      "subject marks  => 4\n"
     ]
    }
   ],
   "source": [
    "for  i in range(1,5):\n",
    "    print(\"student\",i)\n",
    "\n",
    "    for marks in range(1,5):\n",
    "        print(\"subject marks  =>\",marks)"
   ]
  },
  {
   "cell_type": "code",
   "execution_count": 10,
   "id": "5df6ccde-d7be-4df9-99c9-02ab70154282",
   "metadata": {},
   "outputs": [
    {
     "name": "stdout",
     "output_type": "stream",
     "text": [
      "student 5\n",
      "subject marks  => 1\n",
      "subject marks  => 2\n",
      "subject marks  => 3\n",
      "subject marks  => 4\n",
      "student 4\n",
      "subject marks  => 1\n",
      "subject marks  => 2\n",
      "subject marks  => 3\n",
      "subject marks  => 4\n",
      "student 3\n",
      "subject marks  => 1\n",
      "subject marks  => 2\n",
      "subject marks  => 3\n",
      "subject marks  => 4\n",
      "student 2\n",
      "subject marks  => 1\n",
      "subject marks  => 2\n",
      "subject marks  => 3\n",
      "subject marks  => 4\n"
     ]
    }
   ],
   "source": [
    "for  i in range(5,1,-1):\n",
    "    print(\"student\",i)\n",
    "\n",
    "    for marks in range(1,5):\n",
    "        print(\"subject marks  =>\",marks)"
   ]
  },
  {
   "cell_type": "code",
   "execution_count": 20,
   "id": "4ccb56d5-4f61-4241-b25a-cfaa1b5631cc",
   "metadata": {},
   "outputs": [
    {
     "name": "stdout",
     "output_type": "stream",
     "text": [
      "student 1\n",
      "subject marks  => 5\n",
      "subject marks  => 4\n",
      "subject marks  => 3\n",
      "subject marks  => 2\n",
      "subject marks  => 1\n",
      "student 2\n",
      "subject marks  => 5\n",
      "subject marks  => 4\n",
      "subject marks  => 3\n",
      "subject marks  => 2\n",
      "subject marks  => 1\n",
      "student 3\n",
      "subject marks  => 5\n",
      "subject marks  => 4\n",
      "subject marks  => 3\n",
      "subject marks  => 2\n",
      "subject marks  => 1\n",
      "student 4\n",
      "subject marks  => 5\n",
      "subject marks  => 4\n",
      "subject marks  => 3\n",
      "subject marks  => 2\n",
      "subject marks  => 1\n"
     ]
    }
   ],
   "source": [
    "for  i in range(1,5):\n",
    "    print(\"student\",i)\n",
    "\n",
    "    for marks in range(5,0,-1):\n",
    "        print(\"subject marks  =>\",marks)"
   ]
  },
  {
   "cell_type": "code",
   "execution_count": 32,
   "id": "cf05714c-b7f8-4b4d-8b92-ff58392e8653",
   "metadata": {},
   "outputs": [
    {
     "name": "stdout",
     "output_type": "stream",
     "text": [
      "student 1\n",
      "subject marks  => 1\n",
      "student 2\n",
      "subject marks  => 1\n",
      "subject marks  => 2\n",
      "student 3\n",
      "subject marks  => 1\n",
      "subject marks  => 2\n",
      "subject marks  => 3\n",
      "student 4\n",
      "subject marks  => 1\n",
      "subject marks  => 2\n",
      "subject marks  => 3\n",
      "subject marks  => 4\n"
     ]
    }
   ],
   "source": [
    "for  i in range(1,5):\n",
    "    print(\"student\",i)\n",
    "\n",
    "    for marks in range(1,i+1):\n",
    "        print(\"subject marks  =>\",marks)"
   ]
  },
  {
   "cell_type": "code",
   "execution_count": 82,
   "id": "5cd70f37-fad0-4c96-87ff-7cda07b20b25",
   "metadata": {},
   "outputs": [
    {
     "name": "stdout",
     "output_type": "stream",
     "text": [
      "student 4\n",
      "subject marks  => 4\n",
      "student 3\n",
      "subject marks  => 3\n",
      "subject marks  => 4\n",
      "student 2\n",
      "subject marks  => 2\n",
      "subject marks  => 3\n",
      "subject marks  => 4\n"
     ]
    }
   ],
   "source": [
    "for  i in range(4,1,-1):\n",
    "    print(\"student\",i)\n",
    "\n",
    "    for marks in range(i,5):\n",
    "        print(\"subject marks  =>\",marks)"
   ]
  },
  {
   "cell_type": "code",
   "execution_count": 90,
   "id": "21161e8b-d67b-4d0e-bd7f-1642cc1c7ed3",
   "metadata": {},
   "outputs": [
    {
     "name": "stdout",
     "output_type": "stream",
     "text": [
      "student 1\n",
      "subject marks  => 1\n",
      "-----------tea time-------\n",
      "student 2\n",
      "subject marks  => 1\n",
      "subject marks  => 2\n",
      "-----------tea time-------\n",
      "student 3\n",
      "subject marks  => 1\n",
      "subject marks  => 2\n",
      "subject marks  => 3\n",
      "-----------tea time-------\n",
      "student 4\n",
      "subject marks  => 1\n",
      "subject marks  => 2\n",
      "subject marks  => 3\n",
      "subject marks  => 4\n",
      "-----------tea time-------\n"
     ]
    }
   ],
   "source": [
    "for  i in range(1,5):\n",
    "    print(\"student\",i)\n",
    "\n",
    "    for marks in range(1,i+1):\n",
    "        print(\"subject marks  =>\",marks)\n",
    "    print(\"-----------tea time-------\")"
   ]
  },
  {
   "cell_type": "code",
   "execution_count": 119,
   "id": "fddd2473-e348-4a74-b168-5b184bc1f936",
   "metadata": {},
   "outputs": [
    {
     "name": "stdout",
     "output_type": "stream",
     "text": [
      "20 18 16 14 12 10 8 6 4 2 \n",
      "30 27 24 21 18 15 12 9 6 3 \n",
      "40 36 32 28 24 20 16 12 8 4 \n",
      "50 45 40 35 30 25 20 15 10 5 \n",
      "60 54 48 42 36 30 24 18 12 6 \n",
      "70 63 56 49 42 35 28 21 14 7 \n"
     ]
    }
   ],
   "source": [
    "\n",
    "for i in range(2,8):\n",
    "    for subject in range(10,0,-1):\n",
    "        print(i*subject,end = \" \")\n",
    "    print()\n",
    "\n",
    "   \n",
    "\n",
    "    "
   ]
  },
  {
   "cell_type": "markdown",
   "id": "b3202922-5c7c-4f95-9333-152968266b41",
   "metadata": {},
   "source": [
    "# patterns"
   ]
  },
  {
   "cell_type": "code",
   "execution_count": 159,
   "id": "c7b66c8b-ea43-4324-91c3-be7153565d93",
   "metadata": {},
   "outputs": [
    {
     "name": "stdout",
     "output_type": "stream",
     "text": [
      "*****\n",
      "*****\n",
      "*****\n",
      "*****\n",
      "*****\n"
     ]
    }
   ],
   "source": [
    "for i in range(1,6):\n",
    "    \n",
    "    for j in range(1,6):\n",
    "        print(\"*\",end = \"\")\n",
    "    print(\"\")"
   ]
  },
  {
   "cell_type": "code",
   "execution_count": 163,
   "id": "32dce1db-d31e-478d-bfa5-942215a3db7c",
   "metadata": {},
   "outputs": [
    {
     "name": "stdout",
     "output_type": "stream",
     "text": [
      "111\n",
      "222\n",
      "333\n"
     ]
    }
   ],
   "source": [
    "for i in range(1,4):\n",
    "    \n",
    "    for j in range(1,4):\n",
    "        print(i,end = \"\")\n",
    "    print(\"\")"
   ]
  },
  {
   "cell_type": "code",
   "execution_count": 171,
   "id": "1319e996-60c7-4854-b7ad-fb48c701658b",
   "metadata": {},
   "outputs": [
    {
     "name": "stdout",
     "output_type": "stream",
     "text": [
      "2222\n",
      "3333\n",
      "4444\n"
     ]
    }
   ],
   "source": [
    "for i in range(2,5):\n",
    "    \n",
    "    for j in range(1,5):\n",
    "        print(i,end = \"\")\n",
    "    print(\"\")"
   ]
  },
  {
   "cell_type": "code",
   "execution_count": 177,
   "id": "45873cc6-780e-4fe0-9fe1-63702945452e",
   "metadata": {},
   "outputs": [
    {
     "name": "stdout",
     "output_type": "stream",
     "text": [
      "1234\n",
      "1234\n",
      "1234\n"
     ]
    }
   ],
   "source": [
    "for i in range(2,5):\n",
    "    \n",
    "    for j in range(1,5):\n",
    "        print(j,end = \"\")\n",
    "    print(\"\")"
   ]
  },
  {
   "cell_type": "code",
   "execution_count": 185,
   "id": "eafdbaf6-9c75-4569-8001-341c645b9a78",
   "metadata": {},
   "outputs": [
    {
     "name": "stdout",
     "output_type": "stream",
     "text": [
      "4321\n",
      "4321\n",
      "4321\n"
     ]
    }
   ],
   "source": [
    "for i in range(2,5):\n",
    "    \n",
    "    for j in range(4,0,-1):\n",
    "        print(j,end = \"\")\n",
    "    print(\"\")"
   ]
  },
  {
   "cell_type": "code",
   "execution_count": 197,
   "id": "8d3c5bbe-e306-413c-970e-fa89c56f84f8",
   "metadata": {},
   "outputs": [
    {
     "name": "stdout",
     "output_type": "stream",
     "text": [
      "4444\n",
      "3333\n"
     ]
    }
   ],
   "source": [
    "for i in range(4,2,-1):\n",
    "    \n",
    "    for j in range(4,0,-1):\n",
    "        print(i,end = \"\")\n",
    "    print(\"\")"
   ]
  },
  {
   "cell_type": "code",
   "execution_count": 227,
   "id": "fafd3086-f967-4491-a462-f784cd3defba",
   "metadata": {},
   "outputs": [
    {
     "name": "stdout",
     "output_type": "stream",
     "text": [
      "1 2 3 4 \n",
      "5 6 7 8 \n",
      "9 10 11 12 \n"
     ]
    }
   ],
   "source": [
    "num = 0\n",
    "for i in range(1,4):\n",
    "   \n",
    "    \n",
    "    for j in range(1,5):\n",
    "        num += 1\n",
    "        \n",
    "        print(num,end = \" \")\n",
    "    print(\"\")"
   ]
  },
  {
   "cell_type": "code",
   "execution_count": 235,
   "id": "78a72adf-487f-45e5-b4a5-8161f81ff74f",
   "metadata": {},
   "outputs": [
    {
     "name": "stdout",
     "output_type": "stream",
     "text": [
      "*\n",
      "**\n",
      "***\n",
      "****\n",
      "*****\n"
     ]
    }
   ],
   "source": [
    "for  i in range(1,6):\n",
    "    \n",
    "\n",
    "    for marks in range(1,i+1):\n",
    "        print(\"*\",end = \"\")\n",
    "    print()"
   ]
  },
  {
   "cell_type": "code",
   "execution_count": 239,
   "id": "26ca7739-7dc7-4488-8152-a8fd387cc544",
   "metadata": {},
   "outputs": [
    {
     "name": "stdout",
     "output_type": "stream",
     "text": [
      "*****\n",
      "****\n",
      "***\n",
      "**\n",
      "*\n"
     ]
    }
   ],
   "source": [
    "for  i in range(1,6):\n",
    "    \n",
    "\n",
    "    for marks in range(6,i,-1):\n",
    "        print(\"*\",end = \"\")\n",
    "    print()"
   ]
  },
  {
   "cell_type": "code",
   "execution_count": 255,
   "id": "baef37f2-2a80-495f-9717-25de53520ac4",
   "metadata": {},
   "outputs": [
    {
     "name": "stdout",
     "output_type": "stream",
     "text": [
      "*\n",
      "**\n",
      "***\n",
      "****\n",
      "*****\n",
      "*****\n",
      "****\n",
      "***\n",
      "**\n",
      "*\n"
     ]
    }
   ],
   "source": [
    "for  i in range(1,6):\n",
    "    \n",
    "\n",
    "    for marks in range(1,i+1):\n",
    "        print(\"*\",end = \"\")\n",
    "    print()\n",
    "for  i in range(1,6):\n",
    "    \n",
    "\n",
    "    for marks in range(6,i,-1):\n",
    "        print(\"*\",end = \"\")\n",
    "    print()\n",
    "    "
   ]
  },
  {
   "cell_type": "code",
   "execution_count": 259,
   "id": "737dee85-80c3-4e63-914e-9b10e1b2beec",
   "metadata": {},
   "outputs": [
    {
     "name": "stdout",
     "output_type": "stream",
     "text": [
      "1\n",
      "22\n",
      "333\n",
      "4444\n"
     ]
    }
   ],
   "source": [
    "for  i in range(1,5):\n",
    "    \n",
    "\n",
    "    for marks in range(1,i+1):\n",
    "        print(i,end = \"\")\n",
    "    print()"
   ]
  },
  {
   "cell_type": "code",
   "execution_count": 279,
   "id": "cf29cce5-2afb-4177-b9aa-a0d1d0c91b19",
   "metadata": {},
   "outputs": [
    {
     "name": "stdout",
     "output_type": "stream",
     "text": [
      "10 \n",
      "11 12 \n",
      "13 14 15 \n"
     ]
    }
   ],
   "source": [
    "num = 10\n",
    "for  i in range(1,4):\n",
    "    \n",
    "\n",
    "    for marks in range(1,i+1):\n",
    "        print(num,end = \" \")\n",
    "        num += 1\n",
    "    print()"
   ]
  },
  {
   "cell_type": "code",
   "execution_count": 295,
   "id": "679f1277-3e44-44a1-81c3-eeb7bebf7825",
   "metadata": {},
   "outputs": [
    {
     "name": "stdout",
     "output_type": "stream",
     "text": [
      "15 \n",
      "14 13 \n",
      "12 11 10 \n"
     ]
    }
   ],
   "source": [
    "num = 15\n",
    "for  i in range(1,4):\n",
    "    \n",
    "\n",
    "    for marks in range(1,i+1):\n",
    "        print(num,end = \" \")\n",
    "        num -= 1\n",
    "    print()"
   ]
  },
  {
   "cell_type": "code",
   "execution_count": 5,
   "id": "97cca7e7-1aa4-4d93-8ae1-276f9dc042e4",
   "metadata": {},
   "outputs": [
    {
     "name": "stdout",
     "output_type": "stream",
     "text": [
      "a\n",
      "ab\n",
      "abc\n"
     ]
    }
   ],
   "source": [
    "for  i in range(1,4):\n",
    "    x = 97\n",
    "    \n",
    "    \n",
    "    \n",
    "\n",
    "    for j in range(1,i+1):\n",
    "        print(chr(x),end = \"\")\n",
    "        x+=1\n",
    "    print()"
   ]
  },
  {
   "cell_type": "code",
   "execution_count": 301,
   "id": "f2eb4e25-0d23-4e63-9e33-17efba4181ef",
   "metadata": {},
   "outputs": [
    {
     "data": {
      "text/plain": [
       "'A'"
      ]
     },
     "execution_count": 301,
     "metadata": {},
     "output_type": "execute_result"
    }
   ],
   "source": [
    "chr (65)"
   ]
  },
  {
   "cell_type": "code",
   "execution_count": 307,
   "id": "1736a47e-e118-4c92-b1c4-67f92b5682a2",
   "metadata": {},
   "outputs": [
    {
     "data": {
      "text/plain": [
       "'V'"
      ]
     },
     "execution_count": 307,
     "metadata": {},
     "output_type": "execute_result"
    }
   ],
   "source": [
    "chr(86)"
   ]
  },
  {
   "cell_type": "code",
   "execution_count": 3,
   "id": "0650195e-51c0-48bd-bbf0-cc9ab0979217",
   "metadata": {},
   "outputs": [
    {
     "name": "stdout",
     "output_type": "stream",
     "text": [
      "A\n",
      "AB\n",
      "ABC\n"
     ]
    }
   ],
   "source": [
    "for  i in range(1,4):\n",
    "    for j in range(65,65+i):\n",
    "        print(chr(j),end = \"\")\n",
    "        \n",
    "    print()"
   ]
  },
  {
   "cell_type": "code",
   "execution_count": null,
   "id": "8cbecb26-8b36-44ab-a085-fbaac17fef89",
   "metadata": {},
   "outputs": [],
   "source": []
  },
  {
   "cell_type": "code",
   "execution_count": null,
   "id": "6ee69973-7d85-434d-9e07-91829c207597",
   "metadata": {},
   "outputs": [],
   "source": []
  }
 ],
 "metadata": {
  "kernelspec": {
   "display_name": "Python 3 (ipykernel)",
   "language": "python",
   "name": "python3"
  },
  "language_info": {
   "codemirror_mode": {
    "name": "ipython",
    "version": 3
   },
   "file_extension": ".py",
   "mimetype": "text/x-python",
   "name": "python",
   "nbconvert_exporter": "python",
   "pygments_lexer": "ipython3",
   "version": "3.12.4"
  }
 },
 "nbformat": 4,
 "nbformat_minor": 5
}
