{
 "cells": [
  {
   "cell_type": "markdown",
   "id": "459e4735-fa5d-4e00-93a4-448aab996645",
   "metadata": {},
   "source": [
    "# pascal  triangle"
   ]
  },
  {
   "cell_type": "code",
   "execution_count": 4,
   "id": "33e8888a-ced9-42bf-807f-d5597e441c1d",
   "metadata": {},
   "outputs": [
    {
     "name": "stdout",
     "output_type": "stream",
     "text": [
      "      *\n",
      "     * *\n",
      "    * * *\n",
      "   * * * *\n"
     ]
    }
   ],
   "source": [
    "for i in range(1,5):\n",
    "    for j in range(i,6):\n",
    "        print(\" \",end = '')\n",
    "    for k in range(1,i+1):\n",
    "        print(\" *\",end = '')\n",
    "    print()"
   ]
  },
  {
   "cell_type": "code",
   "execution_count": 22,
   "id": "058d9241-3470-4926-99ed-7d9ea2f88f18",
   "metadata": {},
   "outputs": [
    {
     "name": "stdout",
     "output_type": "stream",
     "text": [
      "    1 \n",
      "   1 1 \n",
      "  1 * 1 \n",
      " 1 * * 1 \n",
      "1 * * * 1 \n"
     ]
    }
   ],
   "source": [
    "for i in range(1,6):\n",
    "    for j in range(i,5):\n",
    "        print(\"\",end = ' ')\n",
    "    for k in range(1,i+1):\n",
    "        if(k==1 or k==i):\n",
    "            print(1,end = ' ')\n",
    "        else:\n",
    "            print(\"*\",end = ' ')\n",
    "    print()"
   ]
  },
  {
   "cell_type": "code",
   "execution_count": 8,
   "id": "dd61e5ba-00eb-4d49-8e22-7a1cc395dbb0",
   "metadata": {},
   "outputs": [
    {
     "name": "stdout",
     "output_type": "stream",
     "text": [
      "---1 \n",
      "--1 1 \n",
      "-1 * 1 \n",
      "1 * * 1 \n",
      "[[1], [1, 1], [1, '*', 1], [1, '*', '*', 1]]\n"
     ]
    }
   ],
   "source": [
    "num = 4\n",
    "mylist = []\n",
    "for i in range(1,num + 1):\n",
    "    temp =[]\n",
    "    for j in range(i,num):\n",
    "        print(\"-\",end = \"\")\n",
    "    for k in range(1,i+1):\n",
    "        if(k==1 or k==i):\n",
    "            temp.append(1)\n",
    "            print(1,end = \" \")\n",
    "        else:\n",
    "            temp.append(\"*\")\n",
    "            print(\"*\",end = \" \")\n",
    "    mylist.append(temp)\n",
    "    print(\"\")\n",
    "print(mylist)\n",
    "    "
   ]
  },
  {
   "cell_type": "code",
   "execution_count": 18,
   "id": "64b9dd84-c8e1-4097-ab26-ba311dd63f69",
   "metadata": {},
   "outputs": [
    {
     "name": "stdout",
     "output_type": "stream",
     "text": [
      "----1 \n",
      "---1 1 \n",
      "--1 2 1 \n",
      "-1 3 3 1 \n",
      "1 4 6 4 1 \n"
     ]
    }
   ],
   "source": [
    "num = 4\n",
    "mylist = []\n",
    "for i in range(0,num + 1):\n",
    "    temp =[]\n",
    "    for j in range(i,num):\n",
    "        print(\"-\",end = \"\")\n",
    "    for k in range(0,i+1):\n",
    "        if(k==0 or k==i):\n",
    "            temp.append(1)\n",
    "            print(1,end = \" \")\n",
    "        else:\n",
    "            data = mylist[i-1][k] + mylist[i-1][k-1]\n",
    "            temp.append(data)\n",
    "            print(data,end = \" \")\n",
    "    mylist.append(temp)\n",
    "    print(\"\")\n",
    "print(mylist)\n",
    "    "
   ]
  },
  {
   "cell_type": "code",
   "execution_count": 22,
   "id": "17bea980-efc3-4cfe-9cd7-3262127aad23",
   "metadata": {},
   "outputs": [
    {
     "name": "stdout",
     "output_type": "stream",
     "text": [
      "    1 \n",
      "   1 1 \n",
      "  1 2 1 \n",
      " 1 3 3 1 \n",
      "1 4 6 4 1 \n"
     ]
    }
   ],
   "source": [
    "num = 4\n",
    "mylist = []\n",
    "for i in range(0,num + 1):\n",
    "    temp =[]\n",
    "    for j in range(i,num):\n",
    "        print(\" \",end = \"\")\n",
    "    for k in range(0,i+1):\n",
    "        if(k==0 or k==i):\n",
    "            temp.append(1)\n",
    "            print(1,end = \" \")\n",
    "        else:\n",
    "            data = mylist[i-1][k] + mylist[i-1][k-1]\n",
    "            temp.append(data)\n",
    "            print(data,end = \" \")\n",
    "    mylist.append(temp)\n",
    "    print(\"\")\n"
   ]
  },
  {
   "cell_type": "code",
   "execution_count": null,
   "id": "0af9003f-8b8d-4338-88a7-b8a1a4447ae5",
   "metadata": {},
   "outputs": [],
   "source": []
  }
 ],
 "metadata": {
  "kernelspec": {
   "display_name": "Python 3 (ipykernel)",
   "language": "python",
   "name": "python3"
  },
  "language_info": {
   "codemirror_mode": {
    "name": "ipython",
    "version": 3
   },
   "file_extension": ".py",
   "mimetype": "text/x-python",
   "name": "python",
   "nbconvert_exporter": "python",
   "pygments_lexer": "ipython3",
   "version": "3.12.4"
  }
 },
 "nbformat": 4,
 "nbformat_minor": 5
}
