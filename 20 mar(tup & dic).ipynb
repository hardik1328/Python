{
 "cells": [
  {
   "cell_type": "markdown",
   "id": "f9fc4e23-744d-4bcb-803b-2c848c331299",
   "metadata": {},
   "source": [
    "# TUPLES"
   ]
  },
  {
   "cell_type": "code",
   "execution_count": 2,
   "id": "268dc16f-5497-421d-8507-bd9efe6bbc46",
   "metadata": {},
   "outputs": [],
   "source": [
    "# data => exactly like list\n",
    "# it is immutuable\n",
    "# it is orgered datatype\n",
    "# duplicates values are allowed\n",
    "# indexing and slicing are allowed\n",
    "# denote with => ()\n",
    "# different memory address so called immutuabe\n",
    "# if we have different memory address it will be called immutuable. if didnt change then called mutuable \n",
    "# method of tuple \n",
    "        1. count()\n",
    "        2. index()\n"
   ]
  },
  {
   "cell_type": "code",
   "execution_count": 4,
   "id": "d671bef7-4ed3-4676-988c-9b735a2d42fb",
   "metadata": {},
   "outputs": [
    {
     "name": "stdout",
     "output_type": "stream",
     "text": [
      "<class 'tuple'>\n"
     ]
    }
   ],
   "source": [
    "x =10,20,30\n",
    "print(type(x))"
   ]
  },
  {
   "cell_type": "code",
   "execution_count": 6,
   "id": "116c42f5-50fc-4cc1-92c0-71ab76d91885",
   "metadata": {},
   "outputs": [
    {
     "name": "stdout",
     "output_type": "stream",
     "text": [
      "(10, 20) <class 'tuple'>\n"
     ]
    }
   ],
   "source": [
    "x =10,20,30\n",
    "print(x[0:2] , type(x))"
   ]
  },
  {
   "cell_type": "code",
   "execution_count": 8,
   "id": "82660b13-5c04-488b-9ea1-d9de62f0e7ff",
   "metadata": {},
   "outputs": [
    {
     "data": {
      "text/plain": [
       "3"
      ]
     },
     "execution_count": 8,
     "metadata": {},
     "output_type": "execute_result"
    }
   ],
   "source": [
    "x = 10,20,30,10,10\n",
    "x.count(10)"
   ]
  },
  {
   "cell_type": "code",
   "execution_count": 14,
   "id": "a99cfb18-a77f-4593-a6bf-cc9e05ae4ca4",
   "metadata": {},
   "outputs": [
    {
     "name": "stdout",
     "output_type": "stream",
     "text": [
      "2\n"
     ]
    }
   ],
   "source": [
    "x = 10,20,30,10,10\n",
    "print(x.index(30))"
   ]
  },
  {
   "cell_type": "code",
   "execution_count": 16,
   "id": "89555973-2bdb-4561-b5d5-d0ab927c1d2d",
   "metadata": {},
   "outputs": [],
   "source": [
    "# difference between list and tuple\n",
    "# list => mutuable\n",
    "# tuple => immutuable\n",
    "# list [] , tuple ()\n",
    "# slow as ccompared to tuple  (position is change in list so...)\n",
    "\n"
   ]
  },
  {
   "cell_type": "code",
   "execution_count": 20,
   "id": "47cbc596-104a-4047-a7a0-0668f105f94d",
   "metadata": {},
   "outputs": [
    {
     "name": "stdout",
     "output_type": "stream",
     "text": [
      "1895966737920\n",
      "1895989761248\n",
      "(10, 20, 30, 40, 50)\n"
     ]
    }
   ],
   "source": [
    "x = (10,20,30)\n",
    "print(id(x))\n",
    "x = x+(40,50)\n",
    "print(id(x))\n",
    "print(x)"
   ]
  },
  {
   "cell_type": "markdown",
   "id": "64f37a56-333d-47e5-b316-59e90d23351b",
   "metadata": {},
   "source": [
    "# dictionary"
   ]
  },
  {
   "cell_type": "code",
   "execution_count": 23,
   "id": "f255c14c-6c2c-42eb-900d-9ffd64f6740c",
   "metadata": {},
   "outputs": [],
   "source": [
    "# datatype\n",
    "# data based on key:value pair\n",
    "# key => unique identifier\n",
    "# value => data\n",
    "# value can bedeleted \n",
    "#  {}\n",
    "#{key  : value ,  key2 : value 2}\n",
    "# no index position\n",
    "# key should be of immutuable datatype (memory address change)\n",
    "# value shoule be of mutuable datatype ( memory address is not change)\n",
    "# no index is there"
   ]
  },
  {
   "cell_type": "code",
   "execution_count": 25,
   "id": "63d56cda-9916-49f3-9144-8bef991d8d65",
   "metadata": {},
   "outputs": [
    {
     "name": "stdout",
     "output_type": "stream",
     "text": [
      "tushar\n",
      "<class 'dict'>\n"
     ]
    }
   ],
   "source": [
    "user = {100:\"tushar\" , 101:\"aman\"}\n",
    "print(user[100])\n",
    "print(type(user))"
   ]
  },
  {
   "cell_type": "code",
   "execution_count": 31,
   "id": "bf76d787-aaa9-4038-9aab-09bb7cc21d4c",
   "metadata": {},
   "outputs": [
    {
     "name": "stdout",
     "output_type": "stream",
     "text": [
      "{100: 'yash', 101: 'aman', 102: 'ujjwal'}\n"
     ]
    }
   ],
   "source": [
    "user = {100:\"tushar\" , 101:\"aman\"}\n",
    "# insert\n",
    "user[102] = \"ujjwal\"\n",
    "user[100] = \"yash\"      # for update the  value\n",
    "print(user)"
   ]
  },
  {
   "cell_type": "code",
   "execution_count": 37,
   "id": "ee7bf72f-9259-4437-b4e6-47d99f0d2959",
   "metadata": {},
   "outputs": [
    {
     "name": "stdout",
     "output_type": "stream",
     "text": [
      "{101: 'aman'} tushar\n"
     ]
    }
   ],
   "source": [
    "user = {100:\"tushar\" , 101:\"aman\"}\n",
    "out = user.pop(100)             #pop only delete value\n",
    "print(user, out)"
   ]
  },
  {
   "cell_type": "code",
   "execution_count": 35,
   "id": "a36b0bc9-16ba-47bd-90cb-595f7c6c8483",
   "metadata": {},
   "outputs": [
    {
     "name": "stdout",
     "output_type": "stream",
     "text": [
      "{101: 'aman'}\n"
     ]
    }
   ],
   "source": [
    "print(user)"
   ]
  },
  {
   "cell_type": "code",
   "execution_count": 39,
   "id": "0e98b01a-9c85-46a5-b6a6-6dc4da715e73",
   "metadata": {},
   "outputs": [
    {
     "name": "stdout",
     "output_type": "stream",
     "text": [
      "{100: 'tushar'} (101, 'aman')\n"
     ]
    }
   ],
   "source": [
    "user = {100:\"tushar\" , 101:\"aman\"}\n",
    "out = user.popitem()      # popitem data delete the list thing voth (key nd value is deleted)\n",
    "print(user, out)"
   ]
  },
  {
   "cell_type": "code",
   "execution_count": 41,
   "id": "b1d8cb4c-6069-40a0-91eb-4de785dd0adf",
   "metadata": {},
   "outputs": [
    {
     "name": "stdout",
     "output_type": "stream",
     "text": [
      "keys: dict_keys([100, 101])\n",
      "values: dict_values(['tushar', 'aman'])\n",
      "keys and values: dict_items([(100, 'tushar'), (101, 'aman')])\n"
     ]
    }
   ],
   "source": [
    "user = {100:\"tushar\" , 101:\"aman\"}\n",
    "print(\"keys:\" ,user.keys())\n",
    "print(\"values:\",user.values())\n",
    "print(\"keys and values:\",user.items())     #item list of tuple [()]"
   ]
  },
  {
   "cell_type": "code",
   "execution_count": 43,
   "id": "ceacfda6-a9ee-490d-b3d4-61c1905846e9",
   "metadata": {},
   "outputs": [
    {
     "name": "stdout",
     "output_type": "stream",
     "text": [
      "{100: 15, 101: 'aman', 107: 'yash'}\n"
     ]
    }
   ],
   "source": [
    "user = {100:10, 101:\"aman\"}\n",
    "user.update({100:15 , 107:\"yash\"})\n",
    "print(user)"
   ]
  },
  {
   "cell_type": "code",
   "execution_count": 45,
   "id": "1c025a9f-4681-4e98-8a97-7f26cbc24dca",
   "metadata": {},
   "outputs": [
    {
     "name": "stdout",
     "output_type": "stream",
     "text": [
      "100\n",
      "{'salary': 190}\n"
     ]
    }
   ],
   "source": [
    "dict = {\"salary\":100}\n",
    "print(dict[\"salary\"])\n",
    "dict [\"salary\"] = dict[\"salary\"] + 90\n",
    "print(dict)"
   ]
  },
  {
   "cell_type": "code",
   "execution_count": null,
   "id": "9cce9b92-a19f-44df-8cda-a87af99c2d1a",
   "metadata": {},
   "outputs": [],
   "source": [
    "dt = {10:1 ,11:1 , 12:1}"
   ]
  },
  {
   "cell_type": "code",
   "execution_count": 69,
   "id": "cb211f28-352d-4c34-b979-b6f99eb9dd1d",
   "metadata": {},
   "outputs": [
    {
     "name": "stdout",
     "output_type": "stream",
     "text": [
      "{10: 1, 12: 1, 14: 1}\n"
     ]
    }
   ],
   "source": [
    "d={}\n",
    "for i in range(10,16):   #even\n",
    "    if(i%2==0):\n",
    "        d[i]  = 1\n",
    "print(d)"
   ]
  },
  {
   "cell_type": "code",
   "execution_count": 71,
   "id": "0349e38d-22ee-4225-9a3b-416816dfeb48",
   "metadata": {},
   "outputs": [
    {
     "name": "stdout",
     "output_type": "stream",
     "text": [
      "{10: 1, 11: 1, 12: 1, 13: 1, 14: 1, 15: 1}\n"
     ]
    }
   ],
   "source": [
    "d={}\n",
    "for i in range(10,16):\n",
    "   \n",
    "        d[i]  = 1\n",
    "print(d)"
   ]
  },
  {
   "cell_type": "code",
   "execution_count": 73,
   "id": "0a1d4e7c-e6ef-4354-9a3d-49113d192fd7",
   "metadata": {},
   "outputs": [
    {
     "data": {
      "text/plain": [
       "'hry ura'"
      ]
     },
     "execution_count": 73,
     "metadata": {},
     "output_type": "execute_result"
    }
   ],
   "source": [
    "\"hry ura\"   #question\n",
    "#{e:1 , u:1 , a:1}\n"
   ]
  },
  {
   "cell_type": "code",
   "execution_count": 105,
   "id": "fbdb87d6-2271-42f7-a594-d85ca1528e65",
   "metadata": {},
   "outputs": [
    {
     "name": "stdout",
     "output_type": "stream",
     "text": [
      "{'e': 1, 'a': 1, 'u': 1}\n"
     ]
    }
   ],
   "source": [
    "d = {}\n",
    "a = \"hey aura\"\n",
    "\n",
    "for i in a:            #method 1\n",
    "    if(i=='a' or i=='e' or i=='u' ):\n",
    "        d[i] = 1\n",
    "print(d)\n",
    "        "
   ]
  },
  {
   "cell_type": "code",
   "execution_count": 109,
   "id": "8a1ae1f4-5c61-472f-8f05-f7072c57ef1e",
   "metadata": {},
   "outputs": [
    {
     "name": "stdout",
     "output_type": "stream",
     "text": [
      "{'e': 1, 'u': 1, 'a': 1}\n"
     ]
    }
   ],
   "source": [
    "d ={}\n",
    "for i in \"hey ura\":\n",
    "    if i in  \"aeiou\":           #method 2\n",
    "        d[i] = 1\n",
    "print(d)\n",
    "\n"
   ]
  },
  {
   "cell_type": "code",
   "execution_count": 111,
   "id": "71049a8d-a525-43b7-8a43-72a0472bf2c7",
   "metadata": {},
   "outputs": [
    {
     "name": "stdout",
     "output_type": "stream",
     "text": [
      "{'salary': 110}\n"
     ]
    }
   ],
   "source": [
    "x = {\"salary\":100}\n",
    "if(\"salary\" in x):\n",
    "    x[\"salary\"] = x[\"salary\"]+10    #update\n",
    "else:\n",
    "    x[\"salary\"] = 10   #insert\n",
    "print(x)"
   ]
  },
  {
   "cell_type": "code",
   "execution_count": 113,
   "id": "85adaa36-321b-4a67-8f2a-67ff532a4253",
   "metadata": {},
   "outputs": [
    {
     "name": "stdout",
     "output_type": "stream",
     "text": [
      "{'rollno': 100, 'salary': 10}\n"
     ]
    }
   ],
   "source": [
    "x = {\"rollno\":100}\n",
    "if(\"salary\" in x):\n",
    "    x[\"salary\"] = x[\"salary\"]+10    #update\n",
    "else:\n",
    "    x[\"salary\"] = 10   #insert\n",
    "print(x)"
   ]
  },
  {
   "cell_type": "code",
   "execution_count": 123,
   "id": "bbeb46df-239c-4807-8abe-cf3c061bd1e6",
   "metadata": {},
   "outputs": [
    {
     "name": "stdout",
     "output_type": "stream",
     "text": [
      "{'e': 4, 'u': 1, 'a': 3}\n"
     ]
    }
   ],
   "source": [
    "d = {}\n",
    "\n",
    "for i in \"hehyee ureaaa\":\n",
    "    if i in \"aeiou\":\n",
    "        if i in d:\n",
    "            d[i] = d[i]+1\n",
    "        else:\n",
    "            d[i] = 1\n",
    "print(d)"
   ]
  },
  {
   "cell_type": "code",
   "execution_count": null,
   "id": "443c64c9-172e-47fa-96c6-c236f790d1ed",
   "metadata": {},
   "outputs": [],
   "source": []
  }
 ],
 "metadata": {
  "kernelspec": {
   "display_name": "Python 3 (ipykernel)",
   "language": "python",
   "name": "python3"
  },
  "language_info": {
   "codemirror_mode": {
    "name": "ipython",
    "version": 3
   },
   "file_extension": ".py",
   "mimetype": "text/x-python",
   "name": "python",
   "nbconvert_exporter": "python",
   "pygments_lexer": "ipython3",
   "version": "3.12.4"
  }
 },
 "nbformat": 4,
 "nbformat_minor": 5
}
