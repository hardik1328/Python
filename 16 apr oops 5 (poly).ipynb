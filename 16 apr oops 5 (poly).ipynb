{
 "cells": [
  {
   "cell_type": "markdown",
   "id": "c6986e18-be00-4b39-bfe7-a6568493c8c6",
   "metadata": {},
   "source": [
    "# 2) Static Method()"
   ]
  },
  {
   "cell_type": "code",
   "execution_count": 1,
   "id": "476b6835-5adb-49ae-b300-4d566be44640",
   "metadata": {},
   "outputs": [],
   "source": [
    "# A static method is method that doesnt operate or either the class or the instance,it behaves like a regular fucntion\n",
    "#    but is define inside a class for logical grouping.it is marked with @ static method decorator.\n",
    "\n",
    "#  FEAUTRES OF STATIC METHOD :->\n",
    "\n",
    "# 1) doesnt require self or cls as a parameter.\n",
    "# 2) cant modified class or instance attributes.\n",
    "# 3) useful for utility or helper methods that do not rely on the class or instance."
   ]
  },
  {
   "cell_type": "code",
   "execution_count": 5,
   "id": "6c940c2c-4b4d-4ca1-b022-a0d7d05977fe",
   "metadata": {},
   "outputs": [
    {
     "name": "stdout",
     "output_type": "stream",
     "text": [
      "name of employe is: sam and role is: python developer\n",
      " this is a great job\n"
     ]
    }
   ],
   "source": [
    "class employe:\n",
    "    location = 'jaipur'\n",
    "\n",
    "    def __init__(self,name,role):\n",
    "        self.name = name\n",
    "        self.role = role\n",
    "\n",
    "    def getinfo(self):\n",
    "        print(f\"name of employe is: {self.name} and role is: {self.role}\")\n",
    "    @staticmethod\n",
    "    def newinfo():\n",
    "        print(f\" this is a great job\")\n",
    "\n",
    "a  = employe('sam','python developer')\n",
    "a.getinfo()\n",
    "a.newinfo()"
   ]
  },
  {
   "cell_type": "markdown",
   "id": "c2add962-e255-43a6-82db-947f9d72b460",
   "metadata": {},
   "source": [
    "# 3) Super method()"
   ]
  },
  {
   "cell_type": "code",
   "execution_count": 8,
   "id": "4e746b01-cc97-44d7-8e36-7fb0ae9a46c8",
   "metadata": {},
   "outputs": [],
   "source": [
    "# the super method is used to call a method from the parent clss in the context of inheritance.it alows us to avoid\n",
    "#     explicity referring to the parent class and makes the code more maintainable.\n",
    "\n",
    "# Features of Super Method :->\n",
    "\n",
    "# 1) access is parent class method or attributes.\n",
    "# 2) useful in multilevel or multiple inheritance.\n",
    "# 3) helps in avoiding code repeatation."
   ]
  },
  {
   "cell_type": "code",
   "execution_count": 12,
   "id": "9be4f501-67d0-402c-9e20-59bab4c3a20b",
   "metadata": {},
   "outputs": [
    {
     "name": "stdout",
     "output_type": "stream",
     "text": [
      "hello,i am sam from the parent class\n",
      "i am 10 years old from the child class\n"
     ]
    }
   ],
   "source": [
    "class parent:\n",
    "    def __init__(self,name):\n",
    "        self.name = name\n",
    "\n",
    "    def greet(self):\n",
    "        print (f\"hello,i am {self.name} from the parent class\")\n",
    "\n",
    "class child(parent):\n",
    "    def __init__(self,name,age):\n",
    "        super().__init__(name)   # call the parent __init_ method\n",
    "        self.age = age\n",
    "\n",
    "    def greet(self):\n",
    "        super().greet()          #call the parents greet method\n",
    "        print(f\"i am {self.age} years old from the child class\")\n",
    "\n",
    "## usage \n",
    "child = child(\"sam\",10)\n",
    "child.greet()"
   ]
  },
  {
   "cell_type": "markdown",
   "id": "cdeeb41a-9289-49db-8322-02cc46b13b69",
   "metadata": {},
   "source": [
    "# Polymorphism"
   ]
  },
  {
   "cell_type": "code",
   "execution_count": null,
   "id": "bf70bdaa-5443-4180-965f-0b3164946fdf",
   "metadata": {},
   "outputs": [],
   "source": [
    "# why we use polymorphism ?\n",
    "\n",
    "# 1) it allows object of diff classes to be treated as object of a common super class it unables a single interfreance \n",
    "#    to represent diff underline forms\n",
    "\n",
    "# this makes the code more flexible , reuseable and easier to extend.\n",
    "\n",
    "# KEY BENEFITS OF POLYMORSPHISM:->\n",
    "\n",
    " # 1) Code reuseablity --> we can write more generic codes that works with object of diff types.\n",
    "#  2) Flexibility --> new classes can be added with minimal changes to existing code.\n",
    "#  3) Readabilty -->  simplies complex logic by using a  single method name for multiple actions."
   ]
  }
 ],
 "metadata": {
  "kernelspec": {
   "display_name": "Python 3 (ipykernel)",
   "language": "python",
   "name": "python3"
  },
  "language_info": {
   "codemirror_mode": {
    "name": "ipython",
    "version": 3
   },
   "file_extension": ".py",
   "mimetype": "text/x-python",
   "name": "python",
   "nbconvert_exporter": "python",
   "pygments_lexer": "ipython3",
   "version": "3.12.4"
  }
 },
 "nbformat": 4,
 "nbformat_minor": 5
}
