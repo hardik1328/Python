{
 "cells": [
  {
   "cell_type": "code",
   "execution_count": 1,
   "id": "6953785f-b3fe-451d-902d-7b3b71f15df8",
   "metadata": {},
   "outputs": [],
   "source": [
    "# class is a blueprint , as an object initiate.\n",
    "\n",
    "# self --> use for connectivity for multiple purpose.\n",
    "# attributes --> are variables that hold data about an object. they are defined inside a class and represent the properties and states of an object."
   ]
  },
  {
   "cell_type": "markdown",
   "id": "97ef8b5c-9281-47a3-bb1a-46ac6d387af8",
   "metadata": {},
   "source": [
    "# 4) Attributes"
   ]
  },
  {
   "cell_type": "code",
   "execution_count": 4,
   "id": "0c7acfb6-f3a5-45f7-ba90-4c0bf39cdbfb",
   "metadata": {},
   "outputs": [],
   "source": [
    "# example\n",
    "class dog:\n",
    "    def __init__(self,name,breed):\n",
    "        self.name = name    # attributes\n",
    "        slef.breed = breed  # atrributes\n",
    "\n",
    "# Here , name and breed are the attributes of the dog class."
   ]
  },
  {
   "cell_type": "markdown",
   "id": "5aa89911-abde-4049-b54f-f27a8375bede",
   "metadata": {},
   "source": [
    "# 5) Methods"
   ]
  },
  {
   "cell_type": "markdown",
   "id": "78944b02-0b77-473f-a26c-a84c344a801f",
   "metadata": {
    "scrolled": true
   },
   "source": [
    "Methods are functions defined inside a class that operate on the objects attributes. they define the behavior of an object"
   ]
  },
  {
   "cell_type": "code",
   "execution_count": 17,
   "id": "1b13753b-ca42-4271-9e5b-d533dc935064",
   "metadata": {},
   "outputs": [
    {
     "name": "stdout",
     "output_type": "stream",
     "text": [
      "Buddy says woof!\n"
     ]
    }
   ],
   "source": [
    "# Example\n",
    "\n",
    "class dog:\n",
    "    def __init__(self,name,breed):\n",
    "        self.name = name\n",
    "        self.breed = breed\n",
    "\n",
    "    def bark(self):    # Method\n",
    "        print(f\"{self.name} says woof!\")\n",
    "\n",
    "\n",
    "my_dog = dog(\"Buddy\", \"Golden Retriever\")\n",
    "\n",
    "\n",
    "my_dog.bark()\n",
    "\n"
   ]
  },
  {
   "cell_type": "markdown",
   "id": "b54deb12-50bf-4210-8bc7-8f5dbf972e5d",
   "metadata": {},
   "source": [
    "# Task 1: "
   ]
  },
  {
   "cell_type": "markdown",
   "id": "22475cfe-982d-4ba3-bde9-2b74236f60cf",
   "metadata": {},
   "source": [
    "create a calculator class."
   ]
  },
  {
   "cell_type": "markdown",
   "id": "ef552f53-fee8-420f-aa61-d6d889aa0879",
   "metadata": {},
   "source": [
    "Add methods for addition,subtraction,multiplication and division"
   ]
  },
  {
   "cell_type": "markdown",
   "id": "f6e0d823-e33a-40ae-819e-d925f15a7758",
   "metadata": {},
   "source": [
    "use the self parameter to access the numbers."
   ]
  },
  {
   "cell_type": "code",
   "execution_count": 29,
   "id": "cde0f591-69c2-4a34-8c34-828e5df1762f",
   "metadata": {},
   "outputs": [
    {
     "name": "stdout",
     "output_type": "stream",
     "text": [
      "12\n",
      "8\n",
      "20\n",
      "5.0\n"
     ]
    }
   ],
   "source": [
    "class calculator:\n",
    "    def __init__(self,num1,num2):\n",
    "        self.num1 = num1\n",
    "        self.num2 = num2\n",
    "\n",
    "    def add(self):\n",
    "        return self.num1 + self.num2\n",
    "\n",
    "    def substraction(self):\n",
    "        return self.num1 - self.num2\n",
    "\n",
    "    def multiply(self):\n",
    "        return self.num1 * self.num2\n",
    "\n",
    "    def division(self):\n",
    "        if self.num2 !=0:\n",
    "            return self.num1 / self.num2\n",
    "        else:\n",
    "            return \"devision by zero is not allowed\"\n",
    "\n",
    "calc = calculator(10,2)\n",
    "print(calc.add())\n",
    "print(calc.substraction())\n",
    "print(calc.multiply())\n",
    "print(calc.division())\n",
    "        \n",
    "    \n"
   ]
  },
  {
   "cell_type": "markdown",
   "id": "df43155d-bc87-41a5-b7e6-48564dfd94b2",
   "metadata": {},
   "source": [
    "# Example 2: Create a Bank Account class"
   ]
  },
  {
   "cell_type": "markdown",
   "id": "894a735a-4644-42e9-bfa3-57426f1f468b",
   "metadata": {},
   "source": [
    "Task:"
   ]
  },
  {
   "cell_type": "markdown",
   "id": "407b1c0e-812d-4bc0-b7a3-764315ad76b1",
   "metadata": {},
   "source": [
    "define a bank account class."
   ]
  },
  {
   "cell_type": "markdown",
   "id": "f3130e17-2aba-48c6-b4b7-0286360017df",
   "metadata": {},
   "source": [
    "Add attributes for account holder name and balance."
   ]
  },
  {
   "cell_type": "markdown",
   "id": "1d6ec999-feb0-4e69-94fd-f4490748179e",
   "metadata": {},
   "source": [
    "Add methods  to deposit, withdraw, and check balance."
   ]
  },
  {
   "cell_type": "code",
   "execution_count": 50,
   "id": "2ef0c51e-9a60-4d79-8afd-1cc30ca27e45",
   "metadata": {},
   "outputs": [
    {
     "name": "stdout",
     "output_type": "stream",
     "text": [
      "150000 deposited. New balance: 250000\n",
      "100000 withdrawn. Remaining balance: 150000\n",
      "Account balance for hardik: 150000\n"
     ]
    }
   ],
   "source": [
    "class bankaccount:\n",
    "    def __init__(self,holder_name,balance=0):\n",
    "        self.holder_name = holder_name\n",
    "        self.balance = balance\n",
    "\n",
    "    def deposit(self,amount):\n",
    "        self.balance += amount\n",
    "        print( f\"{amount} deposited. New balance: {self.balance}\")\n",
    "\n",
    "    def withdraw(self,amount):\n",
    "        if amount <= self.balance:\n",
    "            self.balance -= amount\n",
    "            print( f\"{amount} withdrawn. Remaining balance: {self.balance}\")\n",
    "        else:\n",
    "            print(\"insufficient funds!\")\n",
    "\n",
    "    def check_balance(self):\n",
    "        return f\"Account balance for {self.holder_name}: {self.balance}\"\n",
    "\n",
    "account = bankaccount(\"hardik\",100000)\n",
    "account.deposit(150000)\n",
    "account.withdraw(100000)\n",
    "\n",
    "print(account.check_balance())\n",
    "            \n"
   ]
  },
  {
   "cell_type": "code",
   "execution_count": null,
   "id": "84491b6c-ae69-4ad0-b423-f3d7d3ecf3ee",
   "metadata": {},
   "outputs": [],
   "source": []
  }
 ],
 "metadata": {
  "kernelspec": {
   "display_name": "Python 3 (ipykernel)",
   "language": "python",
   "name": "python3"
  },
  "language_info": {
   "codemirror_mode": {
    "name": "ipython",
    "version": 3
   },
   "file_extension": ".py",
   "mimetype": "text/x-python",
   "name": "python",
   "nbconvert_exporter": "python",
   "pygments_lexer": "ipython3",
   "version": "3.12.4"
  }
 },
 "nbformat": 4,
 "nbformat_minor": 5
}
