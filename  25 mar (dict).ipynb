{
 "cells": [
  {
   "cell_type": "code",
   "execution_count": 1,
   "id": "ea7de539-23c7-4f3c-9233-ddbe30d6ec06",
   "metadata": {},
   "outputs": [],
   "source": [
    "# Question  (dictionary)"
   ]
  },
  {
   "cell_type": "code",
   "execution_count": 17,
   "id": "ea4bc5cc-4082-4f5d-b2fb-b5054466173c",
   "metadata": {},
   "outputs": [
    {
     "name": "stdout",
     "output_type": "stream",
     "text": [
      "{10: 1, 40: 1, 20: 1, 30: 1}\n"
     ]
    }
   ],
   "source": [
    "\n",
    "a = [10,40,20,30]\n",
    "d = {}\n",
    "# mydict[key] = mydict[key] + value  (update the list)\n",
    "for i in a:\n",
    "    if i in d:\n",
    "        d[i] = d[i] + 1\n",
    "    else:\n",
    "        d[i] = 1\n",
    "print(d)\n",
    "    \n",
    "        \n"
   ]
  },
  {
   "cell_type": "code",
   "execution_count": 95,
   "id": "3f8109a3-32f7-4d0d-aa15-fe1f0f0d36cb",
   "metadata": {},
   "outputs": [
    {
     "name": "stdout",
     "output_type": "stream",
     "text": [
      "{10: 0, 40: 1, 20: 2, 30: 3}\n"
     ]
    }
   ],
   "source": [
    "# {10:0, 40:1, 20:2, 30:3}\n",
    "a = [10,40,20,30]\n",
    "d = {}\n",
    "\n",
    "for i in range(len(a)):\n",
    "    d[a[i]]= i\n",
    "print(d)\n",
    "    \n",
    "        \n"
   ]
  },
  {
   "cell_type": "code",
   "execution_count": 59,
   "id": "f329735d-2856-490f-a707-b7367ce6ad18",
   "metadata": {},
   "outputs": [],
   "source": [
    "# LCM question"
   ]
  },
  {
   "cell_type": "code",
   "execution_count": 65,
   "id": "0db680a8-b1e7-48f5-93f2-84faa89637f5",
   "metadata": {},
   "outputs": [
    {
     "name": "stdout",
     "output_type": "stream",
     "text": [
      "lcm is 24\n"
     ]
    }
   ],
   "source": [
    "a = 3\n",
    "b = 8\n",
    "\n",
    "if(a>b):\n",
    "    num =a\n",
    "    \n",
    "else:\n",
    "    num=b\n",
    "\n",
    "while True:\n",
    "    if(num%a==0 and num%b==0):\n",
    "        print(\"lcm is\",num)\n",
    "        break\n",
    "    else:\n",
    "        num = num+1"
   ]
  },
  {
   "cell_type": "code",
   "execution_count": 75,
   "id": "294b896d-968d-429f-af9b-f0968f26997a",
   "metadata": {},
   "outputs": [
    {
     "name": "stdout",
     "output_type": "stream",
     "text": [
      "198\n"
     ]
    }
   ],
   "source": [
    "d={\"A\":65,\"B\":66,\"C\":67}\n",
    "s=\"CAB\"\n",
    "sum=0\n",
    "for i in d:\n",
    "    if i in s:\n",
    "        sum+=d[i]\n",
    "print(sum)"
   ]
  },
  {
   "cell_type": "code",
   "execution_count": 81,
   "id": "cea21ce7-4ad3-4183-85b4-2a94d4d0e0e8",
   "metadata": {},
   "outputs": [
    {
     "name": "stdout",
     "output_type": "stream",
     "text": [
      "67\n",
      "65\n",
      "66\n",
      "198\n"
     ]
    }
   ],
   "source": [
    "d={\"A\":65,\"B\":66,\"C\":67}\n",
    "sum=0\n",
    "for i in \"CAB\":\n",
    "    if i in s:\n",
    "        print(d[i])\n",
    "        sum+=d[i]\n",
    "print(sum)"
   ]
  },
  {
   "cell_type": "code",
   "execution_count": null,
   "id": "45e345ba-03b0-4296-906e-177f87d43126",
   "metadata": {},
   "outputs": [],
   "source": []
  }
 ],
 "metadata": {
  "kernelspec": {
   "display_name": "Python 3 (ipykernel)",
   "language": "python",
   "name": "python3"
  },
  "language_info": {
   "codemirror_mode": {
    "name": "ipython",
    "version": 3
   },
   "file_extension": ".py",
   "mimetype": "text/x-python",
   "name": "python",
   "nbconvert_exporter": "python",
   "pygments_lexer": "ipython3",
   "version": "3.12.4"
  }
 },
 "nbformat": 4,
 "nbformat_minor": 5
}
