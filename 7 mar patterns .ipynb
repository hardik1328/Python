{
 "cells": [
  {
   "cell_type": "markdown",
   "id": "a820a5df-934d-495b-8241-20ec7b400d2a",
   "metadata": {},
   "source": [
    "# patterns"
   ]
  },
  {
   "cell_type": "code",
   "execution_count": 8,
   "id": "7dde6a69-6ab0-42c1-90af-7dc211b03492",
   "metadata": {},
   "outputs": [
    {
     "name": "stdout",
     "output_type": "stream",
     "text": [
      "\n",
      "* \n",
      "* * \n",
      "* * * \n",
      "* * * * \n",
      "* * * * * \n"
     ]
    }
   ],
   "source": [
    "for i in range(1,7):\n",
    "    for j in range(1,i):\n",
    "        print(\"*\",end = ' ')\n",
    "    print()"
   ]
  },
  {
   "cell_type": "code",
   "execution_count": 12,
   "id": "07178834-2dde-446d-b2c2-43e9ccc4a273",
   "metadata": {},
   "outputs": [
    {
     "name": "stdout",
     "output_type": "stream",
     "text": [
      "* * * * \n",
      "* * * \n",
      "* * \n",
      "* \n"
     ]
    }
   ],
   "source": [
    "for i in range(5,1,-1):\n",
    "    for j in range(1,i):\n",
    "        print(\"*\",end = ' ')\n",
    "    print()"
   ]
  },
  {
   "cell_type": "code",
   "execution_count": 28,
   "id": "4d71ee39-3391-4c89-86b5-65300d5ef705",
   "metadata": {},
   "outputs": [
    {
     "name": "stdout",
     "output_type": "stream",
     "text": [
      "* * * * \n",
      "* * * * \n",
      "* * * * \n",
      "* * * * \n"
     ]
    }
   ],
   "source": [
    "for i in range(1,5):\n",
    "    \n",
    "    for j in range(5,1,-1):\n",
    "        print(\"*\",end = ' ')\n",
    "    print()"
   ]
  },
  {
   "cell_type": "code",
   "execution_count": 32,
   "id": "c7663cb6-df86-4577-9cd2-148a7c696945",
   "metadata": {},
   "outputs": [
    {
     "name": "stdout",
     "output_type": "stream",
     "text": [
      "---*\n",
      "--**\n",
      "-***\n",
      "****\n"
     ]
    }
   ],
   "source": [
    "for i in range(1,5):\n",
    "    for j in range(i,4):\n",
    "        print(\"-\",end = '')\n",
    "    for k in range(1,i+1):\n",
    "        print(\"*\",end = '')\n",
    "    print()"
   ]
  },
  {
   "cell_type": "code",
   "execution_count": 110,
   "id": "05dae678-ef5c-4dee-8a36-ab73bcee9d0e",
   "metadata": {},
   "outputs": [
    {
     "name": "stdout",
     "output_type": "stream",
     "text": [
      "****\n",
      "-***\n",
      "--**\n",
      "---*\n"
     ]
    }
   ],
   "source": [
    "for i in range(1,5):\n",
    "    for j in range(1,i):\n",
    "        print(\"-\",end = '')\n",
    "    for k in range(i,5):  # (5,i,-1)\n",
    "        print(\"*\",end = '')\n",
    "    print()"
   ]
  },
  {
   "cell_type": "markdown",
   "id": "17c5826f-8e02-4c3c-b517-17c463cae8c7",
   "metadata": {},
   "source": [
    "# questions\n"
   ]
  },
  {
   "cell_type": "code",
   "execution_count": 115,
   "id": "440bc625-7770-4167-8b02-998a116b47b3",
   "metadata": {},
   "outputs": [
    {
     "name": "stdout",
     "output_type": "stream",
     "text": [
      "****\n",
      "***\n",
      "**\n",
      "*\n"
     ]
    }
   ],
   "source": [
    "for i in range(1,5):\n",
    "    for j in range(i,5):\n",
    "        print(\"*\",end = '')\n",
    "    print()\n",
    "\n"
   ]
  },
  {
   "cell_type": "code",
   "execution_count": 119,
   "id": "8d217bf8-10b5-414a-b45c-9a8c825aec49",
   "metadata": {},
   "outputs": [
    {
     "name": "stdout",
     "output_type": "stream",
     "text": [
      "\n",
      "*\n",
      "**\n",
      "***\n",
      "****\n",
      "*****\n"
     ]
    }
   ],
   "source": [
    "for i in range(1,7):\n",
    "    for j in range(1,i):\n",
    "        print(\"*\",end = '')\n",
    "    print()\n",
    "\n"
   ]
  },
  {
   "cell_type": "code",
   "execution_count": 125,
   "id": "59f99df1-3649-4cc9-8041-63372f0f5952",
   "metadata": {},
   "outputs": [
    {
     "name": "stdout",
     "output_type": "stream",
     "text": [
      "1\n",
      "22\n",
      "333\n",
      "4444\n"
     ]
    }
   ],
   "source": [
    "for i in range(1,5):\n",
    "    for j in range(1,i+1):\n",
    "        print(i,end = '')\n",
    "    print()\n",
    "\n"
   ]
  },
  {
   "cell_type": "code",
   "execution_count": 157,
   "id": "20bbcf8c-b96e-4b92-b1ac-e4ccd4b237bd",
   "metadata": {},
   "outputs": [
    {
     "name": "stdout",
     "output_type": "stream",
     "text": [
      "\n",
      "1\n",
      "23\n",
      "456\n",
      "78910\n"
     ]
    }
   ],
   "source": [
    "num = 1\n",
    "for i in range(1,6):\n",
    "    for j in range(1,i):\n",
    "        print(num,end = '')\n",
    "        num += 1\n",
    "    print()\n",
    "\n"
   ]
  },
  {
   "cell_type": "code",
   "execution_count": 151,
   "id": "eb04b37a-aaf2-40fd-857e-a10be8f5effc",
   "metadata": {},
   "outputs": [
    {
     "name": "stdout",
     "output_type": "stream",
     "text": [
      "A\n",
      "AB\n",
      "ABC\n",
      "ABCD\n"
     ]
    }
   ],
   "source": [
    "for  i in range(1,5):\n",
    "    x = 65\n",
    "    for j in range(1,i+1):\n",
    "        print(chr(x),end = \"\")\n",
    "        x+=1\n",
    "    print()"
   ]
  },
  {
   "cell_type": "code",
   "execution_count": 161,
   "id": "754be19d-0315-4db5-abda-b255ab0f39f4",
   "metadata": {},
   "outputs": [
    {
     "name": "stdout",
     "output_type": "stream",
     "text": [
      "1\n",
      "12\n",
      "123\n",
      "1234\n"
     ]
    }
   ],
   "source": [
    "for  i in range(1,5):\n",
    "    x = 1\n",
    "    \n",
    "    for j in range(1,i+1):\n",
    "        print(x,end = \"\")\n",
    "        x += 1\n",
    "       \n",
    "    print()"
   ]
  },
  {
   "cell_type": "code",
   "execution_count": 167,
   "id": "f23593d0-0472-4f5b-9554-51d0ab6efec4",
   "metadata": {},
   "outputs": [
    {
     "name": "stdout",
     "output_type": "stream",
     "text": [
      "ABCD\n",
      "ABC\n",
      "AB\n",
      "A\n"
     ]
    }
   ],
   "source": [
    "for  i in range(1,5):\n",
    "    x = 65\n",
    "    for j in range(i,5):\n",
    "        print(chr(x),end = \"\")\n",
    "        x+=1\n",
    "    print()"
   ]
  },
  {
   "cell_type": "code",
   "execution_count": 287,
   "id": "8ad0ae35-8201-4d60-b46d-168844649d35",
   "metadata": {},
   "outputs": [
    {
     "name": "stdout",
     "output_type": "stream",
     "text": [
      "12345\n",
      "1234\n",
      "123\n",
      "12\n",
      "1\n"
     ]
    }
   ],
   "source": [
    "for  i in range(6,1,-1):\n",
    "    \n",
    "    for j in range(1,i):\n",
    "        print(j,end = \"\")\n",
    "        \n",
    "    print()"
   ]
  },
  {
   "cell_type": "code",
   "execution_count": 213,
   "id": "130ea0a9-3afe-4ae4-94bb-d485f913b7d7",
   "metadata": {},
   "outputs": [
    {
     "name": "stdout",
     "output_type": "stream",
     "text": [
      "4321\n",
      "432\n",
      "43\n",
      "4\n",
      "\n",
      "\n"
     ]
    }
   ],
   "source": [
    "for  i in range(0,6):\n",
    "    \n",
    "    for j in range(4,i,-1):\n",
    "        print(j,end = \"\")\n",
    "        \n",
    "    print()"
   ]
  },
  {
   "cell_type": "code",
   "execution_count": 299,
   "id": "c280bfe0-e711-4840-82cd-d8cec5df809b",
   "metadata": {},
   "outputs": [
    {
     "name": "stdout",
     "output_type": "stream",
     "text": [
      "A\n",
      "AB\n",
      "ABC\n",
      "ABCD\n"
     ]
    }
   ],
   "source": [
    "for  i in range(5,1,-1):\n",
    "    x = 65\n",
    "    for j in range(i,6):\n",
    "        print(chr(x),end = \"\")\n",
    "        x+=1\n",
    "    print()"
   ]
  },
  {
   "cell_type": "code",
   "execution_count": 319,
   "id": "70c613f8-05a7-4d31-ada3-d2b644fab8c6",
   "metadata": {},
   "outputs": [
    {
     "name": "stdout",
     "output_type": "stream",
     "text": [
      "FEDCBA\n",
      "FEDCB\n",
      "FEDC\n",
      "FED\n",
      "FE\n",
      "F\n"
     ]
    }
   ],
   "source": [
    "for  i in range(1,7):                      \n",
    "    x = 70\n",
    "    for j in range(7,i,-1):\n",
    "        print(chr(x),end = \"\")\n",
    "        x-=1\n",
    "    print()"
   ]
  },
  {
   "cell_type": "code",
   "execution_count": 247,
   "id": "baba5f03-33fb-48d9-b14f-a6629e9ffc00",
   "metadata": {},
   "outputs": [
    {
     "name": "stdout",
     "output_type": "stream",
     "text": [
      "****\n",
      " ***\n",
      "  **\n",
      "   *\n"
     ]
    }
   ],
   "source": [
    "for i in range(1,5):\n",
    "    for j in range(1,i):\n",
    "        print(\" \",end = '')\n",
    "    for k in range(i,5):  \n",
    "        print(\"*\",end = '')\n",
    "    print()"
   ]
  },
  {
   "cell_type": "code",
   "execution_count": 325,
   "id": "657dad66-84d1-4e74-b316-8fdf6bd8dcab",
   "metadata": {},
   "outputs": [
    {
     "name": "stdout",
     "output_type": "stream",
     "text": [
      "DCBA\n",
      "DCB\n",
      "DC\n",
      "D\n",
      "\n"
     ]
    }
   ],
   "source": [
    "for  i in range(1,6):                      \n",
    "    x = 68\n",
    "    for j in range(5,i,-1):\n",
    "        print(chr(x),end = \"\")\n",
    "        x-=1\n",
    "    print()"
   ]
  },
  {
   "cell_type": "code",
   "execution_count": 331,
   "id": "e909457f-9325-4209-8e2c-dd0ac3829297",
   "metadata": {},
   "outputs": [
    {
     "name": "stdout",
     "output_type": "stream",
     "text": [
      "\n",
      "D\n",
      "DC\n",
      "DCB\n",
      "DCBA\n"
     ]
    }
   ],
   "source": [
    "for  i in range(6,1,-1):                      \n",
    "    x = 68\n",
    "    for j in range(i,6):\n",
    "        print(chr(x),end = \"\")\n",
    "        x-=1\n",
    "    print()"
   ]
  },
  {
   "cell_type": "code",
   "execution_count": 345,
   "id": "bed9379f-8f81-4def-a639-02b85d0280e2",
   "metadata": {},
   "outputs": [
    {
     "name": "stdout",
     "output_type": "stream",
     "text": [
      "A\n",
      "AB\n",
      "ABC\n",
      "ABCD\n"
     ]
    }
   ],
   "source": [
    "for  i in range(5,1,-1):                      \n",
    "    x = 65\n",
    "    for j in range(i,6):\n",
    "        print(chr(x),end = \"\")\n",
    "        x+=1\n",
    "    print()"
   ]
  },
  {
   "cell_type": "code",
   "execution_count": 349,
   "id": "5662b6a9-9dd5-4763-9f24-f44482a7137d",
   "metadata": {},
   "outputs": [
    {
     "name": "stdout",
     "output_type": "stream",
     "text": [
      "10 \n",
      "11 12 \n",
      "13 14 15 \n"
     ]
    }
   ],
   "source": [
    "num = 10\n",
    "for  i in range(1,4):\n",
    "    \n",
    "\n",
    "    for marks in range(1,i+1):\n",
    "        print(num,end = \" \")\n",
    "        num += 1\n",
    "    print()"
   ]
  },
  {
   "cell_type": "code",
   "execution_count": 359,
   "id": "4b8ba493-2f88-4e28-b031-d62bcc01c479",
   "metadata": {},
   "outputs": [
    {
     "name": "stdout",
     "output_type": "stream",
     "text": [
      "10 \n",
      "10 11 \n",
      "10 11 12 \n",
      "10 11 12 13 \n"
     ]
    }
   ],
   "source": [
    "\n",
    "for  i in range(1,5):\n",
    "    num = 10\n",
    "    \n",
    "\n",
    "    for marks in range(1,i+1):\n",
    "        print(num,end = \" \")\n",
    "        num += 1\n",
    "    print()"
   ]
  },
  {
   "cell_type": "code",
   "execution_count": 401,
   "id": "2817797e-baa8-48a3-9262-d728a93a0a4c",
   "metadata": {},
   "outputs": [
    {
     "name": "stdout",
     "output_type": "stream",
     "text": [
      "\n",
      "1\n",
      "12\n",
      "121\n",
      "1212\n",
      "12121\n"
     ]
    }
   ],
   "source": [
    "for i in range(1,7):\n",
    "    for j in range(1,i):\n",
    "        if(j%2==0):\n",
    "            print(\"2\",end = '')\n",
    "        else:\n",
    "            print(\"1\",end = '')\n",
    "        \n",
    "        \n",
    "            \n",
    "    print()"
   ]
  },
  {
   "cell_type": "code",
   "execution_count": 429,
   "id": "8c1613f0-b25d-4076-ac47-d236e4ffc182",
   "metadata": {},
   "outputs": [
    {
     "name": "stdout",
     "output_type": "stream",
     "text": [
      "\n",
      "F\n",
      "HJ\n",
      "LNP\n",
      "RTVX\n"
     ]
    }
   ],
   "source": [
    "x = 70\n",
    "for  i in range(6,1,-1):                      \n",
    "    \n",
    "    for j in range(i,6):\n",
    "        print(chr(x),end = \"\")\n",
    "        x+=2\n",
    "    print()"
   ]
  },
  {
   "cell_type": "code",
   "execution_count": null,
   "id": "6e38729c-8ec4-4170-a4d3-7b6a1d4582d9",
   "metadata": {},
   "outputs": [],
   "source": []
  }
 ],
 "metadata": {
  "kernelspec": {
   "display_name": "Python 3 (ipykernel)",
   "language": "python",
   "name": "python3"
  },
  "language_info": {
   "codemirror_mode": {
    "name": "ipython",
    "version": 3
   },
   "file_extension": ".py",
   "mimetype": "text/x-python",
   "name": "python",
   "nbconvert_exporter": "python",
   "pygments_lexer": "ipython3",
   "version": "3.12.4"
  }
 },
 "nbformat": 4,
 "nbformat_minor": 5
}
